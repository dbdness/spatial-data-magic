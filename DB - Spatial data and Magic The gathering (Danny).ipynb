{
 "cells": [
  {
   "cell_type": "markdown",
   "metadata": {},
   "source": [
    "# Assignment 8: Spatial data and Magic: The Gathering"
   ]
  },
  {
   "cell_type": "markdown",
   "metadata": {},
   "source": [
    "Author: Danny Nielsen"
   ]
  },
  {
   "cell_type": "markdown",
   "metadata": {},
   "source": [
    "**NB**: Throughout this notebook, I will put a limit on every large query result, so that this document won't be a pain to scroll through on a reader (like Github)."
   ]
  },
  {
   "cell_type": "markdown",
   "metadata": {},
   "source": [
    "### Notebook setup"
   ]
  },
  {
   "cell_type": "code",
   "execution_count": 1,
   "metadata": {},
   "outputs": [],
   "source": [
    "%load_ext sql"
   ]
  },
  {
   "cell_type": "code",
   "execution_count": 131,
   "metadata": {},
   "outputs": [],
   "source": [
    "%matplotlib inline\n",
    "import matplotlib.pyplot as plt"
   ]
  },
  {
   "cell_type": "code",
   "execution_count": 3,
   "metadata": {},
   "outputs": [
    {
     "data": {
      "text/plain": [
       "'Connected: appdev@appdev'"
      ]
     },
     "execution_count": 3,
     "metadata": {},
     "output_type": "execute_result"
    }
   ],
   "source": [
    "%sql postgresql://appdev@data:5432/appdev"
   ]
  },
  {
   "cell_type": "markdown",
   "metadata": {},
   "source": [
    "## 1) Geonames processing"
   ]
  },
  {
   "cell_type": "markdown",
   "metadata": {},
   "source": [
    "### A) Find the tuple with the largest population"
   ]
  },
  {
   "cell_type": "code",
   "execution_count": 146,
   "metadata": {},
   "outputs": [
    {
     "name": "stdout",
     "output_type": "stream",
     "text": [
      "Done.\n"
     ]
    },
    {
     "data": {
      "text/plain": [
       "[]"
      ]
     },
     "execution_count": 146,
     "metadata": {},
     "output_type": "execute_result"
    }
   ],
   "source": [
    "%%sql CREATE OR REPLACE VIEW largest_population AS \n",
    "SELECT name, longitude, latitude, MAX(population) AS population \n",
    "FROM geonames \n",
    "GROUP BY name, longitude, latitude \n",
    "ORDER BY population DESC \n",
    "LIMIT 1;"
   ]
  },
  {
   "cell_type": "code",
   "execution_count": 27,
   "metadata": {},
   "outputs": [
    {
     "name": "stdout",
     "output_type": "stream",
     "text": [
      "1 rows affected.\n"
     ]
    },
    {
     "data": {
      "text/html": [
       "<table>\n",
       "    <tr>\n",
       "        <th>name</th>\n",
       "        <th>longitude</th>\n",
       "        <th>latitude</th>\n",
       "        <th>population</th>\n",
       "    </tr>\n",
       "    <tr>\n",
       "        <td>Levant</td>\n",
       "        <td>36.0</td>\n",
       "        <td>34.0</td>\n",
       "        <td>44990000</td>\n",
       "    </tr>\n",
       "</table>"
      ],
      "text/plain": [
       "[('Levant', 36.0, 34.0, 44990000)]"
      ]
     },
     "execution_count": 27,
     "metadata": {},
     "output_type": "execute_result"
    }
   ],
   "source": [
    "%sql SELECT * FROM largest_population;"
   ]
  },
  {
   "cell_type": "markdown",
   "metadata": {},
   "source": [
    "### B) Now calculate the distance from all locations to the tuple above using the <-> function"
   ]
  },
  {
   "cell_type": "code",
   "execution_count": 47,
   "metadata": {},
   "outputs": [
    {
     "name": "stdout",
     "output_type": "stream",
     "text": [
      "10 rows affected.\n"
     ]
    },
    {
     "data": {
      "text/html": [
       "<table>\n",
       "    <tr>\n",
       "        <th>name</th>\n",
       "        <th>distance_from_tuple</th>\n",
       "    </tr>\n",
       "    <tr>\n",
       "        <td>Eckins Nunatak</td>\n",
       "        <td>243.041567580299</td>\n",
       "    </tr>\n",
       "    <tr>\n",
       "        <td>Nairn River</td>\n",
       "        <td>226.392811281631</td>\n",
       "    </tr>\n",
       "    <tr>\n",
       "        <td>Waikato</td>\n",
       "        <td>226.321369487677</td>\n",
       "    </tr>\n",
       "    <tr>\n",
       "        <td>Cox Peaks</td>\n",
       "        <td>224.32621893127</td>\n",
       "    </tr>\n",
       "    <tr>\n",
       "        <td>Tuvumatha</td>\n",
       "        <td>221.784518170228</td>\n",
       "    </tr>\n",
       "    <tr>\n",
       "        <td>Savusavu</td>\n",
       "        <td>221.778802715178</td>\n",
       "    </tr>\n",
       "    <tr>\n",
       "        <td>Vaua Creek</td>\n",
       "        <td>221.732030326899</td>\n",
       "    </tr>\n",
       "    <tr>\n",
       "        <td>Howe, Mount</td>\n",
       "        <td>221.675705901411</td>\n",
       "    </tr>\n",
       "    <tr>\n",
       "        <td>Muaidakewa Point</td>\n",
       "        <td>221.554254857319</td>\n",
       "    </tr>\n",
       "    <tr>\n",
       "        <td>Breckinridge Peak</td>\n",
       "        <td>221.550265350276</td>\n",
       "    </tr>\n",
       "</table>"
      ],
      "text/plain": [
       "[('Eckins Nunatak', 243.041567580299),\n",
       " ('Nairn River', 226.392811281631),\n",
       " ('Waikato', 226.321369487677),\n",
       " ('Cox Peaks', 224.32621893127),\n",
       " ('Tuvumatha', 221.784518170228),\n",
       " ('Savusavu', 221.778802715178),\n",
       " ('Vaua Creek', 221.732030326899),\n",
       " ('Howe, Mount', 221.675705901411),\n",
       " ('Muaidakewa Point', 221.554254857319),\n",
       " ('Breckinridge Peak', 221.550265350276)]"
      ]
     },
     "execution_count": 47,
     "metadata": {},
     "output_type": "execute_result"
    }
   ],
   "source": [
    "%%sql SELECT geonames.name, point(geonames.longitude, geonames.latitude) <-> point(largest_population.longitude, largest_population.latitude) \n",
    "AS distance_from_tuple \n",
    "FROM geonames, largest_population \n",
    "ORDER BY distance_from_tuple DESC\n",
    "LIMIT 10;"
   ]
  },
  {
   "cell_type": "markdown",
   "metadata": {},
   "source": [
    "### C) Now calculate the distance from all locations to the tuple above using the haversine distance"
   ]
  },
  {
   "cell_type": "markdown",
   "metadata": {},
   "source": [
    "Implementing the function."
   ]
  },
  {
   "cell_type": "code",
   "execution_count": 43,
   "metadata": {},
   "outputs": [
    {
     "name": "stdout",
     "output_type": "stream",
     "text": [
      "Done.\n"
     ]
    },
    {
     "data": {
      "text/plain": [
       "[]"
      ]
     },
     "execution_count": 43,
     "metadata": {},
     "output_type": "execute_result"
    }
   ],
   "source": [
    "%%sql CREATE OR REPLACE FUNCTION public.geodistance(alat double precision, alng double precision, blat double precision, blng double precision)\n",
    "  RETURNS double precision AS\n",
    "$BODY$\n",
    "SELECT asin(\n",
    "  sqrt(\n",
    "    sin(radians($3-$1)/2)^2 +\n",
    "    sin(radians($4-$2)/2)^2 *\n",
    "    cos(radians($1)) *\n",
    "    cos(radians($3))\n",
    "  )\n",
    ") * 7926.3352 AS distance;\n",
    "$BODY$\n",
    "  LANGUAGE sql IMMUTABLE\n",
    "  COST 100;"
   ]
  },
  {
   "cell_type": "code",
   "execution_count": 50,
   "metadata": {},
   "outputs": [
    {
     "name": "stdout",
     "output_type": "stream",
     "text": [
      "10 rows affected.\n"
     ]
    },
    {
     "data": {
      "text/html": [
       "<table>\n",
       "    <tr>\n",
       "        <th>name</th>\n",
       "        <th>distance_from_tuple</th>\n",
       "    </tr>\n",
       "    <tr>\n",
       "        <td>Vaiuru</td>\n",
       "        <td>11715.8987043352</td>\n",
       "    </tr>\n",
       "    <tr>\n",
       "        <td>Récif Tanai</td>\n",
       "        <td>11713.6888161383</td>\n",
       "    </tr>\n",
       "    <tr>\n",
       "        <td>Rivière Arepua</td>\n",
       "        <td>11670.2402692639</td>\n",
       "    </tr>\n",
       "    <tr>\n",
       "        <td>Teupukahaia</td>\n",
       "        <td>11442.0459098265</td>\n",
       "    </tr>\n",
       "    <tr>\n",
       "        <td>Hikueru</td>\n",
       "        <td>11309.5337147678</td>\n",
       "    </tr>\n",
       "    <tr>\n",
       "        <td>Mont Rauiri</td>\n",
       "        <td>11287.0849649269</td>\n",
       "    </tr>\n",
       "    <tr>\n",
       "        <td>Passe de Vaionifa</td>\n",
       "        <td>11284.0217418805</td>\n",
       "    </tr>\n",
       "    <tr>\n",
       "        <td>Taharoa</td>\n",
       "        <td>11280.1006183287</td>\n",
       "    </tr>\n",
       "    <tr>\n",
       "        <td>Passe de Maraa</td>\n",
       "        <td>11273.945244135</td>\n",
       "    </tr>\n",
       "    <tr>\n",
       "        <td>Toetoe</td>\n",
       "        <td>11271.7284378992</td>\n",
       "    </tr>\n",
       "</table>"
      ],
      "text/plain": [
       "[('Vaiuru', 11715.8987043352),\n",
       " ('Récif Tanai', 11713.6888161383),\n",
       " ('Rivière Arepua', 11670.2402692639),\n",
       " ('Teupukahaia', 11442.0459098265),\n",
       " ('Hikueru', 11309.5337147678),\n",
       " ('Mont Rauiri', 11287.0849649269),\n",
       " ('Passe de Vaionifa', 11284.0217418805),\n",
       " ('Taharoa', 11280.1006183287),\n",
       " ('Passe de Maraa', 11273.945244135),\n",
       " ('Toetoe', 11271.7284378992)]"
      ]
     },
     "execution_count": 50,
     "metadata": {},
     "output_type": "execute_result"
    }
   ],
   "source": [
    "%%sql SELECT geonames.name, geodistance(geonames.latitude, geonames.longitude, largest_population.latitude, largest_population.longitude)\n",
    "AS distance_from_tuple \n",
    "FROM geonames, largest_population \n",
    "ORDER BY distance_from_tuple DESC\n",
    "LIMIT 10;"
   ]
  },
  {
   "cell_type": "markdown",
   "metadata": {},
   "source": [
    "### D) Plot the latitude and longitude of the largest 1000 populations on a 2-D scatter plot"
   ]
  },
  {
   "cell_type": "code",
   "execution_count": 97,
   "metadata": {},
   "outputs": [
    {
     "name": "stdout",
     "output_type": "stream",
     "text": [
      "1000 rows affected.\n"
     ]
    }
   ],
   "source": [
    "latitude = %sql SELECT latitude, MAX(population) FROM geonames GROUP BY latitude ORDER BY MAX(population) LIMIT 1000;"
   ]
  },
  {
   "cell_type": "code",
   "execution_count": 98,
   "metadata": {},
   "outputs": [
    {
     "name": "stdout",
     "output_type": "stream",
     "text": [
      "1000 rows affected.\n"
     ]
    }
   ],
   "source": [
    "longitude = %sql SELECT longitude, MAX(population) FROM geonames GROUP BY longitude ORDER BY MAX(population) LIMIT 1000;"
   ]
  },
  {
   "cell_type": "code",
   "execution_count": 108,
   "metadata": {},
   "outputs": [
    {
     "data": {
      "text/plain": [
       "<matplotlib.collections.PathCollection at 0x7f845883de48>"
      ]
     },
     "execution_count": 108,
     "metadata": {},
     "output_type": "execute_result"
    },
    {
     "data": {
      "image/png": "[encoded data removed]",
      "text/plain": [
       "<matplotlib.figure.Figure at 0x7f8458a859e8>"
      ]
     },
     "metadata": {},
     "output_type": "display_data"
    }
   ],
   "source": [
    "plt.scatter(latitude, longitude)"
   ]
  },
  {
   "cell_type": "markdown",
   "metadata": {},
   "source": [
    "## 2) \"Magic: The Gathering\" JSON processing"
   ]
  },
  {
   "cell_type": "markdown",
   "metadata": {},
   "source": [
    "### A) Find all the cards that is made by Rob Alexander"
   ]
  },
  {
   "cell_type": "code",
   "execution_count": 148,
   "metadata": {},
   "outputs": [
    {
     "name": "stdout",
     "output_type": "stream",
     "text": [
      "10 rows affected.\n"
     ]
    },
    {
     "data": {
      "text/html": [
       "<table>\n",
       "    <tr>\n",
       "        <th>jsonb_pretty</th>\n",
       "    </tr>\n",
       "    <tr>\n",
       "        <td>{<br>    &quot;id&quot;: &quot;4a7bf234af44e07d9a159d4d89e96ce320919917&quot;,<br>    &quot;cmc&quot;: 6,<br>    &quot;name&quot;: &quot;Beacon of Immortality&quot;,<br>    &quot;text&quot;: &quot;Double target player&#x27;s life total. Shuffle Beacon of Immortality into its owner&#x27;s library.&quot;,<br>    &quot;type&quot;: &quot;Instant&quot;,<br>    &quot;types&quot;: [<br>        &quot;Instant&quot;<br>    ],<br>    &quot;artist&quot;: &quot;Rob Alexander&quot;,<br>    &quot;colors&quot;: [<br>        &quot;White&quot;<br>    ],<br>    &quot;flavor&quot;: &quot;The cave floods with light. A thousand rays shine forth and meld into one.&quot;,<br>    &quot;layout&quot;: &quot;normal&quot;,<br>    &quot;number&quot;: &quot;10&quot;,<br>    &quot;rarity&quot;: &quot;Rare&quot;,<br>    &quot;manaCost&quot;: &quot;{5}{W}&quot;,<br>    &quot;imageName&quot;: &quot;beacon of immortality&quot;,<br>    &quot;mciNumber&quot;: &quot;10&quot;,<br>    &quot;multiverseid&quot;: 130553,<br>    &quot;colorIdentity&quot;: [<br>        &quot;W&quot;<br>    ]<br>}</td>\n",
       "    </tr>\n",
       "    <tr>\n",
       "        <td>{<br>    &quot;id&quot;: &quot;9cea331c080c3bbc7987c6560f65e39e9d1ed34f&quot;,<br>    &quot;cmc&quot;: 5,<br>    &quot;name&quot;: &quot;Kavu Climber&quot;,<br>    &quot;text&quot;: &quot;When Kavu Climber enters the battlefield, draw a card.&quot;,<br>    &quot;type&quot;: &quot;Creature — Kavu&quot;,<br>    &quot;power&quot;: &quot;3&quot;,<br>    &quot;types&quot;: [<br>        &quot;Creature&quot;<br>    ],<br>    &quot;artist&quot;: &quot;Rob Alexander&quot;,<br>    &quot;colors&quot;: [<br>        &quot;Green&quot;<br>    ],<br>    &quot;flavor&quot;: &quot;\\&quot;There was a crack of branches, a rustle of leaves, then a tremendous roar. Our party had no chance as death descended from above.\\&quot;\\n—Taseen, elvish bard&quot;,<br>    &quot;layout&quot;: &quot;normal&quot;,<br>    &quot;number&quot;: &quot;273&quot;,<br>    &quot;rarity&quot;: &quot;Common&quot;,<br>    &quot;manaCost&quot;: &quot;{3}{G}{G}&quot;,<br>    &quot;subtypes&quot;: [<br>        &quot;Kavu&quot;<br>    ],<br>    &quot;imageName&quot;: &quot;kavu climber&quot;,<br>    &quot;mciNumber&quot;: &quot;273&quot;,<br>    &quot;toughness&quot;: &quot;3&quot;,<br>    &quot;multiverseid&quot;: 129511,<br>    &quot;colorIdentity&quot;: [<br>        &quot;G&quot;<br>    ]<br>}</td>\n",
       "    </tr>\n",
       "    <tr>\n",
       "        <td>{<br>    &quot;id&quot;: &quot;28cc7c79cca8939fd9661f7abfc6ca453715b75e&quot;,<br>    &quot;cmc&quot;: 0,<br>    &quot;name&quot;: &quot;Llanowar Wastes&quot;,<br>    &quot;text&quot;: &quot;{T}: Add {C} to your mana pool.\\n{T}: Add {B} or {G} to your mana pool. Llanowar Wastes deals 1 damage to you.&quot;,<br>    &quot;type&quot;: &quot;Land&quot;,<br>    &quot;types&quot;: [<br>        &quot;Land&quot;<br>    ],<br>    &quot;artist&quot;: &quot;Rob Alexander&quot;,<br>    &quot;layout&quot;: &quot;normal&quot;,<br>    &quot;number&quot;: &quot;355&quot;,<br>    &quot;rarity&quot;: &quot;Rare&quot;,<br>    &quot;imageName&quot;: &quot;llanowar wastes&quot;,<br>    &quot;mciNumber&quot;: &quot;355&quot;,<br>    &quot;multiverseid&quot;: 129627,<br>    &quot;colorIdentity&quot;: [<br>        &quot;B&quot;,<br>        &quot;G&quot;<br>    ]<br>}</td>\n",
       "    </tr>\n",
       "    <tr>\n",
       "        <td>{<br>    &quot;id&quot;: &quot;7a90b7ba6197f8774ed99ecf75ac9abb3e0c0f20&quot;,<br>    &quot;cmc&quot;: 0,<br>    &quot;name&quot;: &quot;Shivan Reef&quot;,<br>    &quot;text&quot;: &quot;{T}: Add {C} to your mana pool.\\n{T}: Add {U} or {R} to your mana pool. Shivan Reef deals 1 damage to you.&quot;,<br>    &quot;type&quot;: &quot;Land&quot;,<br>    &quot;types&quot;: [<br>        &quot;Land&quot;<br>    ],<br>    &quot;artist&quot;: &quot;Rob Alexander&quot;,<br>    &quot;layout&quot;: &quot;normal&quot;,<br>    &quot;number&quot;: &quot;357&quot;,<br>    &quot;rarity&quot;: &quot;Rare&quot;,<br>    &quot;imageName&quot;: &quot;shivan reef&quot;,<br>    &quot;mciNumber&quot;: &quot;357&quot;,<br>    &quot;multiverseid&quot;: 129731,<br>    &quot;colorIdentity&quot;: [<br>        &quot;U&quot;,<br>        &quot;R&quot;<br>    ]<br>}</td>\n",
       "    </tr>\n",
       "    <tr>\n",
       "        <td>{<br>    &quot;id&quot;: &quot;8d1035f151615c949d0645b70fe01d8ab4a3f796&quot;,<br>    &quot;cmc&quot;: 0,<br>    &quot;name&quot;: &quot;Sulfurous Springs&quot;,<br>    &quot;text&quot;: &quot;{T}: Add {C} to your mana pool.\\n{T}: Add {B} or {R} to your mana pool. Sulfurous Springs deals 1 damage to you.&quot;,<br>    &quot;type&quot;: &quot;Land&quot;,<br>    &quot;types&quot;: [<br>        &quot;Land&quot;<br>    ],<br>    &quot;artist&quot;: &quot;Rob Alexander&quot;,<br>    &quot;layout&quot;: &quot;normal&quot;,<br>    &quot;number&quot;: &quot;359&quot;,<br>    &quot;rarity&quot;: &quot;Rare&quot;,<br>    &quot;imageName&quot;: &quot;sulfurous springs&quot;,<br>    &quot;mciNumber&quot;: &quot;359&quot;,<br>    &quot;multiverseid&quot;: 129751,<br>    &quot;colorIdentity&quot;: [<br>        &quot;B&quot;,<br>        &quot;R&quot;<br>    ]<br>}</td>\n",
       "    </tr>\n",
       "    <tr>\n",
       "        <td>{<br>    &quot;id&quot;: &quot;c97103ab834aad9b3fb7d07c4fb563089f97fe87&quot;,<br>    &quot;cmc&quot;: 0,<br>    &quot;name&quot;: &quot;Treetop Village&quot;,<br>    &quot;text&quot;: &quot;Treetop Village enters the battlefield tapped.\\n{T}: Add {G} to your mana pool.\\n{1}{G}: Treetop Village becomes a 3/3 green Ape creature with trample until end of turn. It&#x27;s still a land. (If it would assign enough damage to its blockers to destroy them, you may have it assign the rest of its damage to defending player or planeswalker.)&quot;,<br>    &quot;type&quot;: &quot;Land&quot;,<br>    &quot;types&quot;: [<br>        &quot;Land&quot;<br>    ],<br>    &quot;artist&quot;: &quot;Rob Alexander&quot;,<br>    &quot;layout&quot;: &quot;normal&quot;,<br>    &quot;number&quot;: &quot;361&quot;,<br>    &quot;rarity&quot;: &quot;Uncommon&quot;,<br>    &quot;imageName&quot;: &quot;treetop village&quot;,<br>    &quot;mciNumber&quot;: &quot;361&quot;,<br>    &quot;multiverseid&quot;: 106455,<br>    &quot;colorIdentity&quot;: [<br>        &quot;G&quot;<br>    ]<br>}</td>\n",
       "    </tr>\n",
       "    <tr>\n",
       "        <td>{<br>    &quot;id&quot;: &quot;24a47bf9cb4596246501294e7127bf74e082bc1d&quot;,<br>    &quot;cmc&quot;: 0,<br>    &quot;name&quot;: &quot;Plains&quot;,<br>    &quot;type&quot;: &quot;Basic Land — Plains&quot;,<br>    &quot;types&quot;: [<br>        &quot;Land&quot;<br>    ],<br>    &quot;artist&quot;: &quot;Rob Alexander&quot;,<br>    &quot;layout&quot;: &quot;normal&quot;,<br>    &quot;number&quot;: &quot;364&quot;,<br>    &quot;rarity&quot;: &quot;Basic Land&quot;,<br>    &quot;subtypes&quot;: [<br>        &quot;Plains&quot;<br>    ],<br>    &quot;imageName&quot;: &quot;plains1&quot;,<br>    &quot;watermark&quot;: &quot;White&quot;,<br>    &quot;supertypes&quot;: [<br>        &quot;Basic&quot;<br>    ],<br>    &quot;variations&quot;: [<br>        129682,<br>        129683,<br>        129681<br>    ],<br>    &quot;multiverseid&quot;: 129680,<br>    &quot;colorIdentity&quot;: [<br>        &quot;W&quot;<br>    ]<br>}</td>\n",
       "    </tr>\n",
       "    <tr>\n",
       "        <td>{<br>    &quot;id&quot;: &quot;be5e30798e4f8b9b6f6e6a8dd2e30bf86bb04b94&quot;,<br>    &quot;cmc&quot;: 0,<br>    &quot;name&quot;: &quot;Forest&quot;,<br>    &quot;type&quot;: &quot;Basic Land — Forest&quot;,<br>    &quot;types&quot;: [<br>        &quot;Land&quot;<br>    ],<br>    &quot;artist&quot;: &quot;Rob Alexander&quot;,<br>    &quot;layout&quot;: &quot;normal&quot;,<br>    &quot;number&quot;: &quot;382&quot;,<br>    &quot;rarity&quot;: &quot;Basic Land&quot;,<br>    &quot;subtypes&quot;: [<br>        &quot;Forest&quot;<br>    ],<br>    &quot;imageName&quot;: &quot;forest3&quot;,<br>    &quot;watermark&quot;: &quot;Green&quot;,<br>    &quot;supertypes&quot;: [<br>        &quot;Basic&quot;<br>    ],<br>    &quot;variations&quot;: [<br>        129559,<br>        129562,<br>        129560<br>    ],<br>    &quot;multiverseid&quot;: 129561,<br>    &quot;colorIdentity&quot;: [<br>        &quot;G&quot;<br>    ]<br>}</td>\n",
       "    </tr>\n",
       "    <tr>\n",
       "        <td>{<br>    &quot;id&quot;: &quot;4c3d9f2b7086021880c8268f9def8f7548116d17&quot;,<br>    &quot;cmc&quot;: 0,<br>    &quot;name&quot;: &quot;Badlands&quot;,<br>    &quot;text&quot;: &quot;({T}: Add {B} or {R} to your mana pool.)&quot;,<br>    &quot;type&quot;: &quot;Land — Swamp Mountain&quot;,<br>    &quot;types&quot;: [<br>        &quot;Land&quot;<br>    ],<br>    &quot;artist&quot;: &quot;Rob Alexander&quot;,<br>    &quot;layout&quot;: &quot;normal&quot;,<br>    &quot;rarity&quot;: &quot;Rare&quot;,<br>    &quot;reserved&quot;: true,<br>    &quot;subtypes&quot;: [<br>        &quot;Swamp&quot;,<br>        &quot;Mountain&quot;<br>    ],<br>    &quot;imageName&quot;: &quot;badlands&quot;,<br>    &quot;mciNumber&quot;: &quot;278&quot;,<br>    &quot;multiverseid&quot;: 878,<br>    &quot;colorIdentity&quot;: [<br>        &quot;B&quot;,<br>        &quot;R&quot;<br>    ]<br>}</td>\n",
       "    </tr>\n",
       "    <tr>\n",
       "        <td>{<br>    &quot;id&quot;: &quot;3ad1eecb97909f6d45763cc87c07fa23cf574cf7&quot;,<br>    &quot;cmc&quot;: 1,<br>    &quot;name&quot;: &quot;Lance&quot;,<br>    &quot;text&quot;: &quot;Enchant creature\\nEnchanted creature has first strike.&quot;,<br>    &quot;type&quot;: &quot;Enchantment — Aura&quot;,<br>    &quot;types&quot;: [<br>        &quot;Enchantment&quot;<br>    ],<br>    &quot;artist&quot;: &quot;Rob Alexander&quot;,<br>    &quot;colors&quot;: [<br>        &quot;White&quot;<br>    ],<br>    &quot;layout&quot;: &quot;normal&quot;,<br>    &quot;rarity&quot;: &quot;Uncommon&quot;,<br>    &quot;manaCost&quot;: &quot;{W}&quot;,<br>    &quot;subtypes&quot;: [<br>        &quot;Aura&quot;<br>    ],<br>    &quot;imageName&quot;: &quot;lance&quot;,<br>    &quot;mciNumber&quot;: &quot;212&quot;,<br>    &quot;multiverseid&quot;: 856,<br>    &quot;colorIdentity&quot;: [<br>        &quot;W&quot;<br>    ]<br>}</td>\n",
       "    </tr>\n",
       "</table>"
      ],
      "text/plain": [
       "[('{\\n    \"id\": \"4a7bf234af44e07d9a159d4d89e96ce320919917\",\\n    \"cmc\": 6,\\n    \"name\": \"Beacon of Immortality\",\\n    \"text\": \"Double target player\\'s l ... (393 characters truncated) ... }{W}\",\\n    \"imageName\": \"beacon of immortality\",\\n    \"mciNumber\": \"10\",\\n    \"multiverseid\": 130553,\\n    \"colorIdentity\": [\\n        \"W\"\\n    ]\\n}',),\n",
       " ('{\\n    \"id\": \"9cea331c080c3bbc7987c6560f65e39e9d1ed34f\",\\n    \"cmc\": 5,\\n    \"name\": \"Kavu Climber\",\\n    \"text\": \"When Kavu Climber enters the battl ... (522 characters truncated) ... ageName\": \"kavu climber\",\\n    \"mciNumber\": \"273\",\\n    \"toughness\": \"3\",\\n    \"multiverseid\": 129511,\\n    \"colorIdentity\": [\\n        \"G\"\\n    ]\\n}',),\n",
       " ('{\\n    \"id\": \"28cc7c79cca8939fd9661f7abfc6ca453715b75e\",\\n    \"cmc\": 0,\\n    \"name\": \"Llanowar Wastes\",\\n    \"text\": \"{T}: Add {C} to your mana pool. ... (248 characters truncated) ...    \"imageName\": \"llanowar wastes\",\\n    \"mciNumber\": \"355\",\\n    \"multiverseid\": 129627,\\n    \"colorIdentity\": [\\n        \"B\",\\n        \"G\"\\n    ]\\n}',),\n",
       " ('{\\n    \"id\": \"7a90b7ba6197f8774ed99ecf75ac9abb3e0c0f20\",\\n    \"cmc\": 0,\\n    \"name\": \"Shivan Reef\",\\n    \"text\": \"{T}: Add {C} to your mana pool.\\\\n{ ... (236 characters truncated) ... ,\\n    \"imageName\": \"shivan reef\",\\n    \"mciNumber\": \"357\",\\n    \"multiverseid\": 129731,\\n    \"colorIdentity\": [\\n        \"U\",\\n        \"R\"\\n    ]\\n}',),\n",
       " ('{\\n    \"id\": \"8d1035f151615c949d0645b70fe01d8ab4a3f796\",\\n    \"cmc\": 0,\\n    \"name\": \"Sulfurous Springs\",\\n    \"text\": \"{T}: Add {C} to your mana poo ... (254 characters truncated) ...  \"imageName\": \"sulfurous springs\",\\n    \"mciNumber\": \"359\",\\n    \"multiverseid\": 129751,\\n    \"colorIdentity\": [\\n        \"B\",\\n        \"R\"\\n    ]\\n}',),\n",
       " ('{\\n    \"id\": \"c97103ab834aad9b3fb7d07c4fb563089f97fe87\",\\n    \"cmc\": 0,\\n    \"name\": \"Treetop Village\",\\n    \"text\": \"Treetop Village enters the batt ... (469 characters truncated) ... \"Uncommon\",\\n    \"imageName\": \"treetop village\",\\n    \"mciNumber\": \"361\",\\n    \"multiverseid\": 106455,\\n    \"colorIdentity\": [\\n        \"G\"\\n    ]\\n}',),\n",
       " ('{\\n    \"id\": \"24a47bf9cb4596246501294e7127bf74e082bc1d\",\\n    \"cmc\": 0,\\n    \"name\": \"Plains\",\\n    \"type\": \"Basic Land — Plains\",\\n    \"types\": [\\n  ... (282 characters truncated) ... \"variations\": [\\n        129682,\\n        129683,\\n        129681\\n    ],\\n    \"multiverseid\": 129680,\\n    \"colorIdentity\": [\\n        \"W\"\\n    ]\\n}',),\n",
       " ('{\\n    \"id\": \"be5e30798e4f8b9b6f6e6a8dd2e30bf86bb04b94\",\\n    \"cmc\": 0,\\n    \"name\": \"Forest\",\\n    \"type\": \"Basic Land — Forest\",\\n    \"types\": [\\n  ... (282 characters truncated) ... \"variations\": [\\n        129559,\\n        129562,\\n        129560\\n    ],\\n    \"multiverseid\": 129561,\\n    \"colorIdentity\": [\\n        \"G\"\\n    ]\\n}',),\n",
       " ('{\\n    \"id\": \"4c3d9f2b7086021880c8268f9def8f7548116d17\",\\n    \"cmc\": 0,\\n    \"name\": \"Badlands\",\\n    \"text\": \"({T}: Add {B} or {R} to your mana pool ... (243 characters truncated) ... n    ],\\n    \"imageName\": \"badlands\",\\n    \"mciNumber\": \"278\",\\n    \"multiverseid\": 878,\\n    \"colorIdentity\": [\\n        \"B\",\\n        \"R\"\\n    ]\\n}',),\n",
       " ('{\\n    \"id\": \"3ad1eecb97909f6d45763cc87c07fa23cf574cf7\",\\n    \"cmc\": 1,\\n    \"name\": \"Lance\",\\n    \"text\": \"Enchant creature\\\\nEnchanted creature has ... (267 characters truncated) ... \\n        \"Aura\"\\n    ],\\n    \"imageName\": \"lance\",\\n    \"mciNumber\": \"212\",\\n    \"multiverseid\": 856,\\n    \"colorIdentity\": [\\n        \"W\"\\n    ]\\n}',)]"
      ]
     },
     "execution_count": 148,
     "metadata": {},
     "output_type": "execute_result"
    }
   ],
   "source": [
    "%sql SELECT jsonb_pretty(data) FROM cards WHERE data @> '{\"artist\":\"Rob Alexander\"}' LIMIT 10;"
   ]
  },
  {
   "cell_type": "markdown",
   "metadata": {},
   "source": [
    "### B) Find all the cards that have the subtype \"Human\""
   ]
  },
  {
   "cell_type": "code",
   "execution_count": 147,
   "metadata": {},
   "outputs": [
    {
     "name": "stdout",
     "output_type": "stream",
     "text": [
      "10 rows affected.\n"
     ]
    },
    {
     "data": {
      "text/html": [
       "<table>\n",
       "    <tr>\n",
       "        <th>jsonb_pretty</th>\n",
       "    </tr>\n",
       "    <tr>\n",
       "        <td>{<br>    &quot;id&quot;: &quot;ab1ab474019e4e76c66e2b524d354cb7c3212616&quot;,<br>    &quot;cmc&quot;: 7,<br>    &quot;name&quot;: &quot;Ancestor&#x27;s Chosen&quot;,<br>    &quot;text&quot;: &quot;First strike (This creature deals combat damage before creatures without first strike.)\\nWhen Ancestor&#x27;s Chosen enters the battlefield, you gain 1 life for each card in your graveyard.&quot;,<br>    &quot;type&quot;: &quot;Creature — Human Cleric&quot;,<br>    &quot;power&quot;: &quot;4&quot;,<br>    &quot;types&quot;: [<br>        &quot;Creature&quot;<br>    ],<br>    &quot;artist&quot;: &quot;Pete Venters&quot;,<br>    &quot;colors&quot;: [<br>        &quot;White&quot;<br>    ],<br>    &quot;flavor&quot;: &quot;\\&quot;The will of all, by my hand done.\\&quot;&quot;,<br>    &quot;layout&quot;: &quot;normal&quot;,<br>    &quot;number&quot;: &quot;1&quot;,<br>    &quot;rarity&quot;: &quot;Uncommon&quot;,<br>    &quot;manaCost&quot;: &quot;{5}{W}{W}&quot;,<br>    &quot;subtypes&quot;: [<br>        &quot;Human&quot;,<br>        &quot;Cleric&quot;<br>    ],<br>    &quot;imageName&quot;: &quot;ancestor&#x27;s chosen&quot;,<br>    &quot;mciNumber&quot;: &quot;1&quot;,<br>    &quot;toughness&quot;: &quot;4&quot;,<br>    &quot;multiverseid&quot;: 130550,<br>    &quot;colorIdentity&quot;: [<br>        &quot;W&quot;<br>    ]<br>}</td>\n",
       "    </tr>\n",
       "    <tr>\n",
       "        <td>{<br>    &quot;id&quot;: &quot;d3488c0a916bd922856473155a8b49ec23fc2217&quot;,<br>    &quot;cmc&quot;: 4,<br>    &quot;name&quot;: &quot;Ballista Squad&quot;,<br>    &quot;text&quot;: &quot;{X}{W}, {T}: Ballista Squad deals X damage to target attacking or blocking creature.&quot;,<br>    &quot;type&quot;: &quot;Creature — Human Rebel&quot;,<br>    &quot;power&quot;: &quot;2&quot;,<br>    &quot;types&quot;: [<br>        &quot;Creature&quot;<br>    ],<br>    &quot;artist&quot;: &quot;Matthew D. Wilson&quot;,<br>    &quot;colors&quot;: [<br>        &quot;White&quot;<br>    ],<br>    &quot;flavor&quot;: &quot;The perfect antidote for a tightly packed formation.&quot;,<br>    &quot;layout&quot;: &quot;normal&quot;,<br>    &quot;number&quot;: &quot;8&quot;,<br>    &quot;rarity&quot;: &quot;Uncommon&quot;,<br>    &quot;manaCost&quot;: &quot;{3}{W}&quot;,<br>    &quot;subtypes&quot;: [<br>        &quot;Human&quot;,<br>        &quot;Rebel&quot;<br>    ],<br>    &quot;imageName&quot;: &quot;ballista squad&quot;,<br>    &quot;mciNumber&quot;: &quot;8&quot;,<br>    &quot;toughness&quot;: &quot;2&quot;,<br>    &quot;multiverseid&quot;: 129477,<br>    &quot;colorIdentity&quot;: [<br>        &quot;W&quot;<br>    ]<br>}</td>\n",
       "    </tr>\n",
       "    <tr>\n",
       "        <td>{<br>    &quot;id&quot;: &quot;29c46fca29e5de01dba3bbf05393325bc9132735&quot;,<br>    &quot;cmc&quot;: 3,<br>    &quot;name&quot;: &quot;Benalish Knight&quot;,<br>    &quot;text&quot;: &quot;Flash (You may cast this spell any time you could cast an instant.)\\nFirst strike (This creature deals combat damage before creatures without first strike.)&quot;,<br>    &quot;type&quot;: &quot;Creature — Human Knight&quot;,<br>    &quot;power&quot;: &quot;2&quot;,<br>    &quot;types&quot;: [<br>        &quot;Creature&quot;<br>    ],<br>    &quot;artist&quot;: &quot;Zoltan Boros &amp; Gabor Szikszai&quot;,<br>    &quot;colors&quot;: [<br>        &quot;White&quot;<br>    ],<br>    &quot;flavor&quot;: &quot;\\&quot;We called them &#x27;armored lightning.&#x27;\\&quot;\\n—Gerrard of the Weatherlight&quot;,<br>    &quot;layout&quot;: &quot;normal&quot;,<br>    &quot;number&quot;: &quot;11&quot;,<br>    &quot;rarity&quot;: &quot;Common&quot;,<br>    &quot;manaCost&quot;: &quot;{2}{W}&quot;,<br>    &quot;subtypes&quot;: [<br>        &quot;Human&quot;,<br>        &quot;Knight&quot;<br>    ],<br>    &quot;imageName&quot;: &quot;benalish knight&quot;,<br>    &quot;mciNumber&quot;: &quot;11&quot;,<br>    &quot;toughness&quot;: &quot;2&quot;,<br>    &quot;multiverseid&quot;: 136279,<br>    &quot;colorIdentity&quot;: [<br>        &quot;W&quot;<br>    ]<br>}</td>\n",
       "    </tr>\n",
       "    <tr>\n",
       "        <td>{<br>    &quot;id&quot;: &quot;e8b8dea65daf4e9070cce5de62bdbea0bf36d47c&quot;,<br>    &quot;cmc&quot;: 4,<br>    &quot;name&quot;: &quot;Cho-Manno, Revolutionary&quot;,<br>    &quot;text&quot;: &quot;Prevent all damage that would be dealt to Cho-Manno, Revolutionary.&quot;,<br>    &quot;type&quot;: &quot;Legendary Creature — Human Rebel&quot;,<br>    &quot;power&quot;: &quot;2&quot;,<br>    &quot;types&quot;: [<br>        &quot;Creature&quot;<br>    ],<br>    &quot;artist&quot;: &quot;Steven Belledin&quot;,<br>    &quot;colors&quot;: [<br>        &quot;White&quot;<br>    ],<br>    &quot;flavor&quot;: &quot;\\&quot;Mercadia&#x27;s masks can no longer hide the truth. Our day has come at last.\\&quot;&quot;,<br>    &quot;layout&quot;: &quot;normal&quot;,<br>    &quot;number&quot;: &quot;12&quot;,<br>    &quot;rarity&quot;: &quot;Rare&quot;,<br>    &quot;manaCost&quot;: &quot;{2}{W}{W}&quot;,<br>    &quot;subtypes&quot;: [<br>        &quot;Human&quot;,<br>        &quot;Rebel&quot;<br>    ],<br>    &quot;imageName&quot;: &quot;cho-manno, revolutionary&quot;,<br>    &quot;mciNumber&quot;: &quot;12&quot;,<br>    &quot;toughness&quot;: &quot;2&quot;,<br>    &quot;supertypes&quot;: [<br>        &quot;Legendary&quot;<br>    ],<br>    &quot;multiverseid&quot;: 130554,<br>    &quot;colorIdentity&quot;: [<br>        &quot;W&quot;<br>    ]<br>}</td>\n",
       "    </tr>\n",
       "    <tr>\n",
       "        <td>{<br>    &quot;id&quot;: &quot;80a6b907fc380ed97615e8abc0fe6071c4ceef67&quot;,<br>    &quot;cmc&quot;: 3,<br>    &quot;name&quot;: &quot;Field Marshal&quot;,<br>    &quot;text&quot;: &quot;Other Soldier creatures get +1/+1 and have first strike. (They deal combat damage before creatures without first strike.)&quot;,<br>    &quot;type&quot;: &quot;Creature — Human Soldier&quot;,<br>    &quot;power&quot;: &quot;2&quot;,<br>    &quot;types&quot;: [<br>        &quot;Creature&quot;<br>    ],<br>    &quot;artist&quot;: &quot;Stephen Tappin&quot;,<br>    &quot;colors&quot;: [<br>        &quot;White&quot;<br>    ],<br>    &quot;flavor&quot;: &quot;He is the only one who sees the patterns in the overlapping maps and conflicting reports.&quot;,<br>    &quot;layout&quot;: &quot;normal&quot;,<br>    &quot;number&quot;: &quot;15&quot;,<br>    &quot;rarity&quot;: &quot;Rare&quot;,<br>    &quot;manaCost&quot;: &quot;{1}{W}{W}&quot;,<br>    &quot;subtypes&quot;: [<br>        &quot;Human&quot;,<br>        &quot;Soldier&quot;<br>    ],<br>    &quot;imageName&quot;: &quot;field marshal&quot;,<br>    &quot;mciNumber&quot;: &quot;15&quot;,<br>    &quot;toughness&quot;: &quot;2&quot;,<br>    &quot;multiverseid&quot;: 135258,<br>    &quot;colorIdentity&quot;: [<br>        &quot;W&quot;<br>    ]<br>}</td>\n",
       "    </tr>\n",
       "    <tr>\n",
       "        <td>{<br>    &quot;id&quot;: &quot;7879b835a2c3d6516515d03bd3a3894dceee1812&quot;,<br>    &quot;cmc&quot;: 1,<br>    &quot;name&quot;: &quot;Honor Guard&quot;,<br>    &quot;text&quot;: &quot;{W}: Honor Guard gets +0/+1 until end of turn.&quot;,<br>    &quot;type&quot;: &quot;Creature — Human Soldier&quot;,<br>    &quot;power&quot;: &quot;1&quot;,<br>    &quot;types&quot;: [<br>        &quot;Creature&quot;<br>    ],<br>    &quot;artist&quot;: &quot;Dan Dos Santos&quot;,<br>    &quot;colors&quot;: [<br>        &quot;White&quot;<br>    ],<br>    &quot;flavor&quot;: &quot;The strength of one. The courage of ten.&quot;,<br>    &quot;layout&quot;: &quot;normal&quot;,<br>    &quot;number&quot;: &quot;23&quot;,<br>    &quot;rarity&quot;: &quot;Common&quot;,<br>    &quot;manaCost&quot;: &quot;{W}&quot;,<br>    &quot;subtypes&quot;: [<br>        &quot;Human&quot;,<br>        &quot;Soldier&quot;<br>    ],<br>    &quot;imageName&quot;: &quot;honor guard&quot;,<br>    &quot;mciNumber&quot;: &quot;23&quot;,<br>    &quot;toughness&quot;: &quot;1&quot;,<br>    &quot;multiverseid&quot;: 129595,<br>    &quot;colorIdentity&quot;: [<br>        &quot;W&quot;<br>    ]<br>}</td>\n",
       "    </tr>\n",
       "    <tr>\n",
       "        <td>{<br>    &quot;id&quot;: &quot;55932565b6905650e67e784b7cf0df63990e9851&quot;,<br>    &quot;cmc&quot;: 1,<br>    &quot;name&quot;: &quot;Icatian Priest&quot;,<br>    &quot;text&quot;: &quot;{1}{W}{W}: Target creature gets +1/+1 until end of turn.&quot;,<br>    &quot;type&quot;: &quot;Creature — Human Cleric&quot;,<br>    &quot;power&quot;: &quot;1&quot;,<br>    &quot;types&quot;: [<br>        &quot;Creature&quot;<br>    ],<br>    &quot;artist&quot;: &quot;Stephen Tappin&quot;,<br>    &quot;colors&quot;: [<br>        &quot;White&quot;<br>    ],<br>    &quot;flavor&quot;: &quot;Grelden knelt and felt the cool, dry hand of the priest on his brow. Hours later, when his wits returned, he was covered in his enemies&#x27; blood on the field of victory.&quot;,<br>    &quot;layout&quot;: &quot;normal&quot;,<br>    &quot;number&quot;: &quot;24&quot;,<br>    &quot;rarity&quot;: &quot;Uncommon&quot;,<br>    &quot;manaCost&quot;: &quot;{W}&quot;,<br>    &quot;subtypes&quot;: [<br>        &quot;Human&quot;,<br>        &quot;Cleric&quot;<br>    ],<br>    &quot;imageName&quot;: &quot;icatian priest&quot;,<br>    &quot;mciNumber&quot;: &quot;24&quot;,<br>    &quot;toughness&quot;: &quot;1&quot;,<br>    &quot;multiverseid&quot;: 132123,<br>    &quot;colorIdentity&quot;: [<br>        &quot;W&quot;<br>    ]<br>}</td>\n",
       "    </tr>\n",
       "    <tr>\n",
       "        <td>{<br>    &quot;id&quot;: &quot;bc1e197c295bc12cc1b392a11b94782f1396b263&quot;,<br>    &quot;cmc&quot;: 5,<br>    &quot;name&quot;: &quot;Kjeldoran Royal Guard&quot;,<br>    &quot;text&quot;: &quot;{T}: All combat damage that would be dealt to you by unblocked creatures this turn is dealt to Kjeldoran Royal Guard instead.&quot;,<br>    &quot;type&quot;: &quot;Creature — Human Soldier&quot;,<br>    &quot;power&quot;: &quot;2&quot;,<br>    &quot;types&quot;: [<br>        &quot;Creature&quot;<br>    ],<br>    &quot;artist&quot;: &quot;Carl Critchlow&quot;,<br>    &quot;colors&quot;: [<br>        &quot;White&quot;<br>    ],<br>    &quot;flavor&quot;: &quot;Upon the frozen tundra stand the Kjeldoran Royal Guard, pikes raised, with the king&#x27;s oath upon their lips.&quot;,<br>    &quot;layout&quot;: &quot;normal&quot;,<br>    &quot;number&quot;: &quot;25&quot;,<br>    &quot;rarity&quot;: &quot;Rare&quot;,<br>    &quot;manaCost&quot;: &quot;{3}{W}{W}&quot;,<br>    &quot;subtypes&quot;: [<br>        &quot;Human&quot;,<br>        &quot;Soldier&quot;<br>    ],<br>    &quot;imageName&quot;: &quot;kjeldoran royal guard&quot;,<br>    &quot;mciNumber&quot;: &quot;25&quot;,<br>    &quot;toughness&quot;: &quot;5&quot;,<br>    &quot;multiverseid&quot;: 130551,<br>    &quot;colorIdentity&quot;: [<br>        &quot;W&quot;<br>    ]<br>}</td>\n",
       "    </tr>\n",
       "    <tr>\n",
       "        <td>{<br>    &quot;id&quot;: &quot;e25120395df829af067675f1582ae946543094e2&quot;,<br>    &quot;cmc&quot;: 1,<br>    &quot;name&quot;: &quot;Loyal Sentry&quot;,<br>    &quot;text&quot;: &quot;When Loyal Sentry blocks a creature, destroy that creature and Loyal Sentry.&quot;,<br>    &quot;type&quot;: &quot;Creature — Human Soldier&quot;,<br>    &quot;power&quot;: &quot;1&quot;,<br>    &quot;types&quot;: [<br>        &quot;Creature&quot;<br>    ],<br>    &quot;artist&quot;: &quot;Michael Sutfin&quot;,<br>    &quot;colors&quot;: [<br>        &quot;White&quot;<br>    ],<br>    &quot;flavor&quot;: &quot;\\&quot;My cause is simple: To stop you, at any cost, from ever seeing the inside of this keep.\\&quot;&quot;,<br>    &quot;layout&quot;: &quot;normal&quot;,<br>    &quot;number&quot;: &quot;27&quot;,<br>    &quot;rarity&quot;: &quot;Rare&quot;,<br>    &quot;manaCost&quot;: &quot;{W}&quot;,<br>    &quot;subtypes&quot;: [<br>        &quot;Human&quot;,<br>        &quot;Soldier&quot;<br>    ],<br>    &quot;imageName&quot;: &quot;loyal sentry&quot;,<br>    &quot;mciNumber&quot;: &quot;27&quot;,<br>    &quot;toughness&quot;: &quot;1&quot;,<br>    &quot;multiverseid&quot;: 129798,<br>    &quot;colorIdentity&quot;: [<br>        &quot;W&quot;<br>    ]<br>}</td>\n",
       "    </tr>\n",
       "    <tr>\n",
       "        <td>{<br>    &quot;id&quot;: &quot;f0bd8f9ffd23760499a421ca4cd2f211130542b8&quot;,<br>    &quot;cmc&quot;: 3,<br>    &quot;name&quot;: &quot;Nomad Mythmaker&quot;,<br>    &quot;text&quot;: &quot;{W}, {T}: Put target Aura card from a graveyard onto the battlefield under your control attached to a creature you control.&quot;,<br>    &quot;type&quot;: &quot;Creature — Human Nomad Cleric&quot;,<br>    &quot;power&quot;: &quot;2&quot;,<br>    &quot;types&quot;: [<br>        &quot;Creature&quot;<br>    ],<br>    &quot;artist&quot;: &quot;Darrell Riche&quot;,<br>    &quot;colors&quot;: [<br>        &quot;White&quot;<br>    ],<br>    &quot;flavor&quot;: &quot;On the wild steppes, history vanishes in the dust. Only the mythmakers remain to say what was, and is, and will be.&quot;,<br>    &quot;layout&quot;: &quot;normal&quot;,<br>    &quot;number&quot;: &quot;30&quot;,<br>    &quot;rarity&quot;: &quot;Rare&quot;,<br>    &quot;manaCost&quot;: &quot;{2}{W}&quot;,<br>    &quot;subtypes&quot;: [<br>        &quot;Human&quot;,<br>        &quot;Nomad&quot;,<br>        &quot;Cleric&quot;<br>    ],<br>    &quot;imageName&quot;: &quot;nomad mythmaker&quot;,<br>    &quot;mciNumber&quot;: &quot;30&quot;,<br>    &quot;toughness&quot;: &quot;2&quot;,<br>    &quot;multiverseid&quot;: 130547,<br>    &quot;colorIdentity&quot;: [<br>        &quot;W&quot;<br>    ]<br>}</td>\n",
       "    </tr>\n",
       "</table>"
      ],
      "text/plain": [
       "[('{\\n    \"id\": \"ab1ab474019e4e76c66e2b524d354cb7c3212616\",\\n    \"cmc\": 7,\\n    \"name\": \"Ancestor\\'s Chosen\",\\n    \"text\": \"First strike (This creature  ... (572 characters truncated) ... ame\": \"ancestor\\'s chosen\",\\n    \"mciNumber\": \"1\",\\n    \"toughness\": \"4\",\\n    \"multiverseid\": 130550,\\n    \"colorIdentity\": [\\n        \"W\"\\n    ]\\n}',),\n",
       " ('{\\n    \"id\": \"d3488c0a916bd922856473155a8b49ec23fc2217\",\\n    \"cmc\": 4,\\n    \"name\": \"Ballista Squad\",\\n    \"text\": \"{X}{W}, {T}: Ballista Squad deal ... (475 characters truncated) ... ageName\": \"ballista squad\",\\n    \"mciNumber\": \"8\",\\n    \"toughness\": \"2\",\\n    \"multiverseid\": 129477,\\n    \"colorIdentity\": [\\n        \"W\"\\n    ]\\n}',),\n",
       " ('{\\n    \"id\": \"29c46fca29e5de01dba3bbf05393325bc9132735\",\\n    \"cmc\": 3,\\n    \"name\": \"Benalish Knight\",\\n    \"text\": \"Flash (You may cast this spell  ... (586 characters truncated) ... eName\": \"benalish knight\",\\n    \"mciNumber\": \"11\",\\n    \"toughness\": \"2\",\\n    \"multiverseid\": 136279,\\n    \"colorIdentity\": [\\n        \"W\"\\n    ]\\n}',),\n",
       " ('{\\n    \"id\": \"e8b8dea65daf4e9070cce5de62bdbea0bf36d47c\",\\n    \"cmc\": 4,\\n    \"name\": \"Cho-Manno, Revolutionary\",\\n    \"text\": \"Prevent all damage tha ... (564 characters truncated) ... \\n    \"toughness\": \"2\",\\n    \"supertypes\": [\\n        \"Legendary\"\\n    ],\\n    \"multiverseid\": 130554,\\n    \"colorIdentity\": [\\n        \"W\"\\n    ]\\n}',),\n",
       " ('{\\n    \"id\": \"80a6b907fc380ed97615e8abc0fe6071c4ceef67\",\\n    \"cmc\": 3,\\n    \"name\": \"Field Marshal\",\\n    \"text\": \"Other Soldier creatures get +1/+1 ... (549 characters truncated) ... ageName\": \"field marshal\",\\n    \"mciNumber\": \"15\",\\n    \"toughness\": \"2\",\\n    \"multiverseid\": 135258,\\n    \"colorIdentity\": [\\n        \"W\"\\n    ]\\n}',),\n",
       " ('{\\n    \"id\": \"7879b835a2c3d6516515d03bd3a3894dceee1812\",\\n    \"cmc\": 1,\\n    \"name\": \"Honor Guard\",\\n    \"text\": \"{W}: Honor Guard gets +0/+1 until e ... (417 characters truncated) ... imageName\": \"honor guard\",\\n    \"mciNumber\": \"23\",\\n    \"toughness\": \"1\",\\n    \"multiverseid\": 129595,\\n    \"colorIdentity\": [\\n        \"W\"\\n    ]\\n}',),\n",
       " ('{\\n    \"id\": \"55932565b6905650e67e784b7cf0df63990e9851\",\\n    \"cmc\": 1,\\n    \"name\": \"Icatian Priest\",\\n    \"text\": \"{1}{W}{W}: Target creature gets  ... (561 characters truncated) ... geName\": \"icatian priest\",\\n    \"mciNumber\": \"24\",\\n    \"toughness\": \"1\",\\n    \"multiverseid\": 132123,\\n    \"colorIdentity\": [\\n        \"W\"\\n    ]\\n}',),\n",
       " ('{\\n    \"id\": \"bc1e197c295bc12cc1b392a11b94782f1396b263\",\\n    \"cmc\": 5,\\n    \"name\": \"Kjeldoran Royal Guard\",\\n    \"text\": \"{T}: All combat damage th ... (588 characters truncated) ... : \"kjeldoran royal guard\",\\n    \"mciNumber\": \"25\",\\n    \"toughness\": \"5\",\\n    \"multiverseid\": 130551,\\n    \"colorIdentity\": [\\n        \"W\"\\n    ]\\n}',),\n",
       " ('{\\n    \"id\": \"e25120395df829af067675f1582ae946543094e2\",\\n    \"cmc\": 1,\\n    \"name\": \"Loyal Sentry\",\\n    \"text\": \"When Loyal Sentry blocks a creatur ... (500 characters truncated) ... mageName\": \"loyal sentry\",\\n    \"mciNumber\": \"27\",\\n    \"toughness\": \"1\",\\n    \"multiverseid\": 129798,\\n    \"colorIdentity\": [\\n        \"W\"\\n    ]\\n}',),\n",
       " ('{\\n    \"id\": \"f0bd8f9ffd23760499a421ca4cd2f211130542b8\",\\n    \"cmc\": 3,\\n    \"name\": \"Nomad Mythmaker\",\\n    \"text\": \"{W}, {T}: Put target Aura card  ... (599 characters truncated) ... eName\": \"nomad mythmaker\",\\n    \"mciNumber\": \"30\",\\n    \"toughness\": \"2\",\\n    \"multiverseid\": 130547,\\n    \"colorIdentity\": [\\n        \"W\"\\n    ]\\n}',)]"
      ]
     },
     "execution_count": 147,
     "metadata": {},
     "output_type": "execute_result"
    }
   ],
   "source": [
    "%sql SELECT jsonb_pretty(data) FROM cards WHERE data @> '{\"subtypes\":[\"Human\"]}'  LIMIT 10;"
   ]
  },
  {
   "cell_type": "markdown",
   "metadata": {},
   "source": [
    "### C) Group all the cards based on the colour. Aggregate them by counting the number of cards per colour."
   ]
  },
  {
   "cell_type": "code",
   "execution_count": 5,
   "metadata": {},
   "outputs": [
    {
     "name": "stdout",
     "output_type": "stream",
     "text": [
      "32 rows affected.\n"
     ]
    }
   ],
   "source": [
    "cardsByColor = %sql SELECT jsonb_pretty(data -> 'colors') as colors, count(*) FROM cards GROUP BY colors ORDER BY count(*) DESC;"
   ]
  },
  {
   "cell_type": "code",
   "execution_count": 28,
   "metadata": {},
   "outputs": [
    {
     "data": {
      "text/html": [
       "<table>\n",
       "    <tr>\n",
       "        <th>colors</th>\n",
       "        <th>count</th>\n",
       "    </tr>\n",
       "    <tr>\n",
       "        <td>None</td>\n",
       "        <td>7391</td>\n",
       "    </tr>\n",
       "    <tr>\n",
       "        <td>[<br>    &quot;Green&quot;<br>]</td>\n",
       "        <td>4977</td>\n",
       "    </tr>\n",
       "    <tr>\n",
       "        <td>[<br>    &quot;Black&quot;<br>]</td>\n",
       "        <td>4877</td>\n",
       "    </tr>\n",
       "    <tr>\n",
       "        <td>[<br>    &quot;Red&quot;<br>]</td>\n",
       "        <td>4858</td>\n",
       "    </tr>\n",
       "    <tr>\n",
       "        <td>[<br>    &quot;White&quot;<br>]</td>\n",
       "        <td>4755</td>\n",
       "    </tr>\n",
       "    <tr>\n",
       "        <td>[<br>    &quot;Blue&quot;<br>]</td>\n",
       "        <td>4680</td>\n",
       "    </tr>\n",
       "    <tr>\n",
       "        <td>[<br>    &quot;White&quot;,<br>    &quot;Green&quot;<br>]</td>\n",
       "        <td>276</td>\n",
       "    </tr>\n",
       "    <tr>\n",
       "        <td>[<br>    &quot;Red&quot;,<br>    &quot;Green&quot;<br>]</td>\n",
       "        <td>273</td>\n",
       "    </tr>\n",
       "    <tr>\n",
       "        <td>[<br>    &quot;Blue&quot;,<br>    &quot;Black&quot;<br>]</td>\n",
       "        <td>260</td>\n",
       "    </tr>\n",
       "    <tr>\n",
       "        <td>[<br>    &quot;Black&quot;,<br>    &quot;Red&quot;<br>]</td>\n",
       "        <td>258</td>\n",
       "    </tr>\n",
       "    <tr>\n",
       "        <td>[<br>    &quot;White&quot;,<br>    &quot;Blue&quot;<br>]</td>\n",
       "        <td>245</td>\n",
       "    </tr>\n",
       "    <tr>\n",
       "        <td>[<br>    &quot;Black&quot;,<br>    &quot;Green&quot;<br>]</td>\n",
       "        <td>185</td>\n",
       "    </tr>\n",
       "    <tr>\n",
       "        <td>[<br>    &quot;Blue&quot;,<br>    &quot;Red&quot;<br>]</td>\n",
       "        <td>182</td>\n",
       "    </tr>\n",
       "    <tr>\n",
       "        <td>[<br>    &quot;White&quot;,<br>    &quot;Red&quot;<br>]</td>\n",
       "        <td>178</td>\n",
       "    </tr>\n",
       "    <tr>\n",
       "        <td>[<br>    &quot;White&quot;,<br>    &quot;Black&quot;<br>]</td>\n",
       "        <td>174</td>\n",
       "    </tr>\n",
       "    <tr>\n",
       "        <td>[<br>    &quot;Blue&quot;,<br>    &quot;Green&quot;<br>]</td>\n",
       "        <td>169</td>\n",
       "    </tr>\n",
       "    <tr>\n",
       "        <td>[<br>    &quot;Blue&quot;,<br>    &quot;Black&quot;,<br>    &quot;Red&quot;<br>]</td>\n",
       "        <td>73</td>\n",
       "    </tr>\n",
       "    <tr>\n",
       "        <td>[<br>    &quot;White&quot;,<br>    &quot;Blue&quot;,<br>    &quot;Black&quot;<br>]</td>\n",
       "        <td>57</td>\n",
       "    </tr>\n",
       "    <tr>\n",
       "        <td>[<br>    &quot;White&quot;,<br>    &quot;Red&quot;,<br>    &quot;Green&quot;<br>]</td>\n",
       "        <td>54</td>\n",
       "    </tr>\n",
       "    <tr>\n",
       "        <td>[<br>    &quot;White&quot;,<br>    &quot;Blue&quot;,<br>    &quot;Green&quot;<br>]</td>\n",
       "        <td>53</td>\n",
       "    </tr>\n",
       "    <tr>\n",
       "        <td>[<br>    &quot;Black&quot;,<br>    &quot;Red&quot;,<br>    &quot;Green&quot;<br>]</td>\n",
       "        <td>52</td>\n",
       "    </tr>\n",
       "    <tr>\n",
       "        <td>[<br>    &quot;White&quot;,<br>    &quot;Blue&quot;,<br>    &quot;Black&quot;,<br>    &quot;Red&quot;,<br>    &quot;Green&quot;<br>]</td>\n",
       "        <td>37</td>\n",
       "    </tr>\n",
       "    <tr>\n",
       "        <td>[<br>    &quot;White&quot;,<br>    &quot;Black&quot;,<br>    &quot;Red&quot;<br>]</td>\n",
       "        <td>33</td>\n",
       "    </tr>\n",
       "    <tr>\n",
       "        <td>[<br>    &quot;White&quot;,<br>    &quot;Black&quot;,<br>    &quot;Green&quot;<br>]</td>\n",
       "        <td>28</td>\n",
       "    </tr>\n",
       "    <tr>\n",
       "        <td>[<br>    &quot;Blue&quot;,<br>    &quot;Red&quot;,<br>    &quot;Green&quot;<br>]</td>\n",
       "        <td>25</td>\n",
       "    </tr>\n",
       "    <tr>\n",
       "        <td>[<br>    &quot;Blue&quot;,<br>    &quot;Black&quot;,<br>    &quot;Green&quot;<br>]</td>\n",
       "        <td>24</td>\n",
       "    </tr>\n",
       "    <tr>\n",
       "        <td>[<br>    &quot;White&quot;,<br>    &quot;Blue&quot;,<br>    &quot;Red&quot;<br>]</td>\n",
       "        <td>22</td>\n",
       "    </tr>\n",
       "    <tr>\n",
       "        <td>[<br>    &quot;Blue&quot;,<br>    &quot;Black&quot;,<br>    &quot;Red&quot;,<br>    &quot;Green&quot;<br>]</td>\n",
       "        <td>3</td>\n",
       "    </tr>\n",
       "    <tr>\n",
       "        <td>[<br>    &quot;White&quot;,<br>    &quot;Blue&quot;,<br>    &quot;Black&quot;,<br>    &quot;Red&quot;<br>]</td>\n",
       "        <td>2</td>\n",
       "    </tr>\n",
       "    <tr>\n",
       "        <td>[<br>    &quot;White&quot;,<br>    &quot;Blue&quot;,<br>    &quot;Red&quot;,<br>    &quot;Green&quot;<br>]</td>\n",
       "        <td>2</td>\n",
       "    </tr>\n",
       "    <tr>\n",
       "        <td>[<br>    &quot;White&quot;,<br>    &quot;Blue&quot;,<br>    &quot;Black&quot;,<br>    &quot;Green&quot;<br>]</td>\n",
       "        <td>2</td>\n",
       "    </tr>\n",
       "    <tr>\n",
       "        <td>[<br>    &quot;White&quot;,<br>    &quot;Black&quot;,<br>    &quot;Red&quot;,<br>    &quot;Green&quot;<br>]</td>\n",
       "        <td>2</td>\n",
       "    </tr>\n",
       "</table>"
      ],
      "text/plain": [
       "[(None, 7391),\n",
       " ('[\\n    \"Green\"\\n]', 4977),\n",
       " ('[\\n    \"Black\"\\n]', 4877),\n",
       " ('[\\n    \"Red\"\\n]', 4858),\n",
       " ('[\\n    \"White\"\\n]', 4755),\n",
       " ('[\\n    \"Blue\"\\n]', 4680),\n",
       " ('[\\n    \"White\",\\n    \"Green\"\\n]', 276),\n",
       " ('[\\n    \"Red\",\\n    \"Green\"\\n]', 273),\n",
       " ('[\\n    \"Blue\",\\n    \"Black\"\\n]', 260),\n",
       " ('[\\n    \"Black\",\\n    \"Red\"\\n]', 258),\n",
       " ('[\\n    \"White\",\\n    \"Blue\"\\n]', 245),\n",
       " ('[\\n    \"Black\",\\n    \"Green\"\\n]', 185),\n",
       " ('[\\n    \"Blue\",\\n    \"Red\"\\n]', 182),\n",
       " ('[\\n    \"White\",\\n    \"Red\"\\n]', 178),\n",
       " ('[\\n    \"White\",\\n    \"Black\"\\n]', 174),\n",
       " ('[\\n    \"Blue\",\\n    \"Green\"\\n]', 169),\n",
       " ('[\\n    \"Blue\",\\n    \"Black\",\\n    \"Red\"\\n]', 73),\n",
       " ('[\\n    \"White\",\\n    \"Blue\",\\n    \"Black\"\\n]', 57),\n",
       " ('[\\n    \"White\",\\n    \"Red\",\\n    \"Green\"\\n]', 54),\n",
       " ('[\\n    \"White\",\\n    \"Blue\",\\n    \"Green\"\\n]', 53),\n",
       " ('[\\n    \"Black\",\\n    \"Red\",\\n    \"Green\"\\n]', 52),\n",
       " ('[\\n    \"White\",\\n    \"Blue\",\\n    \"Black\",\\n    \"Red\",\\n    \"Green\"\\n]', 37),\n",
       " ('[\\n    \"White\",\\n    \"Black\",\\n    \"Red\"\\n]', 33),\n",
       " ('[\\n    \"White\",\\n    \"Black\",\\n    \"Green\"\\n]', 28),\n",
       " ('[\\n    \"Blue\",\\n    \"Red\",\\n    \"Green\"\\n]', 25),\n",
       " ('[\\n    \"Blue\",\\n    \"Black\",\\n    \"Green\"\\n]', 24),\n",
       " ('[\\n    \"White\",\\n    \"Blue\",\\n    \"Red\"\\n]', 22),\n",
       " ('[\\n    \"Blue\",\\n    \"Black\",\\n    \"Red\",\\n    \"Green\"\\n]', 3),\n",
       " ('[\\n    \"White\",\\n    \"Blue\",\\n    \"Black\",\\n    \"Red\"\\n]', 2),\n",
       " ('[\\n    \"White\",\\n    \"Blue\",\\n    \"Red\",\\n    \"Green\"\\n]', 2),\n",
       " ('[\\n    \"White\",\\n    \"Blue\",\\n    \"Black\",\\n    \"Green\"\\n]', 2),\n",
       " ('[\\n    \"White\",\\n    \"Black\",\\n    \"Red\",\\n    \"Green\"\\n]', 2)]"
      ]
     },
     "execution_count": 28,
     "metadata": {},
     "output_type": "execute_result"
    }
   ],
   "source": [
    "cardsByColor"
   ]
  },
  {
   "cell_type": "code",
   "execution_count": 145,
   "metadata": {},
   "outputs": [
    {
     "data": {
      "text/plain": [
       "<Container object of 32 artists>"
      ]
     },
     "execution_count": 145,
     "metadata": {},
     "output_type": "execute_result"
    },
    {
     "data": {
      "image/png": "[encoded data removed]",
      "text/plain": [
       "<matplotlib.figure.Figure at 0x7f84582eaba8>"
      ]
     },
     "metadata": {},
     "output_type": "display_data"
    }
   ],
   "source": [
    "cardsByColor.bar()"
   ]
  },
  {
   "cell_type": "markdown",
   "metadata": {},
   "source": [
    "Very hideous representation, but unfortunately I didn't have any luck with `matplotlib.pyplot.hist`. "
   ]
  }
 ],
 "metadata": {
  "kernelspec": {
   "display_name": "Python 3",
   "language": "python",
   "name": "python3"
  },
  "language_info": {
   "codemirror_mode": {
    "name": "ipython",
    "version": 3
   },
   "file_extension": ".py",
   "mimetype": "text/x-python",
   "name": "python",
   "nbconvert_exporter": "python",
   "pygments_lexer": "ipython3",
   "version": "3.6.3"
  }
 },
 "nbformat": 4,
 "nbformat_minor": 2
}
