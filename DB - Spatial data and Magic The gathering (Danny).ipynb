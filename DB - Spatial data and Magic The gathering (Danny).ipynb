{
 "cells": [
  {
   "cell_type": "markdown",
   "metadata": {},
   "source": [
    "# Assignment 8: Spatial data and Magic: The Gathering"
   ]
  },
  {
   "cell_type": "markdown",
   "metadata": {},
   "source": [
    "Author: Danny Nielsen"
   ]
  },
  {
   "cell_type": "markdown",
   "metadata": {},
   "source": [
    "**NB**: Throughout this notebook, I will put a limit on every large query result, so that this document won't be a pain to scroll through on a reader (like Github)."
   ]
  },
  {
   "cell_type": "markdown",
   "metadata": {},
   "source": [
    "### Notebook setup"
   ]
  },
  {
   "cell_type": "code",
   "execution_count": 1,
   "metadata": {},
   "outputs": [],
   "source": [
    "%load_ext sql"
   ]
  },
  {
   "cell_type": "code",
   "execution_count": 131,
   "metadata": {},
   "outputs": [],
   "source": [
    "%matplotlib inline\n",
    "import matplotlib.pyplot as plt"
   ]
  },
  {
   "cell_type": "code",
   "execution_count": 3,
   "metadata": {},
   "outputs": [
    {
     "data": {
      "text/plain": [
       "'Connected: appdev@appdev'"
      ]
     },
     "execution_count": 3,
     "metadata": {},
     "output_type": "execute_result"
    }
   ],
   "source": [
    "%sql postgresql://appdev@data:5432/appdev"
   ]
  },
  {
   "cell_type": "markdown",
   "metadata": {},
   "source": [
    "## 1) Geonames processing"
   ]
  },
  {
   "cell_type": "markdown",
   "metadata": {},
   "source": [
    "### A) Find the tuple with the largest population"
   ]
  },
  {
   "cell_type": "code",
   "execution_count": 146,
   "metadata": {},
   "outputs": [
    {
     "name": "stdout",
     "output_type": "stream",
     "text": [
      "Done.\n"
     ]
    },
    {
     "data": {
      "text/plain": [
       "[]"
      ]
     },
     "execution_count": 146,
     "metadata": {},
     "output_type": "execute_result"
    }
   ],
   "source": [
    "%%sql CREATE OR REPLACE VIEW largest_population AS \n",
    "SELECT name, longitude, latitude, MAX(population) AS population \n",
    "FROM geonames \n",
    "GROUP BY name, longitude, latitude \n",
    "ORDER BY population DESC \n",
    "LIMIT 1;"
   ]
  },
  {
   "cell_type": "code",
   "execution_count": 27,
   "metadata": {},
   "outputs": [
    {
     "name": "stdout",
     "output_type": "stream",
     "text": [
      "1 rows affected.\n"
     ]
    },
    {
     "data": {
      "text/html": [
       "<table>\n",
       "    <tr>\n",
       "        <th>name</th>\n",
       "        <th>longitude</th>\n",
       "        <th>latitude</th>\n",
       "        <th>population</th>\n",
       "    </tr>\n",
       "    <tr>\n",
       "        <td>Levant</td>\n",
       "        <td>36.0</td>\n",
       "        <td>34.0</td>\n",
       "        <td>44990000</td>\n",
       "    </tr>\n",
       "</table>"
      ],
      "text/plain": [
       "[('Levant', 36.0, 34.0, 44990000)]"
      ]
     },
     "execution_count": 27,
     "metadata": {},
     "output_type": "execute_result"
    }
   ],
   "source": [
    "%sql SELECT * FROM largest_population;"
   ]
  },
  {
   "cell_type": "markdown",
   "metadata": {},
   "source": [
    "### B) Now calculate the distance from all locations to the tuple above using the <-> function"
   ]
  },
  {
   "cell_type": "code",
   "execution_count": 47,
   "metadata": {},
   "outputs": [
    {
     "name": "stdout",
     "output_type": "stream",
     "text": [
      "10 rows affected.\n"
     ]
    },
    {
     "data": {
      "text/html": [
       "<table>\n",
       "    <tr>\n",
       "        <th>name</th>\n",
       "        <th>distance_from_tuple</th>\n",
       "    </tr>\n",
       "    <tr>\n",
       "        <td>Eckins Nunatak</td>\n",
       "        <td>243.041567580299</td>\n",
       "    </tr>\n",
       "    <tr>\n",
       "        <td>Nairn River</td>\n",
       "        <td>226.392811281631</td>\n",
       "    </tr>\n",
       "    <tr>\n",
       "        <td>Waikato</td>\n",
       "        <td>226.321369487677</td>\n",
       "    </tr>\n",
       "    <tr>\n",
       "        <td>Cox Peaks</td>\n",
       "        <td>224.32621893127</td>\n",
       "    </tr>\n",
       "    <tr>\n",
       "        <td>Tuvumatha</td>\n",
       "        <td>221.784518170228</td>\n",
       "    </tr>\n",
       "    <tr>\n",
       "        <td>Savusavu</td>\n",
       "        <td>221.778802715178</td>\n",
       "    </tr>\n",
       "    <tr>\n",
       "        <td>Vaua Creek</td>\n",
       "        <td>221.732030326899</td>\n",
       "    </tr>\n",
       "    <tr>\n",
       "        <td>Howe, Mount</td>\n",
       "        <td>221.675705901411</td>\n",
       "    </tr>\n",
       "    <tr>\n",
       "        <td>Muaidakewa Point</td>\n",
       "        <td>221.554254857319</td>\n",
       "    </tr>\n",
       "    <tr>\n",
       "        <td>Breckinridge Peak</td>\n",
       "        <td>221.550265350276</td>\n",
       "    </tr>\n",
       "</table>"
      ],
      "text/plain": [
       "[('Eckins Nunatak', 243.041567580299),\n",
       " ('Nairn River', 226.392811281631),\n",
       " ('Waikato', 226.321369487677),\n",
       " ('Cox Peaks', 224.32621893127),\n",
       " ('Tuvumatha', 221.784518170228),\n",
       " ('Savusavu', 221.778802715178),\n",
       " ('Vaua Creek', 221.732030326899),\n",
       " ('Howe, Mount', 221.675705901411),\n",
       " ('Muaidakewa Point', 221.554254857319),\n",
       " ('Breckinridge Peak', 221.550265350276)]"
      ]
     },
     "execution_count": 47,
     "metadata": {},
     "output_type": "execute_result"
    }
   ],
   "source": [
    "%%sql SELECT geonames.name, point(geonames.longitude, geonames.latitude) <-> point(largest_population.longitude, largest_population.latitude) \n",
    "AS distance_from_tuple \n",
    "FROM geonames, largest_population \n",
    "ORDER BY distance_from_tuple DESC\n",
    "LIMIT 10;"
   ]
  },
  {
   "cell_type": "markdown",
   "metadata": {},
   "source": [
    "### C) Now calculate the distance from all locations to the tuple above using the haversine distance"
   ]
  },
  {
   "cell_type": "markdown",
   "metadata": {},
   "source": [
    "Implementing the function."
   ]
  },
  {
   "cell_type": "code",
   "execution_count": 43,
   "metadata": {},
   "outputs": [
    {
     "name": "stdout",
     "output_type": "stream",
     "text": [
      "Done.\n"
     ]
    },
    {
     "data": {
      "text/plain": [
       "[]"
      ]
     },
     "execution_count": 43,
     "metadata": {},
     "output_type": "execute_result"
    }
   ],
   "source": [
    "%%sql CREATE OR REPLACE FUNCTION public.geodistance(alat double precision, alng double precision, blat double precision, blng double precision)\n",
    "  RETURNS double precision AS\n",
    "$BODY$\n",
    "SELECT asin(\n",
    "  sqrt(\n",
    "    sin(radians($3-$1)/2)^2 +\n",
    "    sin(radians($4-$2)/2)^2 *\n",
    "    cos(radians($1)) *\n",
    "    cos(radians($3))\n",
    "  )\n",
    ") * 7926.3352 AS distance;\n",
    "$BODY$\n",
    "  LANGUAGE sql IMMUTABLE\n",
    "  COST 100;"
   ]
  },
  {
   "cell_type": "code",
   "execution_count": 50,
   "metadata": {},
   "outputs": [
    {
     "name": "stdout",
     "output_type": "stream",
     "text": [
      "10 rows affected.\n"
     ]
    },
    {
     "data": {
      "text/html": [
       "<table>\n",
       "    <tr>\n",
       "        <th>name</th>\n",
       "        <th>distance_from_tuple</th>\n",
       "    </tr>\n",
       "    <tr>\n",
       "        <td>Vaiuru</td>\n",
       "        <td>11715.8987043352</td>\n",
       "    </tr>\n",
       "    <tr>\n",
       "        <td>Récif Tanai</td>\n",
       "        <td>11713.6888161383</td>\n",
       "    </tr>\n",
       "    <tr>\n",
       "        <td>Rivière Arepua</td>\n",
       "        <td>11670.2402692639</td>\n",
       "    </tr>\n",
       "    <tr>\n",
       "        <td>Teupukahaia</td>\n",
       "        <td>11442.0459098265</td>\n",
       "    </tr>\n",
       "    <tr>\n",
       "        <td>Hikueru</td>\n",
       "        <td>11309.5337147678</td>\n",
       "    </tr>\n",
       "    <tr>\n",
       "        <td>Mont Rauiri</td>\n",
       "        <td>11287.0849649269</td>\n",
       "    </tr>\n",
       "    <tr>\n",
       "        <td>Passe de Vaionifa</td>\n",
       "        <td>11284.0217418805</td>\n",
       "    </tr>\n",
       "    <tr>\n",
       "        <td>Taharoa</td>\n",
       "        <td>11280.1006183287</td>\n",
       "    </tr>\n",
       "    <tr>\n",
       "        <td>Passe de Maraa</td>\n",
       "        <td>11273.945244135</td>\n",
       "    </tr>\n",
       "    <tr>\n",
       "        <td>Toetoe</td>\n",
       "        <td>11271.7284378992</td>\n",
       "    </tr>\n",
       "</table>"
      ],
      "text/plain": [
       "[('Vaiuru', 11715.8987043352),\n",
       " ('Récif Tanai', 11713.6888161383),\n",
       " ('Rivière Arepua', 11670.2402692639),\n",
       " ('Teupukahaia', 11442.0459098265),\n",
       " ('Hikueru', 11309.5337147678),\n",
       " ('Mont Rauiri', 11287.0849649269),\n",
       " ('Passe de Vaionifa', 11284.0217418805),\n",
       " ('Taharoa', 11280.1006183287),\n",
       " ('Passe de Maraa', 11273.945244135),\n",
       " ('Toetoe', 11271.7284378992)]"
      ]
     },
     "execution_count": 50,
     "metadata": {},
     "output_type": "execute_result"
    }
   ],
   "source": [
    "%%sql SELECT geonames.name, geodistance(geonames.latitude, geonames.longitude, largest_population.latitude, largest_population.longitude)\n",
    "AS distance_from_tuple \n",
    "FROM geonames, largest_population \n",
    "ORDER BY distance_from_tuple DESC\n",
    "LIMIT 10;"
   ]
  },
  {
   "cell_type": "markdown",
   "metadata": {},
   "source": [
    "### D) Plot the latitude and longitude of the largest 1000 populations on a 2-D scatter plot"
   ]
  },
  {
   "cell_type": "code",
   "execution_count": 97,
   "metadata": {},
   "outputs": [
    {
     "name": "stdout",
     "output_type": "stream",
     "text": [
      "1000 rows affected.\n"
     ]
    }
   ],
   "source": [
    "latitude = %sql SELECT latitude, MAX(population) FROM geonames GROUP BY latitude ORDER BY MAX(population) LIMIT 1000;"
   ]
  },
  {
   "cell_type": "code",
   "execution_count": 98,
   "metadata": {},
   "outputs": [
    {
     "name": "stdout",
     "output_type": "stream",
     "text": [
      "1000 rows affected.\n"
     ]
    }
   ],
   "source": [
    "longitude = %sql SELECT longitude, MAX(population) FROM geonames GROUP BY longitude ORDER BY MAX(population) LIMIT 1000;"
   ]
  },
  {
   "cell_type": "code",
   "execution_count": 108,
   "metadata": {},
   "outputs": [
    {
     "data": {
      "text/plain": [
       "<matplotlib.collections.PathCollection at 0x7f845883de48>"
      ]
     },
     "execution_count": 108,
     "metadata": {},
     "output_type": "execute_result"
    },
    {
     "data": {
      "image/png": "[encoded data removed]",
      "text/plain": [
       "<matplotlib.figure.Figure at 0x7f8458a859e8>"
      ]
     },
     "metadata": {},
     "output_type": "display_data"
    }
   ],
   "source": [
    "plt.scatter(latitude, longitude)"
   ]
  },
  {
   "cell_type": "markdown",
   "metadata": {},
   "source": [
    "## 2) \"Magic: The Gathering\" JSON processing"
   ]
  },
  {
   "cell_type": "markdown",
   "metadata": {},
   "source": [
    "### A) Find all the cards that is made by Rob Alexander"
   ]
  },
  {
   "cell_type": "code",
   "execution_count": 7,
   "metadata": {},
   "outputs": [
    {
     "name": "stdout",
     "output_type": "stream",
     "text": [
      "50 rows affected.\n"
     ]
    },
    {
     "data": {
      "text/html": [
       "<table>\n",
       "    <tr>\n",
       "        <th>jsonb_pretty</th>\n",
       "    </tr>\n",
       "    <tr>\n",
       "        <td>{<br>    &quot;id&quot;: &quot;4a7bf234af44e07d9a159d4d89e96ce320919917&quot;,<br>    &quot;cmc&quot;: 6,<br>    &quot;name&quot;: &quot;Beacon of Immortality&quot;,<br>    &quot;text&quot;: &quot;Double target player&#x27;s life total. Shuffle Beacon of Immortality into its owner&#x27;s library.&quot;,<br>    &quot;type&quot;: &quot;Instant&quot;,<br>    &quot;types&quot;: [<br>        &quot;Instant&quot;<br>    ],<br>    &quot;artist&quot;: &quot;Rob Alexander&quot;,<br>    &quot;colors&quot;: [<br>        &quot;White&quot;<br>    ],<br>    &quot;flavor&quot;: &quot;The cave floods with light. A thousand rays shine forth and meld into one.&quot;,<br>    &quot;layout&quot;: &quot;normal&quot;,<br>    &quot;number&quot;: &quot;10&quot;,<br>    &quot;rarity&quot;: &quot;Rare&quot;,<br>    &quot;manaCost&quot;: &quot;{5}{W}&quot;,<br>    &quot;imageName&quot;: &quot;beacon of immortality&quot;,<br>    &quot;mciNumber&quot;: &quot;10&quot;,<br>    &quot;multiverseid&quot;: 130553,<br>    &quot;colorIdentity&quot;: [<br>        &quot;W&quot;<br>    ]<br>}</td>\n",
       "    </tr>\n",
       "    <tr>\n",
       "        <td>{<br>    &quot;id&quot;: &quot;9cea331c080c3bbc7987c6560f65e39e9d1ed34f&quot;,<br>    &quot;cmc&quot;: 5,<br>    &quot;name&quot;: &quot;Kavu Climber&quot;,<br>    &quot;text&quot;: &quot;When Kavu Climber enters the battlefield, draw a card.&quot;,<br>    &quot;type&quot;: &quot;Creature — Kavu&quot;,<br>    &quot;power&quot;: &quot;3&quot;,<br>    &quot;types&quot;: [<br>        &quot;Creature&quot;<br>    ],<br>    &quot;artist&quot;: &quot;Rob Alexander&quot;,<br>    &quot;colors&quot;: [<br>        &quot;Green&quot;<br>    ],<br>    &quot;flavor&quot;: &quot;\\&quot;There was a crack of branches, a rustle of leaves, then a tremendous roar. Our party had no chance as death descended from above.\\&quot;\\n—Taseen, elvish bard&quot;,<br>    &quot;layout&quot;: &quot;normal&quot;,<br>    &quot;number&quot;: &quot;273&quot;,<br>    &quot;rarity&quot;: &quot;Common&quot;,<br>    &quot;manaCost&quot;: &quot;{3}{G}{G}&quot;,<br>    &quot;subtypes&quot;: [<br>        &quot;Kavu&quot;<br>    ],<br>    &quot;imageName&quot;: &quot;kavu climber&quot;,<br>    &quot;mciNumber&quot;: &quot;273&quot;,<br>    &quot;toughness&quot;: &quot;3&quot;,<br>    &quot;multiverseid&quot;: 129511,<br>    &quot;colorIdentity&quot;: [<br>        &quot;G&quot;<br>    ]<br>}</td>\n",
       "    </tr>\n",
       "    <tr>\n",
       "        <td>{<br>    &quot;id&quot;: &quot;28cc7c79cca8939fd9661f7abfc6ca453715b75e&quot;,<br>    &quot;cmc&quot;: 0,<br>    &quot;name&quot;: &quot;Llanowar Wastes&quot;,<br>    &quot;text&quot;: &quot;{T}: Add {C} to your mana pool.\\n{T}: Add {B} or {G} to your mana pool. Llanowar Wastes deals 1 damage to you.&quot;,<br>    &quot;type&quot;: &quot;Land&quot;,<br>    &quot;types&quot;: [<br>        &quot;Land&quot;<br>    ],<br>    &quot;artist&quot;: &quot;Rob Alexander&quot;,<br>    &quot;layout&quot;: &quot;normal&quot;,<br>    &quot;number&quot;: &quot;355&quot;,<br>    &quot;rarity&quot;: &quot;Rare&quot;,<br>    &quot;imageName&quot;: &quot;llanowar wastes&quot;,<br>    &quot;mciNumber&quot;: &quot;355&quot;,<br>    &quot;multiverseid&quot;: 129627,<br>    &quot;colorIdentity&quot;: [<br>        &quot;B&quot;,<br>        &quot;G&quot;<br>    ]<br>}</td>\n",
       "    </tr>\n",
       "    <tr>\n",
       "        <td>{<br>    &quot;id&quot;: &quot;7a90b7ba6197f8774ed99ecf75ac9abb3e0c0f20&quot;,<br>    &quot;cmc&quot;: 0,<br>    &quot;name&quot;: &quot;Shivan Reef&quot;,<br>    &quot;text&quot;: &quot;{T}: Add {C} to your mana pool.\\n{T}: Add {U} or {R} to your mana pool. Shivan Reef deals 1 damage to you.&quot;,<br>    &quot;type&quot;: &quot;Land&quot;,<br>    &quot;types&quot;: [<br>        &quot;Land&quot;<br>    ],<br>    &quot;artist&quot;: &quot;Rob Alexander&quot;,<br>    &quot;layout&quot;: &quot;normal&quot;,<br>    &quot;number&quot;: &quot;357&quot;,<br>    &quot;rarity&quot;: &quot;Rare&quot;,<br>    &quot;imageName&quot;: &quot;shivan reef&quot;,<br>    &quot;mciNumber&quot;: &quot;357&quot;,<br>    &quot;multiverseid&quot;: 129731,<br>    &quot;colorIdentity&quot;: [<br>        &quot;U&quot;,<br>        &quot;R&quot;<br>    ]<br>}</td>\n",
       "    </tr>\n",
       "    <tr>\n",
       "        <td>{<br>    &quot;id&quot;: &quot;8d1035f151615c949d0645b70fe01d8ab4a3f796&quot;,<br>    &quot;cmc&quot;: 0,<br>    &quot;name&quot;: &quot;Sulfurous Springs&quot;,<br>    &quot;text&quot;: &quot;{T}: Add {C} to your mana pool.\\n{T}: Add {B} or {R} to your mana pool. Sulfurous Springs deals 1 damage to you.&quot;,<br>    &quot;type&quot;: &quot;Land&quot;,<br>    &quot;types&quot;: [<br>        &quot;Land&quot;<br>    ],<br>    &quot;artist&quot;: &quot;Rob Alexander&quot;,<br>    &quot;layout&quot;: &quot;normal&quot;,<br>    &quot;number&quot;: &quot;359&quot;,<br>    &quot;rarity&quot;: &quot;Rare&quot;,<br>    &quot;imageName&quot;: &quot;sulfurous springs&quot;,<br>    &quot;mciNumber&quot;: &quot;359&quot;,<br>    &quot;multiverseid&quot;: 129751,<br>    &quot;colorIdentity&quot;: [<br>        &quot;B&quot;,<br>        &quot;R&quot;<br>    ]<br>}</td>\n",
       "    </tr>\n",
       "    <tr>\n",
       "        <td>{<br>    &quot;id&quot;: &quot;c97103ab834aad9b3fb7d07c4fb563089f97fe87&quot;,<br>    &quot;cmc&quot;: 0,<br>    &quot;name&quot;: &quot;Treetop Village&quot;,<br>    &quot;text&quot;: &quot;Treetop Village enters the battlefield tapped.\\n{T}: Add {G} to your mana pool.\\n{1}{G}: Treetop Village becomes a 3/3 green Ape creature with trample until end of turn. It&#x27;s still a land. (If it would assign enough damage to its blockers to destroy them, you may have it assign the rest of its damage to defending player or planeswalker.)&quot;,<br>    &quot;type&quot;: &quot;Land&quot;,<br>    &quot;types&quot;: [<br>        &quot;Land&quot;<br>    ],<br>    &quot;artist&quot;: &quot;Rob Alexander&quot;,<br>    &quot;layout&quot;: &quot;normal&quot;,<br>    &quot;number&quot;: &quot;361&quot;,<br>    &quot;rarity&quot;: &quot;Uncommon&quot;,<br>    &quot;imageName&quot;: &quot;treetop village&quot;,<br>    &quot;mciNumber&quot;: &quot;361&quot;,<br>    &quot;multiverseid&quot;: 106455,<br>    &quot;colorIdentity&quot;: [<br>        &quot;G&quot;<br>    ]<br>}</td>\n",
       "    </tr>\n",
       "    <tr>\n",
       "        <td>{<br>    &quot;id&quot;: &quot;24a47bf9cb4596246501294e7127bf74e082bc1d&quot;,<br>    &quot;cmc&quot;: 0,<br>    &quot;name&quot;: &quot;Plains&quot;,<br>    &quot;type&quot;: &quot;Basic Land — Plains&quot;,<br>    &quot;types&quot;: [<br>        &quot;Land&quot;<br>    ],<br>    &quot;artist&quot;: &quot;Rob Alexander&quot;,<br>    &quot;layout&quot;: &quot;normal&quot;,<br>    &quot;number&quot;: &quot;364&quot;,<br>    &quot;rarity&quot;: &quot;Basic Land&quot;,<br>    &quot;subtypes&quot;: [<br>        &quot;Plains&quot;<br>    ],<br>    &quot;imageName&quot;: &quot;plains1&quot;,<br>    &quot;watermark&quot;: &quot;White&quot;,<br>    &quot;supertypes&quot;: [<br>        &quot;Basic&quot;<br>    ],<br>    &quot;variations&quot;: [<br>        129682,<br>        129683,<br>        129681<br>    ],<br>    &quot;multiverseid&quot;: 129680,<br>    &quot;colorIdentity&quot;: [<br>        &quot;W&quot;<br>    ]<br>}</td>\n",
       "    </tr>\n",
       "    <tr>\n",
       "        <td>{<br>    &quot;id&quot;: &quot;be5e30798e4f8b9b6f6e6a8dd2e30bf86bb04b94&quot;,<br>    &quot;cmc&quot;: 0,<br>    &quot;name&quot;: &quot;Forest&quot;,<br>    &quot;type&quot;: &quot;Basic Land — Forest&quot;,<br>    &quot;types&quot;: [<br>        &quot;Land&quot;<br>    ],<br>    &quot;artist&quot;: &quot;Rob Alexander&quot;,<br>    &quot;layout&quot;: &quot;normal&quot;,<br>    &quot;number&quot;: &quot;382&quot;,<br>    &quot;rarity&quot;: &quot;Basic Land&quot;,<br>    &quot;subtypes&quot;: [<br>        &quot;Forest&quot;<br>    ],<br>    &quot;imageName&quot;: &quot;forest3&quot;,<br>    &quot;watermark&quot;: &quot;Green&quot;,<br>    &quot;supertypes&quot;: [<br>        &quot;Basic&quot;<br>    ],<br>    &quot;variations&quot;: [<br>        129559,<br>        129562,<br>        129560<br>    ],<br>    &quot;multiverseid&quot;: 129561,<br>    &quot;colorIdentity&quot;: [<br>        &quot;G&quot;<br>    ]<br>}</td>\n",
       "    </tr>\n",
       "    <tr>\n",
       "        <td>{<br>    &quot;id&quot;: &quot;4c3d9f2b7086021880c8268f9def8f7548116d17&quot;,<br>    &quot;cmc&quot;: 0,<br>    &quot;name&quot;: &quot;Badlands&quot;,<br>    &quot;text&quot;: &quot;({T}: Add {B} or {R} to your mana pool.)&quot;,<br>    &quot;type&quot;: &quot;Land — Swamp Mountain&quot;,<br>    &quot;types&quot;: [<br>        &quot;Land&quot;<br>    ],<br>    &quot;artist&quot;: &quot;Rob Alexander&quot;,<br>    &quot;layout&quot;: &quot;normal&quot;,<br>    &quot;rarity&quot;: &quot;Rare&quot;,<br>    &quot;reserved&quot;: true,<br>    &quot;subtypes&quot;: [<br>        &quot;Swamp&quot;,<br>        &quot;Mountain&quot;<br>    ],<br>    &quot;imageName&quot;: &quot;badlands&quot;,<br>    &quot;mciNumber&quot;: &quot;278&quot;,<br>    &quot;multiverseid&quot;: 878,<br>    &quot;colorIdentity&quot;: [<br>        &quot;B&quot;,<br>        &quot;R&quot;<br>    ]<br>}</td>\n",
       "    </tr>\n",
       "    <tr>\n",
       "        <td>{<br>    &quot;id&quot;: &quot;3ad1eecb97909f6d45763cc87c07fa23cf574cf7&quot;,<br>    &quot;cmc&quot;: 1,<br>    &quot;name&quot;: &quot;Lance&quot;,<br>    &quot;text&quot;: &quot;Enchant creature\\nEnchanted creature has first strike.&quot;,<br>    &quot;type&quot;: &quot;Enchantment — Aura&quot;,<br>    &quot;types&quot;: [<br>        &quot;Enchantment&quot;<br>    ],<br>    &quot;artist&quot;: &quot;Rob Alexander&quot;,<br>    &quot;colors&quot;: [<br>        &quot;White&quot;<br>    ],<br>    &quot;layout&quot;: &quot;normal&quot;,<br>    &quot;rarity&quot;: &quot;Uncommon&quot;,<br>    &quot;manaCost&quot;: &quot;{W}&quot;,<br>    &quot;subtypes&quot;: [<br>        &quot;Aura&quot;<br>    ],<br>    &quot;imageName&quot;: &quot;lance&quot;,<br>    &quot;mciNumber&quot;: &quot;212&quot;,<br>    &quot;multiverseid&quot;: 856,<br>    &quot;colorIdentity&quot;: [<br>        &quot;W&quot;<br>    ]<br>}</td>\n",
       "    </tr>\n",
       "    <tr>\n",
       "        <td>{<br>    &quot;id&quot;: &quot;372383e545f466edb88777a0d982ee4e488bcdc1&quot;,<br>    &quot;cmc&quot;: 0,<br>    &quot;name&quot;: &quot;Savannah&quot;,<br>    &quot;text&quot;: &quot;({T}: Add {G} or {W} to your mana pool.)&quot;,<br>    &quot;type&quot;: &quot;Land — Forest Plains&quot;,<br>    &quot;types&quot;: [<br>        &quot;Land&quot;<br>    ],<br>    &quot;artist&quot;: &quot;Rob Alexander&quot;,<br>    &quot;layout&quot;: &quot;normal&quot;,<br>    &quot;rarity&quot;: &quot;Rare&quot;,<br>    &quot;reserved&quot;: true,<br>    &quot;subtypes&quot;: [<br>        &quot;Forest&quot;,<br>        &quot;Plains&quot;<br>    ],<br>    &quot;imageName&quot;: &quot;savannah&quot;,<br>    &quot;mciNumber&quot;: &quot;293&quot;,<br>    &quot;multiverseid&quot;: 881,<br>    &quot;colorIdentity&quot;: [<br>        &quot;W&quot;,<br>        &quot;G&quot;<br>    ]<br>}</td>\n",
       "    </tr>\n",
       "    <tr>\n",
       "        <td>{<br>    &quot;id&quot;: &quot;de3f9e2afb8cc08ae524427967d2a0bcc6a9bbff&quot;,<br>    &quot;cmc&quot;: 0,<br>    &quot;name&quot;: &quot;Taiga&quot;,<br>    &quot;text&quot;: &quot;({T}: Add {R} or {G} to your mana pool.)&quot;,<br>    &quot;type&quot;: &quot;Land — Mountain Forest&quot;,<br>    &quot;types&quot;: [<br>        &quot;Land&quot;<br>    ],<br>    &quot;artist&quot;: &quot;Rob Alexander&quot;,<br>    &quot;layout&quot;: &quot;normal&quot;,<br>    &quot;rarity&quot;: &quot;Rare&quot;,<br>    &quot;reserved&quot;: true,<br>    &quot;subtypes&quot;: [<br>        &quot;Mountain&quot;,<br>        &quot;Forest&quot;<br>    ],<br>    &quot;imageName&quot;: &quot;taiga&quot;,<br>    &quot;mciNumber&quot;: &quot;298&quot;,<br>    &quot;multiverseid&quot;: 883,<br>    &quot;colorIdentity&quot;: [<br>        &quot;R&quot;,<br>        &quot;G&quot;<br>    ]<br>}</td>\n",
       "    </tr>\n",
       "    <tr>\n",
       "        <td>{<br>    &quot;id&quot;: &quot;b2e04c730778a582711103c09820d38fd5979d47&quot;,<br>    &quot;cmc&quot;: 1,<br>    &quot;name&quot;: &quot;Twiddle&quot;,<br>    &quot;text&quot;: &quot;You may tap or untap target artifact, creature, or land.&quot;,<br>    &quot;type&quot;: &quot;Instant&quot;,<br>    &quot;types&quot;: [<br>        &quot;Instant&quot;<br>    ],<br>    &quot;artist&quot;: &quot;Rob Alexander&quot;,<br>    &quot;colors&quot;: [<br>        &quot;Blue&quot;<br>    ],<br>    &quot;layout&quot;: &quot;normal&quot;,<br>    &quot;rarity&quot;: &quot;Common&quot;,<br>    &quot;manaCost&quot;: &quot;{U}&quot;,<br>    &quot;imageName&quot;: &quot;twiddle&quot;,<br>    &quot;mciNumber&quot;: &quot;86&quot;,<br>    &quot;multiverseid&quot;: 730,<br>    &quot;colorIdentity&quot;: [<br>        &quot;U&quot;<br>    ]<br>}</td>\n",
       "    </tr>\n",
       "    <tr>\n",
       "        <td>{<br>    &quot;id&quot;: &quot;f2e43bf7d8de9d145c7fe3a50b8db627c2ce9fcf&quot;,<br>    &quot;cmc&quot;: 0,<br>    &quot;name&quot;: &quot;Underground Sea&quot;,<br>    &quot;text&quot;: &quot;({T}: Add {U} or {B} to your mana pool.)&quot;,<br>    &quot;type&quot;: &quot;Land — Island Swamp&quot;,<br>    &quot;types&quot;: [<br>        &quot;Land&quot;<br>    ],<br>    &quot;artist&quot;: &quot;Rob Alexander&quot;,<br>    &quot;layout&quot;: &quot;normal&quot;,<br>    &quot;rarity&quot;: &quot;Rare&quot;,<br>    &quot;reserved&quot;: true,<br>    &quot;subtypes&quot;: [<br>        &quot;Island&quot;,<br>        &quot;Swamp&quot;<br>    ],<br>    &quot;imageName&quot;: &quot;underground sea&quot;,<br>    &quot;mciNumber&quot;: &quot;301&quot;,<br>    &quot;multiverseid&quot;: 886,<br>    &quot;colorIdentity&quot;: [<br>        &quot;U&quot;,<br>        &quot;B&quot;<br>    ]<br>}</td>\n",
       "    </tr>\n",
       "    <tr>\n",
       "        <td>{<br>    &quot;id&quot;: &quot;6834796686ce37a27b51e6e58b6f4bd2f3d8e213&quot;,<br>    &quot;cmc&quot;: 0,<br>    &quot;name&quot;: &quot;Badlands&quot;,<br>    &quot;text&quot;: &quot;({T}: Add {B} or {R} to your mana pool.)&quot;,<br>    &quot;type&quot;: &quot;Land — Swamp Mountain&quot;,<br>    &quot;types&quot;: [<br>        &quot;Land&quot;<br>    ],<br>    &quot;artist&quot;: &quot;Rob Alexander&quot;,<br>    &quot;layout&quot;: &quot;normal&quot;,<br>    &quot;rarity&quot;: &quot;Rare&quot;,<br>    &quot;reserved&quot;: true,<br>    &quot;subtypes&quot;: [<br>        &quot;Swamp&quot;,<br>        &quot;Mountain&quot;<br>    ],<br>    &quot;imageName&quot;: &quot;badlands&quot;,<br>    &quot;mciNumber&quot;: &quot;282&quot;,<br>    &quot;multiverseid&quot;: 1376,<br>    &quot;colorIdentity&quot;: [<br>        &quot;B&quot;,<br>        &quot;R&quot;<br>    ]<br>}</td>\n",
       "    </tr>\n",
       "    <tr>\n",
       "        <td>{<br>    &quot;id&quot;: &quot;d8733e2adbc42fc35522e53b5858711233830eff&quot;,<br>    &quot;cmc&quot;: 1,<br>    &quot;name&quot;: &quot;Web&quot;,<br>    &quot;text&quot;: &quot;Enchant creature (Target a creature as you cast this. This card enters the battlefield attached to that creature.)\\nEnchanted creature gets +0/+2 and has reach. (It can block creatures with flying.)&quot;,<br>    &quot;type&quot;: &quot;Enchantment — Aura&quot;,<br>    &quot;types&quot;: [<br>        &quot;Enchantment&quot;<br>    ],<br>    &quot;artist&quot;: &quot;Rob Alexander&quot;,<br>    &quot;colors&quot;: [<br>        &quot;Green&quot;<br>    ],<br>    &quot;layout&quot;: &quot;normal&quot;,<br>    &quot;rarity&quot;: &quot;Rare&quot;,<br>    &quot;manaCost&quot;: &quot;{G}&quot;,<br>    &quot;subtypes&quot;: [<br>        &quot;Aura&quot;<br>    ],<br>    &quot;imageName&quot;: &quot;web&quot;,<br>    &quot;mciNumber&quot;: &quot;137&quot;,<br>    &quot;multiverseid&quot;: 781,<br>    &quot;colorIdentity&quot;: [<br>        &quot;G&quot;<br>    ]<br>}</td>\n",
       "    </tr>\n",
       "    <tr>\n",
       "        <td>{<br>    &quot;id&quot;: &quot;b3b5966dbd797a6310b63adb026b9395842bccc9&quot;,<br>    &quot;cmc&quot;: 1,<br>    &quot;name&quot;: &quot;Lance&quot;,<br>    &quot;text&quot;: &quot;Enchant creature\\nEnchanted creature has first strike.&quot;,<br>    &quot;type&quot;: &quot;Enchantment — Aura&quot;,<br>    &quot;types&quot;: [<br>        &quot;Enchantment&quot;<br>    ],<br>    &quot;artist&quot;: &quot;Rob Alexander&quot;,<br>    &quot;colors&quot;: [<br>        &quot;White&quot;<br>    ],<br>    &quot;layout&quot;: &quot;normal&quot;,<br>    &quot;rarity&quot;: &quot;Uncommon&quot;,<br>    &quot;manaCost&quot;: &quot;{W}&quot;,<br>    &quot;subtypes&quot;: [<br>        &quot;Aura&quot;<br>    ],<br>    &quot;imageName&quot;: &quot;lance&quot;,<br>    &quot;mciNumber&quot;: &quot;211&quot;,<br>    &quot;multiverseid&quot;: 1353,<br>    &quot;colorIdentity&quot;: [<br>        &quot;W&quot;<br>    ]<br>}</td>\n",
       "    </tr>\n",
       "    <tr>\n",
       "        <td>{<br>    &quot;id&quot;: &quot;aa6b2976163132342ca714e602306d84072f8c46&quot;,<br>    &quot;cmc&quot;: 0,<br>    &quot;name&quot;: &quot;Savannah&quot;,<br>    &quot;text&quot;: &quot;({T}: Add {G} or {W} to your mana pool.)&quot;,<br>    &quot;type&quot;: &quot;Land — Forest Plains&quot;,<br>    &quot;types&quot;: [<br>        &quot;Land&quot;<br>    ],<br>    &quot;artist&quot;: &quot;Rob Alexander&quot;,<br>    &quot;layout&quot;: &quot;normal&quot;,<br>    &quot;rarity&quot;: &quot;Rare&quot;,<br>    &quot;reserved&quot;: true,<br>    &quot;subtypes&quot;: [<br>        &quot;Forest&quot;,<br>        &quot;Plains&quot;<br>    ],<br>    &quot;imageName&quot;: &quot;savannah&quot;,<br>    &quot;mciNumber&quot;: &quot;297&quot;,<br>    &quot;multiverseid&quot;: 1379,<br>    &quot;colorIdentity&quot;: [<br>        &quot;W&quot;,<br>        &quot;G&quot;<br>    ]<br>}</td>\n",
       "    </tr>\n",
       "    <tr>\n",
       "        <td>{<br>    &quot;id&quot;: &quot;61e5ae3fffd27b097561bb6ffc69bcf01b01a7d8&quot;,<br>    &quot;cmc&quot;: 0,<br>    &quot;name&quot;: &quot;Taiga&quot;,<br>    &quot;text&quot;: &quot;({T}: Add {R} or {G} to your mana pool.)&quot;,<br>    &quot;type&quot;: &quot;Land — Mountain Forest&quot;,<br>    &quot;types&quot;: [<br>        &quot;Land&quot;<br>    ],<br>    &quot;artist&quot;: &quot;Rob Alexander&quot;,<br>    &quot;layout&quot;: &quot;normal&quot;,<br>    &quot;rarity&quot;: &quot;Rare&quot;,<br>    &quot;reserved&quot;: true,<br>    &quot;subtypes&quot;: [<br>        &quot;Mountain&quot;,<br>        &quot;Forest&quot;<br>    ],<br>    &quot;imageName&quot;: &quot;taiga&quot;,<br>    &quot;mciNumber&quot;: &quot;302&quot;,<br>    &quot;multiverseid&quot;: 1381,<br>    &quot;colorIdentity&quot;: [<br>        &quot;R&quot;,<br>        &quot;G&quot;<br>    ]<br>}</td>\n",
       "    </tr>\n",
       "    <tr>\n",
       "        <td>{<br>    &quot;id&quot;: &quot;5a6bb60ca2e989f38baf9d93d736766e1bc530db&quot;,<br>    &quot;cmc&quot;: 0,<br>    &quot;name&quot;: &quot;Underground Sea&quot;,<br>    &quot;text&quot;: &quot;({T}: Add {U} or {B} to your mana pool.)&quot;,<br>    &quot;type&quot;: &quot;Land — Island Swamp&quot;,<br>    &quot;types&quot;: [<br>        &quot;Land&quot;<br>    ],<br>    &quot;artist&quot;: &quot;Rob Alexander&quot;,<br>    &quot;layout&quot;: &quot;normal&quot;,<br>    &quot;rarity&quot;: &quot;Rare&quot;,<br>    &quot;reserved&quot;: true,<br>    &quot;subtypes&quot;: [<br>        &quot;Island&quot;,<br>        &quot;Swamp&quot;<br>    ],<br>    &quot;imageName&quot;: &quot;underground sea&quot;,<br>    &quot;mciNumber&quot;: &quot;305&quot;,<br>    &quot;multiverseid&quot;: 1384,<br>    &quot;colorIdentity&quot;: [<br>        &quot;U&quot;,<br>        &quot;B&quot;<br>    ]<br>}</td>\n",
       "    </tr>\n",
       "    <tr>\n",
       "        <td>{<br>    &quot;id&quot;: &quot;75c96b84411c1716871d249fe6144c7f68197ffd&quot;,<br>    &quot;cmc&quot;: 1,<br>    &quot;name&quot;: &quot;Web&quot;,<br>    &quot;text&quot;: &quot;Enchant creature (Target a creature as you cast this. This card enters the battlefield attached to that creature.)\\nEnchanted creature gets +0/+2 and has reach. (It can block creatures with flying.)&quot;,<br>    &quot;type&quot;: &quot;Enchantment — Aura&quot;,<br>    &quot;types&quot;: [<br>        &quot;Enchantment&quot;<br>    ],<br>    &quot;artist&quot;: &quot;Rob Alexander&quot;,<br>    &quot;colors&quot;: [<br>        &quot;Green&quot;<br>    ],<br>    &quot;layout&quot;: &quot;normal&quot;,<br>    &quot;rarity&quot;: &quot;Rare&quot;,<br>    &quot;manaCost&quot;: &quot;{G}&quot;,<br>    &quot;subtypes&quot;: [<br>        &quot;Aura&quot;<br>    ],<br>    &quot;imageName&quot;: &quot;web&quot;,<br>    &quot;mciNumber&quot;: &quot;136&quot;,<br>    &quot;multiverseid&quot;: 1278,<br>    &quot;colorIdentity&quot;: [<br>        &quot;G&quot;<br>    ]<br>}</td>\n",
       "    </tr>\n",
       "    <tr>\n",
       "        <td>{<br>    &quot;id&quot;: &quot;56a5075ff5135143fe375085866ae479c30b1397&quot;,<br>    &quot;cmc&quot;: 1,<br>    &quot;name&quot;: &quot;Twiddle&quot;,<br>    &quot;text&quot;: &quot;You may tap or untap target artifact, creature, or land.&quot;,<br>    &quot;type&quot;: &quot;Instant&quot;,<br>    &quot;types&quot;: [<br>        &quot;Instant&quot;<br>    ],<br>    &quot;artist&quot;: &quot;Rob Alexander&quot;,<br>    &quot;colors&quot;: [<br>        &quot;Blue&quot;<br>    ],<br>    &quot;layout&quot;: &quot;normal&quot;,<br>    &quot;rarity&quot;: &quot;Common&quot;,<br>    &quot;manaCost&quot;: &quot;{U}&quot;,<br>    &quot;imageName&quot;: &quot;twiddle&quot;,<br>    &quot;mciNumber&quot;: &quot;109&quot;,<br>    &quot;multiverseid&quot;: 2192,<br>    &quot;colorIdentity&quot;: [<br>        &quot;U&quot;<br>    ]<br>}</td>\n",
       "    </tr>\n",
       "    <tr>\n",
       "        <td>{<br>    &quot;id&quot;: &quot;172169e27a7de50d089f6fc7dfd2e41c276a1a7d&quot;,<br>    &quot;cmc&quot;: 1,<br>    &quot;name&quot;: &quot;Web&quot;,<br>    &quot;text&quot;: &quot;Enchant creature (Target a creature as you cast this. This card enters the battlefield attached to that creature.)\\nEnchanted creature gets +0/+2 and has reach. (It can block creatures with flying.)&quot;,<br>    &quot;type&quot;: &quot;Enchantment — Aura&quot;,<br>    &quot;types&quot;: [<br>        &quot;Enchantment&quot;<br>    ],<br>    &quot;artist&quot;: &quot;Rob Alexander&quot;,<br>    &quot;colors&quot;: [<br>        &quot;Green&quot;<br>    ],<br>    &quot;layout&quot;: &quot;normal&quot;,<br>    &quot;rarity&quot;: &quot;Rare&quot;,<br>    &quot;manaCost&quot;: &quot;{G}&quot;,<br>    &quot;subtypes&quot;: [<br>        &quot;Aura&quot;<br>    ],<br>    &quot;imageName&quot;: &quot;web&quot;,<br>    &quot;mciNumber&quot;: &quot;171&quot;,<br>    &quot;multiverseid&quot;: 2254,<br>    &quot;colorIdentity&quot;: [<br>        &quot;G&quot;<br>    ]<br>}</td>\n",
       "    </tr>\n",
       "    <tr>\n",
       "        <td>{<br>    &quot;id&quot;: &quot;08e234d3ee6bf54b32249f796590d0f2d7dd36ad&quot;,<br>    &quot;cmc&quot;: 6,<br>    &quot;name&quot;: &quot;Beacon of Immortality&quot;,<br>    &quot;text&quot;: &quot;Double target player&#x27;s life total. Shuffle Beacon of Immortality into its owner&#x27;s library.&quot;,<br>    &quot;type&quot;: &quot;Instant&quot;,<br>    &quot;types&quot;: [<br>        &quot;Instant&quot;<br>    ],<br>    &quot;artist&quot;: &quot;Rob Alexander&quot;,<br>    &quot;colors&quot;: [<br>        &quot;White&quot;<br>    ],<br>    &quot;flavor&quot;: &quot;The cave floods with light. A thousand rays shine forth and meld into one.&quot;,<br>    &quot;layout&quot;: &quot;normal&quot;,<br>    &quot;number&quot;: &quot;6&quot;,<br>    &quot;rarity&quot;: &quot;Rare&quot;,<br>    &quot;manaCost&quot;: &quot;{5}{W}&quot;,<br>    &quot;imageName&quot;: &quot;beacon of immortality&quot;,<br>    &quot;mciNumber&quot;: &quot;6&quot;,<br>    &quot;multiverseid&quot;: 50141,<br>    &quot;colorIdentity&quot;: [<br>        &quot;W&quot;<br>    ]<br>}</td>\n",
       "    </tr>\n",
       "    <tr>\n",
       "        <td>{<br>    &quot;id&quot;: &quot;ecc2598b8adbbfd97dabf9069ecdbf8a3c85a198&quot;,<br>    &quot;cmc&quot;: 4,<br>    &quot;name&quot;: &quot;Channel the Suns&quot;,<br>    &quot;text&quot;: &quot;Add {W}{U}{B}{R}{G} to your mana pool.&quot;,<br>    &quot;type&quot;: &quot;Sorcery&quot;,<br>    &quot;types&quot;: [<br>        &quot;Sorcery&quot;<br>    ],<br>    &quot;artist&quot;: &quot;Rob Alexander&quot;,<br>    &quot;colors&quot;: [<br>        &quot;Green&quot;<br>    ],<br>    &quot;flavor&quot;: &quot;To some the birth of the fifth sun was a sign of doom. To others it was a sign of salvation. But to all it was a sign.&quot;,<br>    &quot;layout&quot;: &quot;normal&quot;,<br>    &quot;number&quot;: &quot;84&quot;,<br>    &quot;rarity&quot;: &quot;Uncommon&quot;,<br>    &quot;manaCost&quot;: &quot;{3}{G}&quot;,<br>    &quot;imageName&quot;: &quot;channel the suns&quot;,<br>    &quot;mciNumber&quot;: &quot;84&quot;,<br>    &quot;multiverseid&quot;: 73565,<br>    &quot;colorIdentity&quot;: [<br>        &quot;G&quot;,<br>        &quot;W&quot;,<br>        &quot;U&quot;,<br>        &quot;B&quot;,<br>        &quot;R&quot;<br>    ]<br>}</td>\n",
       "    </tr>\n",
       "    <tr>\n",
       "        <td>{<br>    &quot;id&quot;: &quot;5974d08bb692cfa7529d67d734602584c2ce6177&quot;,<br>    &quot;cmc&quot;: 6,<br>    &quot;name&quot;: &quot;Fangren Pathcutter&quot;,<br>    &quot;text&quot;: &quot;Whenever Fangren Pathcutter attacks, attacking creatures gain trample until end of turn.&quot;,<br>    &quot;type&quot;: &quot;Creature — Beast&quot;,<br>    &quot;power&quot;: &quot;4&quot;,<br>    &quot;types&quot;: [<br>        &quot;Creature&quot;<br>    ],<br>    &quot;artist&quot;: &quot;Rob Alexander&quot;,<br>    &quot;colors&quot;: [<br>        &quot;Green&quot;<br>    ],<br>    &quot;flavor&quot;: &quot;\\&quot;Tracking a fangren pack is easy. Catching up to one is fatal.\\&quot;\\n—Viridian scout&quot;,<br>    &quot;layout&quot;: &quot;normal&quot;,<br>    &quot;number&quot;: &quot;87&quot;,<br>    &quot;rarity&quot;: &quot;Uncommon&quot;,<br>    &quot;manaCost&quot;: &quot;{4}{G}{G}&quot;,<br>    &quot;subtypes&quot;: [<br>        &quot;Beast&quot;<br>    ],<br>    &quot;imageName&quot;: &quot;fangren pathcutter&quot;,<br>    &quot;mciNumber&quot;: &quot;87&quot;,<br>    &quot;toughness&quot;: &quot;6&quot;,<br>    &quot;multiverseid&quot;: 50171,<br>    &quot;colorIdentity&quot;: [<br>        &quot;G&quot;<br>    ]<br>}</td>\n",
       "    </tr>\n",
       "    <tr>\n",
       "        <td>{<br>    &quot;id&quot;: &quot;d9e2f2908f5d86cc2800ead3a23edf8fdbe344f2&quot;,<br>    &quot;cmc&quot;: 3,<br>    &quot;name&quot;: &quot;Brassclaw Orcs&quot;,<br>    &quot;text&quot;: &quot;Brassclaw Orcs can&#x27;t block creatures with power 2 or greater.&quot;,<br>    &quot;type&quot;: &quot;Creature — Orc&quot;,<br>    &quot;power&quot;: &quot;3&quot;,<br>    &quot;types&quot;: [<br>        &quot;Creature&quot;<br>    ],<br>    &quot;artist&quot;: &quot;Rob Alexander&quot;,<br>    &quot;colors&quot;: [<br>        &quot;Red&quot;<br>    ],<br>    &quot;flavor&quot;: &quot;\\&quot;Modern Sarpadia&#x27;s swarming with thrulls. It&#x27;s a testament to the orcs that they&#x27;ve survived there so long.\\&quot;\\n—Elbieta, Argivian scholar&quot;,<br>    &quot;layout&quot;: &quot;normal&quot;,<br>    &quot;rarity&quot;: &quot;Common&quot;,<br>    &quot;manaCost&quot;: &quot;{2}{R}&quot;,<br>    &quot;subtypes&quot;: [<br>        &quot;Orc&quot;<br>    ],<br>    &quot;imageName&quot;: &quot;brassclaw orcs&quot;,<br>    &quot;mciNumber&quot;: &quot;213&quot;,<br>    &quot;toughness&quot;: &quot;2&quot;,<br>    &quot;multiverseid&quot;: 4034,<br>    &quot;colorIdentity&quot;: [<br>        &quot;R&quot;<br>    ]<br>}</td>\n",
       "    </tr>\n",
       "    <tr>\n",
       "        <td>{<br>    &quot;id&quot;: &quot;abd301ae726d610e840acd56a7bb7e82dd6e6b13&quot;,<br>    &quot;cmc&quot;: 1,<br>    &quot;name&quot;: &quot;Twiddle&quot;,<br>    &quot;text&quot;: &quot;You may tap or untap target artifact, creature, or land.&quot;,<br>    &quot;type&quot;: &quot;Instant&quot;,<br>    &quot;types&quot;: [<br>        &quot;Instant&quot;<br>    ],<br>    &quot;artist&quot;: &quot;Rob Alexander&quot;,<br>    &quot;colors&quot;: [<br>        &quot;Blue&quot;<br>    ],<br>    &quot;layout&quot;: &quot;normal&quot;,<br>    &quot;rarity&quot;: &quot;Common&quot;,<br>    &quot;manaCost&quot;: &quot;{U}&quot;,<br>    &quot;imageName&quot;: &quot;twiddle&quot;,<br>    &quot;mciNumber&quot;: &quot;130&quot;,<br>    &quot;multiverseid&quot;: 3951,<br>    &quot;colorIdentity&quot;: [<br>        &quot;U&quot;<br>    ]<br>}</td>\n",
       "    </tr>\n",
       "    <tr>\n",
       "        <td>{<br>    &quot;id&quot;: &quot;ad75e812fc60a026d0aa52e94fb73da8e2c48446&quot;,<br>    &quot;cmc&quot;: 4,<br>    &quot;name&quot;: &quot;Armageddon&quot;,<br>    &quot;text&quot;: &quot;Destroy all lands.&quot;,<br>    &quot;type&quot;: &quot;Sorcery&quot;,<br>    &quot;types&quot;: [<br>        &quot;Sorcery&quot;<br>    ],<br>    &quot;artist&quot;: &quot;Rob Alexander&quot;,<br>    &quot;colors&quot;: [<br>        &quot;White&quot;<br>    ],<br>    &quot;layout&quot;: &quot;normal&quot;,<br>    &quot;number&quot;: &quot;4&quot;,<br>    &quot;rarity&quot;: &quot;Rare&quot;,<br>    &quot;manaCost&quot;: &quot;{3}{W}&quot;,<br>    &quot;imageName&quot;: &quot;armageddon&quot;,<br>    &quot;mciNumber&quot;: &quot;4&quot;,<br>    &quot;multiverseid&quot;: 14500,<br>    &quot;colorIdentity&quot;: [<br>        &quot;W&quot;<br>    ]<br>}</td>\n",
       "    </tr>\n",
       "    <tr>\n",
       "        <td>{<br>    &quot;id&quot;: &quot;1ff467d53ad0edd75f23e828ea56a03fe53ff4f3&quot;,<br>    &quot;cmc&quot;: 3,<br>    &quot;name&quot;: &quot;Exile&quot;,<br>    &quot;text&quot;: &quot;Exile target nonwhite attacking creature. You gain life equal to its toughness.&quot;,<br>    &quot;type&quot;: &quot;Instant&quot;,<br>    &quot;types&quot;: [<br>        &quot;Instant&quot;<br>    ],<br>    &quot;artist&quot;: &quot;Rob Alexander&quot;,<br>    &quot;colors&quot;: [<br>        &quot;White&quot;<br>    ],<br>    &quot;layout&quot;: &quot;normal&quot;,<br>    &quot;number&quot;: &quot;21&quot;,<br>    &quot;rarity&quot;: &quot;Rare&quot;,<br>    &quot;manaCost&quot;: &quot;{2}{W}&quot;,<br>    &quot;imageName&quot;: &quot;exile&quot;,<br>    &quot;mciNumber&quot;: &quot;21&quot;,<br>    &quot;multiverseid&quot;: 15350,<br>    &quot;colorIdentity&quot;: [<br>        &quot;W&quot;<br>    ]<br>}</td>\n",
       "    </tr>\n",
       "    <tr>\n",
       "        <td>{<br>    &quot;id&quot;: &quot;a4d905f9a2c73204a05838bb636e45d6028c6a63&quot;,<br>    &quot;cmc&quot;: 2,<br>    &quot;name&quot;: &quot;Wind Dancer&quot;,<br>    &quot;text&quot;: &quot;Flying\\n{T}: Target creature gains flying until end of turn.&quot;,<br>    &quot;type&quot;: &quot;Creature — Faerie&quot;,<br>    &quot;power&quot;: &quot;1&quot;,<br>    &quot;types&quot;: [<br>        &quot;Creature&quot;<br>    ],<br>    &quot;artist&quot;: &quot;Rob Alexander&quot;,<br>    &quot;colors&quot;: [<br>        &quot;Blue&quot;<br>    ],<br>    &quot;flavor&quot;: &quot;The sky is her stage.&quot;,<br>    &quot;layout&quot;: &quot;normal&quot;,<br>    &quot;number&quot;: &quot;113&quot;,<br>    &quot;rarity&quot;: &quot;Uncommon&quot;,<br>    &quot;manaCost&quot;: &quot;{1}{U}&quot;,<br>    &quot;subtypes&quot;: [<br>        &quot;Faerie&quot;<br>    ],<br>    &quot;imageName&quot;: &quot;wind dancer&quot;,<br>    &quot;mciNumber&quot;: &quot;113&quot;,<br>    &quot;toughness&quot;: &quot;1&quot;,<br>    &quot;multiverseid&quot;: 13038,<br>    &quot;colorIdentity&quot;: [<br>        &quot;U&quot;<br>    ]<br>}</td>\n",
       "    </tr>\n",
       "    <tr>\n",
       "        <td>{<br>    &quot;id&quot;: &quot;31b2b29d309b0098bedca08e78e631aeba9ee44d&quot;,<br>    &quot;cmc&quot;: 3,<br>    &quot;name&quot;: &quot;Verduran Enchantress&quot;,<br>    &quot;text&quot;: &quot;Whenever you cast an enchantment spell, you may draw a card.&quot;,<br>    &quot;type&quot;: &quot;Creature — Human Druid&quot;,<br>    &quot;power&quot;: &quot;0&quot;,<br>    &quot;types&quot;: [<br>        &quot;Creature&quot;<br>    ],<br>    &quot;artist&quot;: &quot;Rob Alexander&quot;,<br>    &quot;colors&quot;: [<br>        &quot;Green&quot;<br>    ],<br>    &quot;flavor&quot;: &quot;Each spell has its own song, and the enchantress knows the dance for each.&quot;,<br>    &quot;layout&quot;: &quot;normal&quot;,<br>    &quot;number&quot;: &quot;280&quot;,<br>    &quot;rarity&quot;: &quot;Rare&quot;,<br>    &quot;manaCost&quot;: &quot;{1}{G}{G}&quot;,<br>    &quot;subtypes&quot;: [<br>        &quot;Human&quot;,<br>        &quot;Druid&quot;<br>    ],<br>    &quot;imageName&quot;: &quot;verduran enchantress&quot;,<br>    &quot;mciNumber&quot;: &quot;280&quot;,<br>    &quot;toughness&quot;: &quot;2&quot;,<br>    &quot;multiverseid&quot;: 25594,<br>    &quot;colorIdentity&quot;: [<br>        &quot;G&quot;<br>    ]<br>}</td>\n",
       "    </tr>\n",
       "    <tr>\n",
       "        <td>{<br>    &quot;id&quot;: &quot;aa265ab530277d8d95e52d99883aa26f56351309&quot;,<br>    &quot;cmc&quot;: 0,<br>    &quot;name&quot;: &quot;Forest&quot;,<br>    &quot;type&quot;: &quot;Basic Land — Forest&quot;,<br>    &quot;types&quot;: [<br>        &quot;Land&quot;<br>    ],<br>    &quot;artist&quot;: &quot;Rob Alexander&quot;,<br>    &quot;layout&quot;: &quot;normal&quot;,<br>    &quot;number&quot;: &quot;329&quot;,<br>    &quot;rarity&quot;: &quot;Basic Land&quot;,<br>    &quot;subtypes&quot;: [<br>        &quot;Forest&quot;<br>    ],<br>    &quot;imageName&quot;: &quot;forest2&quot;,<br>    &quot;watermark&quot;: &quot;Green&quot;,<br>    &quot;supertypes&quot;: [<br>        &quot;Basic&quot;<br>    ],<br>    &quot;variations&quot;: [<br>        11289,<br>        11288,<br>        11286<br>    ],<br>    &quot;multiverseid&quot;: 11287,<br>    &quot;colorIdentity&quot;: [<br>        &quot;G&quot;<br>    ]<br>}</td>\n",
       "    </tr>\n",
       "    <tr>\n",
       "        <td>{<br>    &quot;id&quot;: &quot;6fcc017688be9d041e825b2a69b7d5f4880c763b&quot;,<br>    &quot;cmc&quot;: 0,<br>    &quot;name&quot;: &quot;Island&quot;,<br>    &quot;type&quot;: &quot;Basic Land — Island&quot;,<br>    &quot;types&quot;: [<br>        &quot;Land&quot;<br>    ],<br>    &quot;artist&quot;: &quot;Rob Alexander&quot;,<br>    &quot;layout&quot;: &quot;normal&quot;,<br>    &quot;number&quot;: &quot;333&quot;,<br>    &quot;rarity&quot;: &quot;Basic Land&quot;,<br>    &quot;subtypes&quot;: [<br>        &quot;Island&quot;<br>    ],<br>    &quot;imageName&quot;: &quot;island2&quot;,<br>    &quot;watermark&quot;: &quot;Blue&quot;,<br>    &quot;supertypes&quot;: [<br>        &quot;Basic&quot;<br>    ],<br>    &quot;variations&quot;: [<br>        11351,<br>        11348,<br>        11350<br>    ],<br>    &quot;multiverseid&quot;: 11349,<br>    &quot;colorIdentity&quot;: [<br>        &quot;U&quot;<br>    ]<br>}</td>\n",
       "    </tr>\n",
       "    <tr>\n",
       "        <td>{<br>    &quot;id&quot;: &quot;2f35b8f007a832815e0d5a9e4e37c782f08b03cb&quot;,<br>    &quot;cmc&quot;: 0,<br>    &quot;name&quot;: &quot;Mountain&quot;,<br>    &quot;type&quot;: &quot;Basic Land — Mountain&quot;,<br>    &quot;types&quot;: [<br>        &quot;Land&quot;<br>    ],<br>    &quot;artist&quot;: &quot;Rob Alexander&quot;,<br>    &quot;layout&quot;: &quot;normal&quot;,<br>    &quot;number&quot;: &quot;338&quot;,<br>    &quot;rarity&quot;: &quot;Basic Land&quot;,<br>    &quot;subtypes&quot;: [<br>        &quot;Mountain&quot;<br>    ],<br>    &quot;imageName&quot;: &quot;mountain2&quot;,<br>    &quot;watermark&quot;: &quot;Red&quot;,<br>    &quot;supertypes&quot;: [<br>        &quot;Basic&quot;<br>    ],<br>    &quot;variations&quot;: [<br>        11412,<br>        11413,<br>        11410<br>    ],<br>    &quot;multiverseid&quot;: 11411,<br>    &quot;colorIdentity&quot;: [<br>        &quot;R&quot;<br>    ]<br>}</td>\n",
       "    </tr>\n",
       "    <tr>\n",
       "        <td>{<br>    &quot;id&quot;: &quot;bf05297065e196927d552f2b79970f552a7ff4f1&quot;,<br>    &quot;cmc&quot;: 0,<br>    &quot;name&quot;: &quot;Mountain&quot;,<br>    &quot;type&quot;: &quot;Basic Land — Mountain&quot;,<br>    &quot;types&quot;: [<br>        &quot;Land&quot;<br>    ],<br>    &quot;artist&quot;: &quot;Rob Alexander&quot;,<br>    &quot;layout&quot;: &quot;normal&quot;,<br>    &quot;number&quot;: &quot;339&quot;,<br>    &quot;rarity&quot;: &quot;Basic Land&quot;,<br>    &quot;subtypes&quot;: [<br>        &quot;Mountain&quot;<br>    ],<br>    &quot;imageName&quot;: &quot;mountain3&quot;,<br>    &quot;watermark&quot;: &quot;Red&quot;,<br>    &quot;supertypes&quot;: [<br>        &quot;Basic&quot;<br>    ],<br>    &quot;variations&quot;: [<br>        11413,<br>        11411,<br>        11410<br>    ],<br>    &quot;multiverseid&quot;: 11412,<br>    &quot;colorIdentity&quot;: [<br>        &quot;R&quot;<br>    ]<br>}</td>\n",
       "    </tr>\n",
       "    <tr>\n",
       "        <td>{<br>    &quot;id&quot;: &quot;600f675d3969b5ce57c8e827caec216b811e1ae7&quot;,<br>    &quot;cmc&quot;: 0,<br>    &quot;name&quot;: &quot;Plains&quot;,<br>    &quot;type&quot;: &quot;Basic Land — Plains&quot;,<br>    &quot;types&quot;: [<br>        &quot;Land&quot;<br>    ],<br>    &quot;artist&quot;: &quot;Rob Alexander&quot;,<br>    &quot;layout&quot;: &quot;normal&quot;,<br>    &quot;number&quot;: &quot;342&quot;,<br>    &quot;rarity&quot;: &quot;Basic Land&quot;,<br>    &quot;subtypes&quot;: [<br>        &quot;Plains&quot;<br>    ],<br>    &quot;imageName&quot;: &quot;plains2&quot;,<br>    &quot;watermark&quot;: &quot;White&quot;,<br>    &quot;supertypes&quot;: [<br>        &quot;Basic&quot;<br>    ],<br>    &quot;variations&quot;: [<br>        11448,<br>        11449,<br>        11446<br>    ],<br>    &quot;multiverseid&quot;: 11447,<br>    &quot;colorIdentity&quot;: [<br>        &quot;W&quot;<br>    ]<br>}</td>\n",
       "    </tr>\n",
       "    <tr>\n",
       "        <td>{<br>    &quot;id&quot;: &quot;b1667020bdaa32f60f58329e3c4442f5f7cb3bf1&quot;,<br>    &quot;cmc&quot;: 0,<br>    &quot;name&quot;: &quot;Plains&quot;,<br>    &quot;type&quot;: &quot;Basic Land — Plains&quot;,<br>    &quot;types&quot;: [<br>        &quot;Land&quot;<br>    ],<br>    &quot;artist&quot;: &quot;Rob Alexander&quot;,<br>    &quot;layout&quot;: &quot;normal&quot;,<br>    &quot;number&quot;: &quot;343&quot;,<br>    &quot;rarity&quot;: &quot;Basic Land&quot;,<br>    &quot;subtypes&quot;: [<br>        &quot;Plains&quot;<br>    ],<br>    &quot;imageName&quot;: &quot;plains3&quot;,<br>    &quot;watermark&quot;: &quot;White&quot;,<br>    &quot;supertypes&quot;: [<br>        &quot;Basic&quot;<br>    ],<br>    &quot;variations&quot;: [<br>        11449,<br>        11446,<br>        11447<br>    ],<br>    &quot;multiverseid&quot;: 11448,<br>    &quot;colorIdentity&quot;: [<br>        &quot;W&quot;<br>    ]<br>}</td>\n",
       "    </tr>\n",
       "    <tr>\n",
       "        <td>{<br>    &quot;id&quot;: &quot;d9cfb1cf04142c28732fd110d551082831dc47ff&quot;,<br>    &quot;cmc&quot;: 0,<br>    &quot;name&quot;: &quot;Sulfurous Springs&quot;,<br>    &quot;text&quot;: &quot;{T}: Add {C} to your mana pool.\\n{T}: Add {B} or {R} to your mana pool. Sulfurous Springs deals 1 damage to you.&quot;,<br>    &quot;type&quot;: &quot;Land&quot;,<br>    &quot;types&quot;: [<br>        &quot;Land&quot;<br>    ],<br>    &quot;artist&quot;: &quot;Rob Alexander&quot;,<br>    &quot;layout&quot;: &quot;normal&quot;,<br>    &quot;number&quot;: &quot;345&quot;,<br>    &quot;rarity&quot;: &quot;Rare&quot;,<br>    &quot;imageName&quot;: &quot;sulfurous springs&quot;,<br>    &quot;mciNumber&quot;: &quot;345&quot;,<br>    &quot;multiverseid&quot;: 11519,<br>    &quot;colorIdentity&quot;: [<br>        &quot;B&quot;,<br>        &quot;R&quot;<br>    ]<br>}</td>\n",
       "    </tr>\n",
       "    <tr>\n",
       "        <td>{<br>    &quot;id&quot;: &quot;09e78bb62fa195c4f791d5f79c419e41c613f094&quot;,<br>    &quot;cmc&quot;: 0,<br>    &quot;name&quot;: &quot;Swamp&quot;,<br>    &quot;type&quot;: &quot;Basic Land — Swamp&quot;,<br>    &quot;types&quot;: [<br>        &quot;Land&quot;<br>    ],<br>    &quot;artist&quot;: &quot;Rob Alexander&quot;,<br>    &quot;layout&quot;: &quot;normal&quot;,<br>    &quot;number&quot;: &quot;347&quot;,<br>    &quot;rarity&quot;: &quot;Basic Land&quot;,<br>    &quot;subtypes&quot;: [<br>        &quot;Swamp&quot;<br>    ],<br>    &quot;imageName&quot;: &quot;swamp2&quot;,<br>    &quot;watermark&quot;: &quot;Black&quot;,<br>    &quot;supertypes&quot;: [<br>        &quot;Basic&quot;<br>    ],<br>    &quot;variations&quot;: [<br>        11524,<br>        11523,<br>        11521<br>    ],<br>    &quot;multiverseid&quot;: 11522,<br>    &quot;colorIdentity&quot;: [<br>        &quot;B&quot;<br>    ]<br>}</td>\n",
       "    </tr>\n",
       "    <tr>\n",
       "        <td>{<br>    &quot;id&quot;: &quot;d7d6fd34d4d92de555a47633297e9638f65304ea&quot;,<br>    &quot;cmc&quot;: 1,<br>    &quot;name&quot;: &quot;Rain of Blades&quot;,<br>    &quot;text&quot;: &quot;Rain of Blades deals 1 damage to each attacking creature.&quot;,<br>    &quot;type&quot;: &quot;Instant&quot;,<br>    &quot;types&quot;: [<br>        &quot;Instant&quot;<br>    ],<br>    &quot;artist&quot;: &quot;Rob Alexander&quot;,<br>    &quot;colors&quot;: [<br>        &quot;White&quot;<br>    ],<br>    &quot;flavor&quot;: &quot;Some say they are the weapons of heroes fallen in battle, eager for one last chance at glory.&quot;,<br>    &quot;layout&quot;: &quot;normal&quot;,<br>    &quot;number&quot;: &quot;35&quot;,<br>    &quot;rarity&quot;: &quot;Uncommon&quot;,<br>    &quot;manaCost&quot;: &quot;{W}&quot;,<br>    &quot;imageName&quot;: &quot;rain of blades&quot;,<br>    &quot;mciNumber&quot;: &quot;35&quot;,<br>    &quot;multiverseid&quot;: 45198,<br>    &quot;colorIdentity&quot;: [<br>        &quot;W&quot;<br>    ]<br>}</td>\n",
       "    </tr>\n",
       "    <tr>\n",
       "        <td>{<br>    &quot;id&quot;: &quot;4658115a9fc842fdc0a82baecfac0a39e76bc17b&quot;,<br>    &quot;cmc&quot;: 5,<br>    &quot;name&quot;: &quot;Evacuation&quot;,<br>    &quot;text&quot;: &quot;Return all creatures to their owners&#x27; hands.&quot;,<br>    &quot;type&quot;: &quot;Instant&quot;,<br>    &quot;types&quot;: [<br>        &quot;Instant&quot;<br>    ],<br>    &quot;artist&quot;: &quot;Rob Alexander&quot;,<br>    &quot;colors&quot;: [<br>        &quot;Blue&quot;<br>    ],<br>    &quot;flavor&quot;: &quot;Which is more unsettling: the roar of battle or the silence that follows?&quot;,<br>    &quot;layout&quot;: &quot;normal&quot;,<br>    &quot;number&quot;: &quot;76&quot;,<br>    &quot;rarity&quot;: &quot;Rare&quot;,<br>    &quot;manaCost&quot;: &quot;{3}{U}{U}&quot;,<br>    &quot;imageName&quot;: &quot;evacuation&quot;,<br>    &quot;mciNumber&quot;: &quot;76&quot;,<br>    &quot;multiverseid&quot;: 45281,<br>    &quot;colorIdentity&quot;: [<br>        &quot;U&quot;<br>    ]<br>}</td>\n",
       "    </tr>\n",
       "    <tr>\n",
       "        <td>{<br>    &quot;id&quot;: &quot;6dae7f5b57dea1147610610877e49db4e2a9994e&quot;,<br>    &quot;cmc&quot;: 0,<br>    &quot;name&quot;: &quot;Shivan Oasis&quot;,<br>    &quot;text&quot;: &quot;Shivan Oasis enters the battlefield tapped.\\n{T}: Add {R} or {G} to your mana pool.&quot;,<br>    &quot;type&quot;: &quot;Land&quot;,<br>    &quot;types&quot;: [<br>        &quot;Land&quot;<br>    ],<br>    &quot;artist&quot;: &quot;Rob Alexander&quot;,<br>    &quot;flavor&quot;: &quot;Only the hardiest explorers survive to eat the fruit.&quot;,<br>    &quot;layout&quot;: &quot;normal&quot;,<br>    &quot;number&quot;: &quot;326&quot;,<br>    &quot;rarity&quot;: &quot;Uncommon&quot;,<br>    &quot;imageName&quot;: &quot;shivan oasis&quot;,<br>    &quot;mciNumber&quot;: &quot;326&quot;,<br>    &quot;multiverseid&quot;: 45494,<br>    &quot;colorIdentity&quot;: [<br>        &quot;R&quot;,<br>        &quot;G&quot;<br>    ]<br>}</td>\n",
       "    </tr>\n",
       "    <tr>\n",
       "        <td>{<br>    &quot;id&quot;: &quot;b0df5e43ada0f9fc603cf741fac87876623239bc&quot;,<br>    &quot;cmc&quot;: 4,<br>    &quot;name&quot;: &quot;Lesser Gargadon&quot;,<br>    &quot;text&quot;: &quot;Whenever Lesser Gargadon attacks or blocks, sacrifice a land.&quot;,<br>    &quot;type&quot;: &quot;Creature — Beast&quot;,<br>    &quot;power&quot;: &quot;6&quot;,<br>    &quot;types&quot;: [<br>        &quot;Creature&quot;<br>    ],<br>    &quot;artist&quot;: &quot;Rob Alexander&quot;,<br>    &quot;colors&quot;: [<br>        &quot;Red&quot;<br>    ],<br>    &quot;flavor&quot;: &quot;\\&quot;In some cultures, elephants are ridden by those in power. I don&#x27;t think a mere elephant would even be noticed in Keld.\\&quot;\\n—Onean sergeant&quot;,<br>    &quot;layout&quot;: &quot;normal&quot;,<br>    &quot;number&quot;: &quot;199&quot;,<br>    &quot;rarity&quot;: &quot;Uncommon&quot;,<br>    &quot;manaCost&quot;: &quot;{2}{R}{R}&quot;,<br>    &quot;subtypes&quot;: [<br>        &quot;Beast&quot;<br>    ],<br>    &quot;imageName&quot;: &quot;lesser gargadon&quot;,<br>    &quot;mciNumber&quot;: &quot;199&quot;,<br>    &quot;toughness&quot;: &quot;4&quot;,<br>    &quot;multiverseid&quot;: 45370,<br>    &quot;colorIdentity&quot;: [<br>        &quot;R&quot;<br>    ]<br>}</td>\n",
       "    </tr>\n",
       "    <tr>\n",
       "        <td>{<br>    &quot;id&quot;: &quot;9adba308b9caa7bd2939307bb0e62624e96869ea&quot;,<br>    &quot;cmc&quot;: 3,<br>    &quot;name&quot;: &quot;Wall of Stone&quot;,<br>    &quot;text&quot;: &quot;Defender (This creature can&#x27;t attack.)&quot;,<br>    &quot;type&quot;: &quot;Creature — Wall&quot;,<br>    &quot;power&quot;: &quot;0&quot;,<br>    &quot;types&quot;: [<br>        &quot;Creature&quot;<br>    ],<br>    &quot;artist&quot;: &quot;Rob Alexander&quot;,<br>    &quot;colors&quot;: [<br>        &quot;Red&quot;<br>    ],<br>    &quot;flavor&quot;: &quot;The ground itself lends its strength to these walls of living stone, which possess the stability of ancient mountains. These mighty bulwarks thwart ground-based troops, providing welcome relief for weary warriors who defend the land.&quot;,<br>    &quot;layout&quot;: &quot;normal&quot;,<br>    &quot;number&quot;: &quot;232&quot;,<br>    &quot;rarity&quot;: &quot;Uncommon&quot;,<br>    &quot;manaCost&quot;: &quot;{1}{R}{R}&quot;,<br>    &quot;subtypes&quot;: [<br>        &quot;Wall&quot;<br>    ],<br>    &quot;imageName&quot;: &quot;wall of stone&quot;,<br>    &quot;mciNumber&quot;: &quot;232&quot;,<br>    &quot;toughness&quot;: &quot;8&quot;,<br>    &quot;multiverseid&quot;: 45368,<br>    &quot;colorIdentity&quot;: [<br>        &quot;R&quot;<br>    ]<br>}</td>\n",
       "    </tr>\n",
       "    <tr>\n",
       "        <td>{<br>    &quot;id&quot;: &quot;7fd13fc9ad52dd0f95c7fc368355dabe917e5aa5&quot;,<br>    &quot;cmc&quot;: 5,<br>    &quot;name&quot;: &quot;Plow Under&quot;,<br>    &quot;text&quot;: &quot;Put two target lands on top of their owners&#x27; libraries.&quot;,<br>    &quot;type&quot;: &quot;Sorcery&quot;,<br>    &quot;types&quot;: [<br>        &quot;Sorcery&quot;<br>    ],<br>    &quot;artist&quot;: &quot;Rob Alexander&quot;,<br>    &quot;colors&quot;: [<br>        &quot;Green&quot;<br>    ],<br>    &quot;flavor&quot;: &quot;To renew the land, plow the land.\\nTo destroy the land, do nothing.\\n—Druids&#x27; saying&quot;,<br>    &quot;layout&quot;: &quot;normal&quot;,<br>    &quot;number&quot;: &quot;272&quot;,<br>    &quot;rarity&quot;: &quot;Rare&quot;,<br>    &quot;manaCost&quot;: &quot;{3}{G}{G}&quot;,<br>    &quot;imageName&quot;: &quot;plow under&quot;,<br>    &quot;mciNumber&quot;: &quot;272&quot;,<br>    &quot;multiverseid&quot;: 45450,<br>    &quot;colorIdentity&quot;: [<br>        &quot;G&quot;<br>    ]<br>}</td>\n",
       "    </tr>\n",
       "    <tr>\n",
       "        <td>{<br>    &quot;id&quot;: &quot;77fd93da8c0160d38eb2ee525391b247eaf7b267&quot;,<br>    &quot;cmc&quot;: 3,<br>    &quot;name&quot;: &quot;Verduran Enchantress&quot;,<br>    &quot;text&quot;: &quot;Whenever you cast an enchantment spell, you may draw a card.&quot;,<br>    &quot;type&quot;: &quot;Creature — Human Druid&quot;,<br>    &quot;power&quot;: &quot;0&quot;,<br>    &quot;types&quot;: [<br>        &quot;Creature&quot;<br>    ],<br>    &quot;artist&quot;: &quot;Rob Alexander&quot;,<br>    &quot;colors&quot;: [<br>        &quot;Green&quot;<br>    ],<br>    &quot;flavor&quot;: &quot;\\&quot;Graceful? Yes. Beautiful? Absolutely. Harmless? Definitely not.\\&quot;\\n—Fyndhorn elder&quot;,<br>    &quot;layout&quot;: &quot;normal&quot;,<br>    &quot;number&quot;: &quot;285&quot;,<br>    &quot;rarity&quot;: &quot;Rare&quot;,<br>    &quot;manaCost&quot;: &quot;{1}{G}{G}&quot;,<br>    &quot;subtypes&quot;: [<br>        &quot;Human&quot;,<br>        &quot;Druid&quot;<br>    ],<br>    &quot;imageName&quot;: &quot;verduran enchantress&quot;,<br>    &quot;mciNumber&quot;: &quot;285&quot;,<br>    &quot;toughness&quot;: &quot;2&quot;,<br>    &quot;multiverseid&quot;: 45443,<br>    &quot;colorIdentity&quot;: [<br>        &quot;G&quot;<br>    ]<br>}</td>\n",
       "    </tr>\n",
       "    <tr>\n",
       "        <td>{<br>    &quot;id&quot;: &quot;abad32afb086f62ef2d9dcf9f6ede9e3e8e6291b&quot;,<br>    &quot;cmc&quot;: 0,<br>    &quot;name&quot;: &quot;Taiga&quot;,<br>    &quot;text&quot;: &quot;({T}: Add {R} or {G} to your mana pool.)&quot;,<br>    &quot;type&quot;: &quot;Land — Mountain Forest&quot;,<br>    &quot;types&quot;: [<br>        &quot;Land&quot;<br>    ],<br>    &quot;artist&quot;: &quot;Rob Alexander&quot;,<br>    &quot;layout&quot;: &quot;normal&quot;,<br>    &quot;rarity&quot;: &quot;Rare&quot;,<br>    &quot;reserved&quot;: true,<br>    &quot;subtypes&quot;: [<br>        &quot;Mountain&quot;,<br>        &quot;Forest&quot;<br>    ],<br>    &quot;imageName&quot;: &quot;taiga&quot;,<br>    &quot;mciNumber&quot;: &quot;298&quot;,<br>    &quot;colorIdentity&quot;: [<br>        &quot;R&quot;,<br>        &quot;G&quot;<br>    ]<br>}</td>\n",
       "    </tr>\n",
       "    <tr>\n",
       "        <td>{<br>    &quot;id&quot;: &quot;83114b26923db80fd6c3bb47f3f864b8ee187f06&quot;,<br>    &quot;cmc&quot;: 0,<br>    &quot;name&quot;: &quot;Mountain&quot;,<br>    &quot;type&quot;: &quot;Basic Land — Mountain&quot;,<br>    &quot;types&quot;: [<br>        &quot;Land&quot;<br>    ],<br>    &quot;artist&quot;: &quot;Rob Alexander&quot;,<br>    &quot;layout&quot;: &quot;normal&quot;,<br>    &quot;number&quot;: &quot;346&quot;,<br>    &quot;rarity&quot;: &quot;Basic Land&quot;,<br>    &quot;subtypes&quot;: [<br>        &quot;Mountain&quot;<br>    ],<br>    &quot;imageName&quot;: &quot;mountain4&quot;,<br>    &quot;watermark&quot;: &quot;Red&quot;,<br>    &quot;supertypes&quot;: [<br>        &quot;Basic&quot;<br>    ],<br>    &quot;variations&quot;: [<br>        46451,<br>        46450,<br>        46449<br>    ],<br>    &quot;multiverseid&quot;: 46452,<br>    &quot;colorIdentity&quot;: [<br>        &quot;R&quot;<br>    ]<br>}</td>\n",
       "    </tr>\n",
       "    <tr>\n",
       "        <td>{<br>    &quot;id&quot;: &quot;f22a2ba0f4f3620b92c2b0a2ede306b856188285&quot;,<br>    &quot;cmc&quot;: 5,<br>    &quot;name&quot;: &quot;Evacuation&quot;,<br>    &quot;text&quot;: &quot;Return all creatures to their owners&#x27; hands.&quot;,<br>    &quot;type&quot;: &quot;Instant&quot;,<br>    &quot;types&quot;: [<br>        &quot;Instant&quot;<br>    ],<br>    &quot;artist&quot;: &quot;Rob Alexander&quot;,<br>    &quot;colors&quot;: [<br>        &quot;Blue&quot;<br>    ],<br>    &quot;flavor&quot;: &quot;Which is more unsettling: the roar of battle or the silence that follows?&quot;,<br>    &quot;layout&quot;: &quot;normal&quot;,<br>    &quot;number&quot;: &quot;75&quot;,<br>    &quot;rarity&quot;: &quot;Rare&quot;,<br>    &quot;manaCost&quot;: &quot;{3}{U}{U}&quot;,<br>    &quot;imageName&quot;: &quot;evacuation&quot;,<br>    &quot;mciNumber&quot;: &quot;75&quot;,<br>    &quot;multiverseid&quot;: 83078,<br>    &quot;colorIdentity&quot;: [<br>        &quot;U&quot;<br>    ]<br>}</td>\n",
       "    </tr>\n",
       "</table>"
      ],
      "text/plain": [
       "[('{\\n    \"id\": \"4a7bf234af44e07d9a159d4d89e96ce320919917\",\\n    \"cmc\": 6,\\n    \"name\": \"Beacon of Immortality\",\\n    \"text\": \"Double target player\\'s l ... (393 characters truncated) ... }{W}\",\\n    \"imageName\": \"beacon of immortality\",\\n    \"mciNumber\": \"10\",\\n    \"multiverseid\": 130553,\\n    \"colorIdentity\": [\\n        \"W\"\\n    ]\\n}',),\n",
       " ('{\\n    \"id\": \"9cea331c080c3bbc7987c6560f65e39e9d1ed34f\",\\n    \"cmc\": 5,\\n    \"name\": \"Kavu Climber\",\\n    \"text\": \"When Kavu Climber enters the battl ... (522 characters truncated) ... ageName\": \"kavu climber\",\\n    \"mciNumber\": \"273\",\\n    \"toughness\": \"3\",\\n    \"multiverseid\": 129511,\\n    \"colorIdentity\": [\\n        \"G\"\\n    ]\\n}',),\n",
       " ('{\\n    \"id\": \"28cc7c79cca8939fd9661f7abfc6ca453715b75e\",\\n    \"cmc\": 0,\\n    \"name\": \"Llanowar Wastes\",\\n    \"text\": \"{T}: Add {C} to your mana pool. ... (248 characters truncated) ...    \"imageName\": \"llanowar wastes\",\\n    \"mciNumber\": \"355\",\\n    \"multiverseid\": 129627,\\n    \"colorIdentity\": [\\n        \"B\",\\n        \"G\"\\n    ]\\n}',),\n",
       " ('{\\n    \"id\": \"7a90b7ba6197f8774ed99ecf75ac9abb3e0c0f20\",\\n    \"cmc\": 0,\\n    \"name\": \"Shivan Reef\",\\n    \"text\": \"{T}: Add {C} to your mana pool.\\\\n{ ... (236 characters truncated) ... ,\\n    \"imageName\": \"shivan reef\",\\n    \"mciNumber\": \"357\",\\n    \"multiverseid\": 129731,\\n    \"colorIdentity\": [\\n        \"U\",\\n        \"R\"\\n    ]\\n}',),\n",
       " ('{\\n    \"id\": \"8d1035f151615c949d0645b70fe01d8ab4a3f796\",\\n    \"cmc\": 0,\\n    \"name\": \"Sulfurous Springs\",\\n    \"text\": \"{T}: Add {C} to your mana poo ... (254 characters truncated) ...  \"imageName\": \"sulfurous springs\",\\n    \"mciNumber\": \"359\",\\n    \"multiverseid\": 129751,\\n    \"colorIdentity\": [\\n        \"B\",\\n        \"R\"\\n    ]\\n}',),\n",
       " ('{\\n    \"id\": \"c97103ab834aad9b3fb7d07c4fb563089f97fe87\",\\n    \"cmc\": 0,\\n    \"name\": \"Treetop Village\",\\n    \"text\": \"Treetop Village enters the batt ... (469 characters truncated) ... \"Uncommon\",\\n    \"imageName\": \"treetop village\",\\n    \"mciNumber\": \"361\",\\n    \"multiverseid\": 106455,\\n    \"colorIdentity\": [\\n        \"G\"\\n    ]\\n}',),\n",
       " ('{\\n    \"id\": \"24a47bf9cb4596246501294e7127bf74e082bc1d\",\\n    \"cmc\": 0,\\n    \"name\": \"Plains\",\\n    \"type\": \"Basic Land — Plains\",\\n    \"types\": [\\n  ... (282 characters truncated) ... \"variations\": [\\n        129682,\\n        129683,\\n        129681\\n    ],\\n    \"multiverseid\": 129680,\\n    \"colorIdentity\": [\\n        \"W\"\\n    ]\\n}',),\n",
       " ('{\\n    \"id\": \"be5e30798e4f8b9b6f6e6a8dd2e30bf86bb04b94\",\\n    \"cmc\": 0,\\n    \"name\": \"Forest\",\\n    \"type\": \"Basic Land — Forest\",\\n    \"types\": [\\n  ... (282 characters truncated) ... \"variations\": [\\n        129559,\\n        129562,\\n        129560\\n    ],\\n    \"multiverseid\": 129561,\\n    \"colorIdentity\": [\\n        \"G\"\\n    ]\\n}',),\n",
       " ('{\\n    \"id\": \"4c3d9f2b7086021880c8268f9def8f7548116d17\",\\n    \"cmc\": 0,\\n    \"name\": \"Badlands\",\\n    \"text\": \"({T}: Add {B} or {R} to your mana pool ... (243 characters truncated) ... n    ],\\n    \"imageName\": \"badlands\",\\n    \"mciNumber\": \"278\",\\n    \"multiverseid\": 878,\\n    \"colorIdentity\": [\\n        \"B\",\\n        \"R\"\\n    ]\\n}',),\n",
       " ('{\\n    \"id\": \"3ad1eecb97909f6d45763cc87c07fa23cf574cf7\",\\n    \"cmc\": 1,\\n    \"name\": \"Lance\",\\n    \"text\": \"Enchant creature\\\\nEnchanted creature has ... (267 characters truncated) ... \\n        \"Aura\"\\n    ],\\n    \"imageName\": \"lance\",\\n    \"mciNumber\": \"212\",\\n    \"multiverseid\": 856,\\n    \"colorIdentity\": [\\n        \"W\"\\n    ]\\n}',),\n",
       " ('{\\n    \"id\": \"372383e545f466edb88777a0d982ee4e488bcdc1\",\\n    \"cmc\": 0,\\n    \"name\": \"Savannah\",\\n    \"text\": \"({T}: Add {G} or {W} to your mana pool ... (241 characters truncated) ... n    ],\\n    \"imageName\": \"savannah\",\\n    \"mciNumber\": \"293\",\\n    \"multiverseid\": 881,\\n    \"colorIdentity\": [\\n        \"W\",\\n        \"G\"\\n    ]\\n}',),\n",
       " ('{\\n    \"id\": \"de3f9e2afb8cc08ae524427967d2a0bcc6a9bbff\",\\n    \"cmc\": 0,\\n    \"name\": \"Taiga\",\\n    \"text\": \"({T}: Add {R} or {G} to your mana pool.)\" ... (239 characters truncated) ... t\"\\n    ],\\n    \"imageName\": \"taiga\",\\n    \"mciNumber\": \"298\",\\n    \"multiverseid\": 883,\\n    \"colorIdentity\": [\\n        \"R\",\\n        \"G\"\\n    ]\\n}',),\n",
       " ('{\\n    \"id\": \"b2e04c730778a582711103c09820d38fd5979d47\",\\n    \"cmc\": 1,\\n    \"name\": \"Twiddle\",\\n    \"text\": \"You may tap or untap target artifact, c ... (210 characters truncated) ... n    \"manaCost\": \"{U}\",\\n    \"imageName\": \"twiddle\",\\n    \"mciNumber\": \"86\",\\n    \"multiverseid\": 730,\\n    \"colorIdentity\": [\\n        \"U\"\\n    ]\\n}',),\n",
       " ('{\\n    \"id\": \"f2e43bf7d8de9d145c7fe3a50b8db627c2ce9fcf\",\\n    \"cmc\": 0,\\n    \"name\": \"Underground Sea\",\\n    \"text\": \"({T}: Add {U} or {B} to your ma ... (253 characters truncated) ... \\n    \"imageName\": \"underground sea\",\\n    \"mciNumber\": \"301\",\\n    \"multiverseid\": 886,\\n    \"colorIdentity\": [\\n        \"U\",\\n        \"B\"\\n    ]\\n}',),\n",
       " ('{\\n    \"id\": \"6834796686ce37a27b51e6e58b6f4bd2f3d8e213\",\\n    \"cmc\": 0,\\n    \"name\": \"Badlands\",\\n    \"text\": \"({T}: Add {B} or {R} to your mana pool ... (244 characters truncated) ...     ],\\n    \"imageName\": \"badlands\",\\n    \"mciNumber\": \"282\",\\n    \"multiverseid\": 1376,\\n    \"colorIdentity\": [\\n        \"B\",\\n        \"R\"\\n    ]\\n}',),\n",
       " ('{\\n    \"id\": \"d8733e2adbc42fc35522e53b5858711233830eff\",\\n    \"cmc\": 1,\\n    \"name\": \"Web\",\\n    \"text\": \"Enchant creature (Target a creature as you  ... (403 characters truncated) ...  [\\n        \"Aura\"\\n    ],\\n    \"imageName\": \"web\",\\n    \"mciNumber\": \"137\",\\n    \"multiverseid\": 781,\\n    \"colorIdentity\": [\\n        \"G\"\\n    ]\\n}',),\n",
       " ('{\\n    \"id\": \"b3b5966dbd797a6310b63adb026b9395842bccc9\",\\n    \"cmc\": 1,\\n    \"name\": \"Lance\",\\n    \"text\": \"Enchant creature\\\\nEnchanted creature has ... (268 characters truncated) ... n        \"Aura\"\\n    ],\\n    \"imageName\": \"lance\",\\n    \"mciNumber\": \"211\",\\n    \"multiverseid\": 1353,\\n    \"colorIdentity\": [\\n        \"W\"\\n    ]\\n}',),\n",
       " ('{\\n    \"id\": \"aa6b2976163132342ca714e602306d84072f8c46\",\\n    \"cmc\": 0,\\n    \"name\": \"Savannah\",\\n    \"text\": \"({T}: Add {G} or {W} to your mana pool ... (242 characters truncated) ...     ],\\n    \"imageName\": \"savannah\",\\n    \"mciNumber\": \"297\",\\n    \"multiverseid\": 1379,\\n    \"colorIdentity\": [\\n        \"W\",\\n        \"G\"\\n    ]\\n}',),\n",
       " ('{\\n    \"id\": \"61e5ae3fffd27b097561bb6ffc69bcf01b01a7d8\",\\n    \"cmc\": 0,\\n    \"name\": \"Taiga\",\\n    \"text\": \"({T}: Add {R} or {G} to your mana pool.)\" ... (240 characters truncated) ... \"\\n    ],\\n    \"imageName\": \"taiga\",\\n    \"mciNumber\": \"302\",\\n    \"multiverseid\": 1381,\\n    \"colorIdentity\": [\\n        \"R\",\\n        \"G\"\\n    ]\\n}',),\n",
       " ('{\\n    \"id\": \"5a6bb60ca2e989f38baf9d93d736766e1bc530db\",\\n    \"cmc\": 0,\\n    \"name\": \"Underground Sea\",\\n    \"text\": \"({T}: Add {U} or {B} to your ma ... (254 characters truncated) ... n    \"imageName\": \"underground sea\",\\n    \"mciNumber\": \"305\",\\n    \"multiverseid\": 1384,\\n    \"colorIdentity\": [\\n        \"U\",\\n        \"B\"\\n    ]\\n}',),\n",
       " ('{\\n    \"id\": \"75c96b84411c1716871d249fe6144c7f68197ffd\",\\n    \"cmc\": 1,\\n    \"name\": \"Web\",\\n    \"text\": \"Enchant creature (Target a creature as you  ... (404 characters truncated) ... [\\n        \"Aura\"\\n    ],\\n    \"imageName\": \"web\",\\n    \"mciNumber\": \"136\",\\n    \"multiverseid\": 1278,\\n    \"colorIdentity\": [\\n        \"G\"\\n    ]\\n}',),\n",
       " ('{\\n    \"id\": \"56a5075ff5135143fe375085866ae479c30b1397\",\\n    \"cmc\": 1,\\n    \"name\": \"Twiddle\",\\n    \"text\": \"You may tap or untap target artifact, c ... (212 characters truncated) ...    \"manaCost\": \"{U}\",\\n    \"imageName\": \"twiddle\",\\n    \"mciNumber\": \"109\",\\n    \"multiverseid\": 2192,\\n    \"colorIdentity\": [\\n        \"U\"\\n    ]\\n}',),\n",
       " ('{\\n    \"id\": \"172169e27a7de50d089f6fc7dfd2e41c276a1a7d\",\\n    \"cmc\": 1,\\n    \"name\": \"Web\",\\n    \"text\": \"Enchant creature (Target a creature as you  ... (404 characters truncated) ... [\\n        \"Aura\"\\n    ],\\n    \"imageName\": \"web\",\\n    \"mciNumber\": \"171\",\\n    \"multiverseid\": 2254,\\n    \"colorIdentity\": [\\n        \"G\"\\n    ]\\n}',),\n",
       " ('{\\n    \"id\": \"08e234d3ee6bf54b32249f796590d0f2d7dd36ad\",\\n    \"cmc\": 6,\\n    \"name\": \"Beacon of Immortality\",\\n    \"text\": \"Double target player\\'s l ... (390 characters truncated) ... {5}{W}\",\\n    \"imageName\": \"beacon of immortality\",\\n    \"mciNumber\": \"6\",\\n    \"multiverseid\": 50141,\\n    \"colorIdentity\": [\\n        \"W\"\\n    ]\\n}',),\n",
       " ('{\\n    \"id\": \"ecc2598b8adbbfd97dabf9069ecdbf8a3c85a198\",\\n    \"cmc\": 4,\\n    \"name\": \"Channel the Suns\",\\n    \"text\": \"Add {W}{U}{B}{R}{G} to your ma ... (432 characters truncated) ... \"mciNumber\": \"84\",\\n    \"multiverseid\": 73565,\\n    \"colorIdentity\": [\\n        \"G\",\\n        \"W\",\\n        \"U\",\\n        \"B\",\\n        \"R\"\\n    ]\\n}',),\n",
       " ('{\\n    \"id\": \"5974d08bb692cfa7529d67d734602584c2ce6177\",\\n    \"cmc\": 6,\\n    \"name\": \"Fangren Pathcutter\",\\n    \"text\": \"Whenever Fangren Pathcutter  ... (496 characters truncated) ... ame\": \"fangren pathcutter\",\\n    \"mciNumber\": \"87\",\\n    \"toughness\": \"6\",\\n    \"multiverseid\": 50171,\\n    \"colorIdentity\": [\\n        \"G\"\\n    ]\\n}',),\n",
       " ('{\\n    \"id\": \"d9e2f2908f5d86cc2800ead3a23edf8fdbe344f2\",\\n    \"cmc\": 3,\\n    \"name\": \"Brassclaw Orcs\",\\n    \"text\": \"Brassclaw Orcs can\\'t block crea ... (489 characters truncated) ... ageName\": \"brassclaw orcs\",\\n    \"mciNumber\": \"213\",\\n    \"toughness\": \"2\",\\n    \"multiverseid\": 4034,\\n    \"colorIdentity\": [\\n        \"R\"\\n    ]\\n}',),\n",
       " ('{\\n    \"id\": \"abd301ae726d610e840acd56a7bb7e82dd6e6b13\",\\n    \"cmc\": 1,\\n    \"name\": \"Twiddle\",\\n    \"text\": \"You may tap or untap target artifact, c ... (212 characters truncated) ...    \"manaCost\": \"{U}\",\\n    \"imageName\": \"twiddle\",\\n    \"mciNumber\": \"130\",\\n    \"multiverseid\": 3951,\\n    \"colorIdentity\": [\\n        \"U\"\\n    ]\\n}',),\n",
       " ('{\\n    \"id\": \"ad75e812fc60a026d0aa52e94fb73da8e2c48446\",\\n    \"cmc\": 4,\\n    \"name\": \"Armageddon\",\\n    \"text\": \"Destroy all lands.\",\\n    \"type\": \"S ... (201 characters truncated) ... anaCost\": \"{3}{W}\",\\n    \"imageName\": \"armageddon\",\\n    \"mciNumber\": \"4\",\\n    \"multiverseid\": 14500,\\n    \"colorIdentity\": [\\n        \"W\"\\n    ]\\n}',),\n",
       " ('{\\n    \"id\": \"1ff467d53ad0edd75f23e828ea56a03fe53ff4f3\",\\n    \"cmc\": 3,\\n    \"name\": \"Exile\",\\n    \"text\": \"Exile target nonwhite attacking creature. ... (254 characters truncated) ...   \"manaCost\": \"{2}{W}\",\\n    \"imageName\": \"exile\",\\n    \"mciNumber\": \"21\",\\n    \"multiverseid\": 15350,\\n    \"colorIdentity\": [\\n        \"W\"\\n    ]\\n}',),\n",
       " ('{\\n    \"id\": \"a4d905f9a2c73204a05838bb636e45d6028c6a63\",\\n    \"cmc\": 2,\\n    \"name\": \"Wind Dancer\",\\n    \"text\": \"Flying\\\\n{T}: Target creature gains ... (391 characters truncated) ... imageName\": \"wind dancer\",\\n    \"mciNumber\": \"113\",\\n    \"toughness\": \"1\",\\n    \"multiverseid\": 13038,\\n    \"colorIdentity\": [\\n        \"U\"\\n    ]\\n}',),\n",
       " ('{\\n    \"id\": \"31b2b29d309b0098bedca08e78e631aeba9ee44d\",\\n    \"cmc\": 3,\\n    \"name\": \"Verduran Enchantress\",\\n    \"text\": \"Whenever you cast an encha ... (483 characters truncated) ... \": \"verduran enchantress\",\\n    \"mciNumber\": \"280\",\\n    \"toughness\": \"2\",\\n    \"multiverseid\": 25594,\\n    \"colorIdentity\": [\\n        \"G\"\\n    ]\\n}',),\n",
       " ('{\\n    \"id\": \"aa265ab530277d8d95e52d99883aa26f56351309\",\\n    \"cmc\": 0,\\n    \"name\": \"Forest\",\\n    \"type\": \"Basic Land — Forest\",\\n    \"types\": [\\n  ... (278 characters truncated) ...     \"variations\": [\\n        11289,\\n        11288,\\n        11286\\n    ],\\n    \"multiverseid\": 11287,\\n    \"colorIdentity\": [\\n        \"G\"\\n    ]\\n}',),\n",
       " ('{\\n    \"id\": \"6fcc017688be9d041e825b2a69b7d5f4880c763b\",\\n    \"cmc\": 0,\\n    \"name\": \"Island\",\\n    \"type\": \"Basic Land — Island\",\\n    \"types\": [\\n  ... (277 characters truncated) ...     \"variations\": [\\n        11351,\\n        11348,\\n        11350\\n    ],\\n    \"multiverseid\": 11349,\\n    \"colorIdentity\": [\\n        \"U\"\\n    ]\\n}',),\n",
       " ('{\\n    \"id\": \"2f35b8f007a832815e0d5a9e4e37c782f08b03cb\",\\n    \"cmc\": 0,\\n    \"name\": \"Mountain\",\\n    \"type\": \"Basic Land — Mountain\",\\n    \"types\":  ... (284 characters truncated) ...     \"variations\": [\\n        11412,\\n        11413,\\n        11410\\n    ],\\n    \"multiverseid\": 11411,\\n    \"colorIdentity\": [\\n        \"R\"\\n    ]\\n}',),\n",
       " ('{\\n    \"id\": \"bf05297065e196927d552f2b79970f552a7ff4f1\",\\n    \"cmc\": 0,\\n    \"name\": \"Mountain\",\\n    \"type\": \"Basic Land — Mountain\",\\n    \"types\":  ... (284 characters truncated) ...     \"variations\": [\\n        11413,\\n        11411,\\n        11410\\n    ],\\n    \"multiverseid\": 11412,\\n    \"colorIdentity\": [\\n        \"R\"\\n    ]\\n}',),\n",
       " ('{\\n    \"id\": \"600f675d3969b5ce57c8e827caec216b811e1ae7\",\\n    \"cmc\": 0,\\n    \"name\": \"Plains\",\\n    \"type\": \"Basic Land — Plains\",\\n    \"types\": [\\n  ... (278 characters truncated) ...     \"variations\": [\\n        11448,\\n        11449,\\n        11446\\n    ],\\n    \"multiverseid\": 11447,\\n    \"colorIdentity\": [\\n        \"W\"\\n    ]\\n}',),\n",
       " ('{\\n    \"id\": \"b1667020bdaa32f60f58329e3c4442f5f7cb3bf1\",\\n    \"cmc\": 0,\\n    \"name\": \"Plains\",\\n    \"type\": \"Basic Land — Plains\",\\n    \"types\": [\\n  ... (278 characters truncated) ...     \"variations\": [\\n        11449,\\n        11446,\\n        11447\\n    ],\\n    \"multiverseid\": 11448,\\n    \"colorIdentity\": [\\n        \"W\"\\n    ]\\n}',),\n",
       " ('{\\n    \"id\": \"d9cfb1cf04142c28732fd110d551082831dc47ff\",\\n    \"cmc\": 0,\\n    \"name\": \"Sulfurous Springs\",\\n    \"text\": \"{T}: Add {C} to your mana poo ... (253 characters truncated) ...   \"imageName\": \"sulfurous springs\",\\n    \"mciNumber\": \"345\",\\n    \"multiverseid\": 11519,\\n    \"colorIdentity\": [\\n        \"B\",\\n        \"R\"\\n    ]\\n}',),\n",
       " ('{\\n    \"id\": \"09e78bb62fa195c4f791d5f79c419e41c613f094\",\\n    \"cmc\": 0,\\n    \"name\": \"Swamp\",\\n    \"type\": \"Basic Land — Swamp\",\\n    \"types\": [\\n    ... (274 characters truncated) ...     \"variations\": [\\n        11524,\\n        11523,\\n        11521\\n    ],\\n    \"multiverseid\": 11522,\\n    \"colorIdentity\": [\\n        \"B\"\\n    ]\\n}',),\n",
       " ('{\\n    \"id\": \"d7d6fd34d4d92de555a47633297e9638f65304ea\",\\n    \"cmc\": 1,\\n    \"name\": \"Rain of Blades\",\\n    \"text\": \"Rain of Blades deals 1 damage to ... (363 characters truncated) ... aCost\": \"{W}\",\\n    \"imageName\": \"rain of blades\",\\n    \"mciNumber\": \"35\",\\n    \"multiverseid\": 45198,\\n    \"colorIdentity\": [\\n        \"W\"\\n    ]\\n}',),\n",
       " ('{\\n    \"id\": \"4658115a9fc842fdc0a82baecfac0a39e76bc17b\",\\n    \"cmc\": 5,\\n    \"name\": \"Evacuation\",\\n    \"text\": \"Return all creatures to their owners ... (324 characters truncated) ... ost\": \"{3}{U}{U}\",\\n    \"imageName\": \"evacuation\",\\n    \"mciNumber\": \"76\",\\n    \"multiverseid\": 45281,\\n    \"colorIdentity\": [\\n        \"U\"\\n    ]\\n}',),\n",
       " ('{\\n    \"id\": \"6dae7f5b57dea1147610610877e49db4e2a9994e\",\\n    \"cmc\": 0,\\n    \"name\": \"Shivan Oasis\",\\n    \"text\": \"Shivan Oasis enters the battlefiel ... (290 characters truncated) ... ,\\n    \"imageName\": \"shivan oasis\",\\n    \"mciNumber\": \"326\",\\n    \"multiverseid\": 45494,\\n    \"colorIdentity\": [\\n        \"R\",\\n        \"G\"\\n    ]\\n}',),\n",
       " ('{\\n    \"id\": \"b0df5e43ada0f9fc603cf741fac87876623239bc\",\\n    \"cmc\": 4,\\n    \"name\": \"Lesser Gargadon\",\\n    \"text\": \"Whenever Lesser Gargadon attack ... (521 characters truncated) ... eName\": \"lesser gargadon\",\\n    \"mciNumber\": \"199\",\\n    \"toughness\": \"4\",\\n    \"multiverseid\": 45370,\\n    \"colorIdentity\": [\\n        \"R\"\\n    ]\\n}',),\n",
       " ('{\\n    \"id\": \"9adba308b9caa7bd2939307bb0e62624e96869ea\",\\n    \"cmc\": 3,\\n    \"name\": \"Wall of Stone\",\\n    \"text\": \"Defender (This creature can\\'t at ... (583 characters truncated) ... ageName\": \"wall of stone\",\\n    \"mciNumber\": \"232\",\\n    \"toughness\": \"8\",\\n    \"multiverseid\": 45368,\\n    \"colorIdentity\": [\\n        \"R\"\\n    ]\\n}',),\n",
       " ('{\\n    \"id\": \"7fd13fc9ad52dd0f95c7fc368355dabe917e5aa5\",\\n    \"cmc\": 5,\\n    \"name\": \"Plow Under\",\\n    \"text\": \"Put two target lands on top of their ... (352 characters truncated) ... st\": \"{3}{G}{G}\",\\n    \"imageName\": \"plow under\",\\n    \"mciNumber\": \"272\",\\n    \"multiverseid\": 45450,\\n    \"colorIdentity\": [\\n        \"G\"\\n    ]\\n}',),\n",
       " ('{\\n    \"id\": \"77fd93da8c0160d38eb2ee525391b247eaf7b267\",\\n    \"cmc\": 3,\\n    \"name\": \"Verduran Enchantress\",\\n    \"text\": \"Whenever you cast an encha ... (496 characters truncated) ... \": \"verduran enchantress\",\\n    \"mciNumber\": \"285\",\\n    \"toughness\": \"2\",\\n    \"multiverseid\": 45443,\\n    \"colorIdentity\": [\\n        \"G\"\\n    ]\\n}',),\n",
       " ('{\\n    \"id\": \"abad32afb086f62ef2d9dcf9f6ede9e3e8e6291b\",\\n    \"cmc\": 0,\\n    \"name\": \"Taiga\",\\n    \"text\": \"({T}: Add {R} or {G} to your mana pool.)\" ... (213 characters truncated) ... Mountain\",\\n        \"Forest\"\\n    ],\\n    \"imageName\": \"taiga\",\\n    \"mciNumber\": \"298\",\\n    \"colorIdentity\": [\\n        \"R\",\\n        \"G\"\\n    ]\\n}',),\n",
       " ('{\\n    \"id\": \"83114b26923db80fd6c3bb47f3f864b8ee187f06\",\\n    \"cmc\": 0,\\n    \"name\": \"Mountain\",\\n    \"type\": \"Basic Land — Mountain\",\\n    \"types\":  ... (284 characters truncated) ...     \"variations\": [\\n        46451,\\n        46450,\\n        46449\\n    ],\\n    \"multiverseid\": 46452,\\n    \"colorIdentity\": [\\n        \"R\"\\n    ]\\n}',),\n",
       " ('{\\n    \"id\": \"f22a2ba0f4f3620b92c2b0a2ede306b856188285\",\\n    \"cmc\": 5,\\n    \"name\": \"Evacuation\",\\n    \"text\": \"Return all creatures to their owners ... (324 characters truncated) ... ost\": \"{3}{U}{U}\",\\n    \"imageName\": \"evacuation\",\\n    \"mciNumber\": \"75\",\\n    \"multiverseid\": 83078,\\n    \"colorIdentity\": [\\n        \"U\"\\n    ]\\n}',)]"
      ]
     },
     "execution_count": 7,
     "metadata": {},
     "output_type": "execute_result"
    }
   ],
   "source": [
    "%sql SELECT jsonb_pretty(data) FROM cards WHERE data @> '{\"artist\":\"Rob Alexander\"}' LIMIT 50;"
   ]
  },
  {
   "cell_type": "markdown",
   "metadata": {},
   "source": [
    "### B) Find all the cards that have the subtype \"Human\""
   ]
  },
  {
   "cell_type": "code",
   "execution_count": 16,
   "metadata": {},
   "outputs": [
    {
     "name": "stdout",
     "output_type": "stream",
     "text": [
      "50 rows affected.\n"
     ]
    },
    {
     "data": {
      "text/html": [
       "<table>\n",
       "    <tr>\n",
       "        <th>jsonb_pretty</th>\n",
       "    </tr>\n",
       "    <tr>\n",
       "        <td>{<br>    &quot;id&quot;: &quot;ab1ab474019e4e76c66e2b524d354cb7c3212616&quot;,<br>    &quot;cmc&quot;: 7,<br>    &quot;name&quot;: &quot;Ancestor&#x27;s Chosen&quot;,<br>    &quot;text&quot;: &quot;First strike (This creature deals combat damage before creatures without first strike.)\\nWhen Ancestor&#x27;s Chosen enters the battlefield, you gain 1 life for each card in your graveyard.&quot;,<br>    &quot;type&quot;: &quot;Creature — Human Cleric&quot;,<br>    &quot;power&quot;: &quot;4&quot;,<br>    &quot;types&quot;: [<br>        &quot;Creature&quot;<br>    ],<br>    &quot;artist&quot;: &quot;Pete Venters&quot;,<br>    &quot;colors&quot;: [<br>        &quot;White&quot;<br>    ],<br>    &quot;flavor&quot;: &quot;\\&quot;The will of all, by my hand done.\\&quot;&quot;,<br>    &quot;layout&quot;: &quot;normal&quot;,<br>    &quot;number&quot;: &quot;1&quot;,<br>    &quot;rarity&quot;: &quot;Uncommon&quot;,<br>    &quot;manaCost&quot;: &quot;{5}{W}{W}&quot;,<br>    &quot;subtypes&quot;: [<br>        &quot;Human&quot;,<br>        &quot;Cleric&quot;<br>    ],<br>    &quot;imageName&quot;: &quot;ancestor&#x27;s chosen&quot;,<br>    &quot;mciNumber&quot;: &quot;1&quot;,<br>    &quot;toughness&quot;: &quot;4&quot;,<br>    &quot;multiverseid&quot;: 130550,<br>    &quot;colorIdentity&quot;: [<br>        &quot;W&quot;<br>    ]<br>}</td>\n",
       "    </tr>\n",
       "    <tr>\n",
       "        <td>{<br>    &quot;id&quot;: &quot;d3488c0a916bd922856473155a8b49ec23fc2217&quot;,<br>    &quot;cmc&quot;: 4,<br>    &quot;name&quot;: &quot;Ballista Squad&quot;,<br>    &quot;text&quot;: &quot;{X}{W}, {T}: Ballista Squad deals X damage to target attacking or blocking creature.&quot;,<br>    &quot;type&quot;: &quot;Creature — Human Rebel&quot;,<br>    &quot;power&quot;: &quot;2&quot;,<br>    &quot;types&quot;: [<br>        &quot;Creature&quot;<br>    ],<br>    &quot;artist&quot;: &quot;Matthew D. Wilson&quot;,<br>    &quot;colors&quot;: [<br>        &quot;White&quot;<br>    ],<br>    &quot;flavor&quot;: &quot;The perfect antidote for a tightly packed formation.&quot;,<br>    &quot;layout&quot;: &quot;normal&quot;,<br>    &quot;number&quot;: &quot;8&quot;,<br>    &quot;rarity&quot;: &quot;Uncommon&quot;,<br>    &quot;manaCost&quot;: &quot;{3}{W}&quot;,<br>    &quot;subtypes&quot;: [<br>        &quot;Human&quot;,<br>        &quot;Rebel&quot;<br>    ],<br>    &quot;imageName&quot;: &quot;ballista squad&quot;,<br>    &quot;mciNumber&quot;: &quot;8&quot;,<br>    &quot;toughness&quot;: &quot;2&quot;,<br>    &quot;multiverseid&quot;: 129477,<br>    &quot;colorIdentity&quot;: [<br>        &quot;W&quot;<br>    ]<br>}</td>\n",
       "    </tr>\n",
       "    <tr>\n",
       "        <td>{<br>    &quot;id&quot;: &quot;29c46fca29e5de01dba3bbf05393325bc9132735&quot;,<br>    &quot;cmc&quot;: 3,<br>    &quot;name&quot;: &quot;Benalish Knight&quot;,<br>    &quot;text&quot;: &quot;Flash (You may cast this spell any time you could cast an instant.)\\nFirst strike (This creature deals combat damage before creatures without first strike.)&quot;,<br>    &quot;type&quot;: &quot;Creature — Human Knight&quot;,<br>    &quot;power&quot;: &quot;2&quot;,<br>    &quot;types&quot;: [<br>        &quot;Creature&quot;<br>    ],<br>    &quot;artist&quot;: &quot;Zoltan Boros &amp; Gabor Szikszai&quot;,<br>    &quot;colors&quot;: [<br>        &quot;White&quot;<br>    ],<br>    &quot;flavor&quot;: &quot;\\&quot;We called them &#x27;armored lightning.&#x27;\\&quot;\\n—Gerrard of the Weatherlight&quot;,<br>    &quot;layout&quot;: &quot;normal&quot;,<br>    &quot;number&quot;: &quot;11&quot;,<br>    &quot;rarity&quot;: &quot;Common&quot;,<br>    &quot;manaCost&quot;: &quot;{2}{W}&quot;,<br>    &quot;subtypes&quot;: [<br>        &quot;Human&quot;,<br>        &quot;Knight&quot;<br>    ],<br>    &quot;imageName&quot;: &quot;benalish knight&quot;,<br>    &quot;mciNumber&quot;: &quot;11&quot;,<br>    &quot;toughness&quot;: &quot;2&quot;,<br>    &quot;multiverseid&quot;: 136279,<br>    &quot;colorIdentity&quot;: [<br>        &quot;W&quot;<br>    ]<br>}</td>\n",
       "    </tr>\n",
       "    <tr>\n",
       "        <td>{<br>    &quot;id&quot;: &quot;e8b8dea65daf4e9070cce5de62bdbea0bf36d47c&quot;,<br>    &quot;cmc&quot;: 4,<br>    &quot;name&quot;: &quot;Cho-Manno, Revolutionary&quot;,<br>    &quot;text&quot;: &quot;Prevent all damage that would be dealt to Cho-Manno, Revolutionary.&quot;,<br>    &quot;type&quot;: &quot;Legendary Creature — Human Rebel&quot;,<br>    &quot;power&quot;: &quot;2&quot;,<br>    &quot;types&quot;: [<br>        &quot;Creature&quot;<br>    ],<br>    &quot;artist&quot;: &quot;Steven Belledin&quot;,<br>    &quot;colors&quot;: [<br>        &quot;White&quot;<br>    ],<br>    &quot;flavor&quot;: &quot;\\&quot;Mercadia&#x27;s masks can no longer hide the truth. Our day has come at last.\\&quot;&quot;,<br>    &quot;layout&quot;: &quot;normal&quot;,<br>    &quot;number&quot;: &quot;12&quot;,<br>    &quot;rarity&quot;: &quot;Rare&quot;,<br>    &quot;manaCost&quot;: &quot;{2}{W}{W}&quot;,<br>    &quot;subtypes&quot;: [<br>        &quot;Human&quot;,<br>        &quot;Rebel&quot;<br>    ],<br>    &quot;imageName&quot;: &quot;cho-manno, revolutionary&quot;,<br>    &quot;mciNumber&quot;: &quot;12&quot;,<br>    &quot;toughness&quot;: &quot;2&quot;,<br>    &quot;supertypes&quot;: [<br>        &quot;Legendary&quot;<br>    ],<br>    &quot;multiverseid&quot;: 130554,<br>    &quot;colorIdentity&quot;: [<br>        &quot;W&quot;<br>    ]<br>}</td>\n",
       "    </tr>\n",
       "    <tr>\n",
       "        <td>{<br>    &quot;id&quot;: &quot;80a6b907fc380ed97615e8abc0fe6071c4ceef67&quot;,<br>    &quot;cmc&quot;: 3,<br>    &quot;name&quot;: &quot;Field Marshal&quot;,<br>    &quot;text&quot;: &quot;Other Soldier creatures get +1/+1 and have first strike. (They deal combat damage before creatures without first strike.)&quot;,<br>    &quot;type&quot;: &quot;Creature — Human Soldier&quot;,<br>    &quot;power&quot;: &quot;2&quot;,<br>    &quot;types&quot;: [<br>        &quot;Creature&quot;<br>    ],<br>    &quot;artist&quot;: &quot;Stephen Tappin&quot;,<br>    &quot;colors&quot;: [<br>        &quot;White&quot;<br>    ],<br>    &quot;flavor&quot;: &quot;He is the only one who sees the patterns in the overlapping maps and conflicting reports.&quot;,<br>    &quot;layout&quot;: &quot;normal&quot;,<br>    &quot;number&quot;: &quot;15&quot;,<br>    &quot;rarity&quot;: &quot;Rare&quot;,<br>    &quot;manaCost&quot;: &quot;{1}{W}{W}&quot;,<br>    &quot;subtypes&quot;: [<br>        &quot;Human&quot;,<br>        &quot;Soldier&quot;<br>    ],<br>    &quot;imageName&quot;: &quot;field marshal&quot;,<br>    &quot;mciNumber&quot;: &quot;15&quot;,<br>    &quot;toughness&quot;: &quot;2&quot;,<br>    &quot;multiverseid&quot;: 135258,<br>    &quot;colorIdentity&quot;: [<br>        &quot;W&quot;<br>    ]<br>}</td>\n",
       "    </tr>\n",
       "    <tr>\n",
       "        <td>{<br>    &quot;id&quot;: &quot;7879b835a2c3d6516515d03bd3a3894dceee1812&quot;,<br>    &quot;cmc&quot;: 1,<br>    &quot;name&quot;: &quot;Honor Guard&quot;,<br>    &quot;text&quot;: &quot;{W}: Honor Guard gets +0/+1 until end of turn.&quot;,<br>    &quot;type&quot;: &quot;Creature — Human Soldier&quot;,<br>    &quot;power&quot;: &quot;1&quot;,<br>    &quot;types&quot;: [<br>        &quot;Creature&quot;<br>    ],<br>    &quot;artist&quot;: &quot;Dan Dos Santos&quot;,<br>    &quot;colors&quot;: [<br>        &quot;White&quot;<br>    ],<br>    &quot;flavor&quot;: &quot;The strength of one. The courage of ten.&quot;,<br>    &quot;layout&quot;: &quot;normal&quot;,<br>    &quot;number&quot;: &quot;23&quot;,<br>    &quot;rarity&quot;: &quot;Common&quot;,<br>    &quot;manaCost&quot;: &quot;{W}&quot;,<br>    &quot;subtypes&quot;: [<br>        &quot;Human&quot;,<br>        &quot;Soldier&quot;<br>    ],<br>    &quot;imageName&quot;: &quot;honor guard&quot;,<br>    &quot;mciNumber&quot;: &quot;23&quot;,<br>    &quot;toughness&quot;: &quot;1&quot;,<br>    &quot;multiverseid&quot;: 129595,<br>    &quot;colorIdentity&quot;: [<br>        &quot;W&quot;<br>    ]<br>}</td>\n",
       "    </tr>\n",
       "    <tr>\n",
       "        <td>{<br>    &quot;id&quot;: &quot;55932565b6905650e67e784b7cf0df63990e9851&quot;,<br>    &quot;cmc&quot;: 1,<br>    &quot;name&quot;: &quot;Icatian Priest&quot;,<br>    &quot;text&quot;: &quot;{1}{W}{W}: Target creature gets +1/+1 until end of turn.&quot;,<br>    &quot;type&quot;: &quot;Creature — Human Cleric&quot;,<br>    &quot;power&quot;: &quot;1&quot;,<br>    &quot;types&quot;: [<br>        &quot;Creature&quot;<br>    ],<br>    &quot;artist&quot;: &quot;Stephen Tappin&quot;,<br>    &quot;colors&quot;: [<br>        &quot;White&quot;<br>    ],<br>    &quot;flavor&quot;: &quot;Grelden knelt and felt the cool, dry hand of the priest on his brow. Hours later, when his wits returned, he was covered in his enemies&#x27; blood on the field of victory.&quot;,<br>    &quot;layout&quot;: &quot;normal&quot;,<br>    &quot;number&quot;: &quot;24&quot;,<br>    &quot;rarity&quot;: &quot;Uncommon&quot;,<br>    &quot;manaCost&quot;: &quot;{W}&quot;,<br>    &quot;subtypes&quot;: [<br>        &quot;Human&quot;,<br>        &quot;Cleric&quot;<br>    ],<br>    &quot;imageName&quot;: &quot;icatian priest&quot;,<br>    &quot;mciNumber&quot;: &quot;24&quot;,<br>    &quot;toughness&quot;: &quot;1&quot;,<br>    &quot;multiverseid&quot;: 132123,<br>    &quot;colorIdentity&quot;: [<br>        &quot;W&quot;<br>    ]<br>}</td>\n",
       "    </tr>\n",
       "    <tr>\n",
       "        <td>{<br>    &quot;id&quot;: &quot;bc1e197c295bc12cc1b392a11b94782f1396b263&quot;,<br>    &quot;cmc&quot;: 5,<br>    &quot;name&quot;: &quot;Kjeldoran Royal Guard&quot;,<br>    &quot;text&quot;: &quot;{T}: All combat damage that would be dealt to you by unblocked creatures this turn is dealt to Kjeldoran Royal Guard instead.&quot;,<br>    &quot;type&quot;: &quot;Creature — Human Soldier&quot;,<br>    &quot;power&quot;: &quot;2&quot;,<br>    &quot;types&quot;: [<br>        &quot;Creature&quot;<br>    ],<br>    &quot;artist&quot;: &quot;Carl Critchlow&quot;,<br>    &quot;colors&quot;: [<br>        &quot;White&quot;<br>    ],<br>    &quot;flavor&quot;: &quot;Upon the frozen tundra stand the Kjeldoran Royal Guard, pikes raised, with the king&#x27;s oath upon their lips.&quot;,<br>    &quot;layout&quot;: &quot;normal&quot;,<br>    &quot;number&quot;: &quot;25&quot;,<br>    &quot;rarity&quot;: &quot;Rare&quot;,<br>    &quot;manaCost&quot;: &quot;{3}{W}{W}&quot;,<br>    &quot;subtypes&quot;: [<br>        &quot;Human&quot;,<br>        &quot;Soldier&quot;<br>    ],<br>    &quot;imageName&quot;: &quot;kjeldoran royal guard&quot;,<br>    &quot;mciNumber&quot;: &quot;25&quot;,<br>    &quot;toughness&quot;: &quot;5&quot;,<br>    &quot;multiverseid&quot;: 130551,<br>    &quot;colorIdentity&quot;: [<br>        &quot;W&quot;<br>    ]<br>}</td>\n",
       "    </tr>\n",
       "    <tr>\n",
       "        <td>{<br>    &quot;id&quot;: &quot;e25120395df829af067675f1582ae946543094e2&quot;,<br>    &quot;cmc&quot;: 1,<br>    &quot;name&quot;: &quot;Loyal Sentry&quot;,<br>    &quot;text&quot;: &quot;When Loyal Sentry blocks a creature, destroy that creature and Loyal Sentry.&quot;,<br>    &quot;type&quot;: &quot;Creature — Human Soldier&quot;,<br>    &quot;power&quot;: &quot;1&quot;,<br>    &quot;types&quot;: [<br>        &quot;Creature&quot;<br>    ],<br>    &quot;artist&quot;: &quot;Michael Sutfin&quot;,<br>    &quot;colors&quot;: [<br>        &quot;White&quot;<br>    ],<br>    &quot;flavor&quot;: &quot;\\&quot;My cause is simple: To stop you, at any cost, from ever seeing the inside of this keep.\\&quot;&quot;,<br>    &quot;layout&quot;: &quot;normal&quot;,<br>    &quot;number&quot;: &quot;27&quot;,<br>    &quot;rarity&quot;: &quot;Rare&quot;,<br>    &quot;manaCost&quot;: &quot;{W}&quot;,<br>    &quot;subtypes&quot;: [<br>        &quot;Human&quot;,<br>        &quot;Soldier&quot;<br>    ],<br>    &quot;imageName&quot;: &quot;loyal sentry&quot;,<br>    &quot;mciNumber&quot;: &quot;27&quot;,<br>    &quot;toughness&quot;: &quot;1&quot;,<br>    &quot;multiverseid&quot;: 129798,<br>    &quot;colorIdentity&quot;: [<br>        &quot;W&quot;<br>    ]<br>}</td>\n",
       "    </tr>\n",
       "    <tr>\n",
       "        <td>{<br>    &quot;id&quot;: &quot;f0bd8f9ffd23760499a421ca4cd2f211130542b8&quot;,<br>    &quot;cmc&quot;: 3,<br>    &quot;name&quot;: &quot;Nomad Mythmaker&quot;,<br>    &quot;text&quot;: &quot;{W}, {T}: Put target Aura card from a graveyard onto the battlefield under your control attached to a creature you control.&quot;,<br>    &quot;type&quot;: &quot;Creature — Human Nomad Cleric&quot;,<br>    &quot;power&quot;: &quot;2&quot;,<br>    &quot;types&quot;: [<br>        &quot;Creature&quot;<br>    ],<br>    &quot;artist&quot;: &quot;Darrell Riche&quot;,<br>    &quot;colors&quot;: [<br>        &quot;White&quot;<br>    ],<br>    &quot;flavor&quot;: &quot;On the wild steppes, history vanishes in the dust. Only the mythmakers remain to say what was, and is, and will be.&quot;,<br>    &quot;layout&quot;: &quot;normal&quot;,<br>    &quot;number&quot;: &quot;30&quot;,<br>    &quot;rarity&quot;: &quot;Rare&quot;,<br>    &quot;manaCost&quot;: &quot;{2}{W}&quot;,<br>    &quot;subtypes&quot;: [<br>        &quot;Human&quot;,<br>        &quot;Nomad&quot;,<br>        &quot;Cleric&quot;<br>    ],<br>    &quot;imageName&quot;: &quot;nomad mythmaker&quot;,<br>    &quot;mciNumber&quot;: &quot;30&quot;,<br>    &quot;toughness&quot;: &quot;2&quot;,<br>    &quot;multiverseid&quot;: 130547,<br>    &quot;colorIdentity&quot;: [<br>        &quot;W&quot;<br>    ]<br>}</td>\n",
       "    </tr>\n",
       "    <tr>\n",
       "        <td>{<br>    &quot;id&quot;: &quot;1db7581f31be9c7a2de25510463bc967e2d162f3&quot;,<br>    &quot;cmc&quot;: 3,<br>    &quot;name&quot;: &quot;Paladin en-Vec&quot;,<br>    &quot;text&quot;: &quot;First strike, protection from black and from red (This creature deals combat damage before creatures without first strike. It can&#x27;t be blocked, targeted, dealt damage, or enchanted by anything black or red.)&quot;,<br>    &quot;type&quot;: &quot;Creature — Human Knight&quot;,<br>    &quot;power&quot;: &quot;2&quot;,<br>    &quot;types&quot;: [<br>        &quot;Creature&quot;<br>    ],<br>    &quot;artist&quot;: &quot;Dave Kendall&quot;,<br>    &quot;colors&quot;: [<br>        &quot;White&quot;<br>    ],<br>    &quot;flavor&quot;: &quot;\\&quot;I do not consider myself a hero. I know only what the Vec teach: justice must always be served and corruption must always be opposed.\\&quot;&quot;,<br>    &quot;layout&quot;: &quot;normal&quot;,<br>    &quot;number&quot;: &quot;32&quot;,<br>    &quot;rarity&quot;: &quot;Rare&quot;,<br>    &quot;manaCost&quot;: &quot;{1}{W}{W}&quot;,<br>    &quot;subtypes&quot;: [<br>        &quot;Human&quot;,<br>        &quot;Knight&quot;<br>    ],<br>    &quot;imageName&quot;: &quot;paladin en-vec&quot;,<br>    &quot;mciNumber&quot;: &quot;32&quot;,<br>    &quot;toughness&quot;: &quot;2&quot;,<br>    &quot;multiverseid&quot;: 129668,<br>    &quot;colorIdentity&quot;: [<br>        &quot;W&quot;<br>    ]<br>}</td>\n",
       "    </tr>\n",
       "    <tr>\n",
       "        <td>{<br>    &quot;id&quot;: &quot;2f40052abfd749583409d314c6bc06132eceb6ce&quot;,<br>    &quot;cmc&quot;: 2,<br>    &quot;name&quot;: &quot;Samite Healer&quot;,<br>    &quot;text&quot;: &quot;{T}: Prevent the next 1 damage that would be dealt to target creature or player this turn.&quot;,<br>    &quot;type&quot;: &quot;Creature — Human Cleric&quot;,<br>    &quot;power&quot;: &quot;1&quot;,<br>    &quot;types&quot;: [<br>        &quot;Creature&quot;<br>    ],<br>    &quot;artist&quot;: &quot;Anson Maddocks&quot;,<br>    &quot;colors&quot;: [<br>        &quot;White&quot;<br>    ],<br>    &quot;flavor&quot;: &quot;Healers ultimately acquire the divine gifts of spiritual and physical wholeness. The most devout are also granted the ability to pass physical wholeness on to others.&quot;,<br>    &quot;layout&quot;: &quot;normal&quot;,<br>    &quot;number&quot;: &quot;38&quot;,<br>    &quot;rarity&quot;: &quot;Common&quot;,<br>    &quot;manaCost&quot;: &quot;{1}{W}&quot;,<br>    &quot;subtypes&quot;: [<br>        &quot;Human&quot;,<br>        &quot;Cleric&quot;<br>    ],<br>    &quot;imageName&quot;: &quot;samite healer&quot;,<br>    &quot;mciNumber&quot;: &quot;38&quot;,<br>    &quot;toughness&quot;: &quot;1&quot;,<br>    &quot;multiverseid&quot;: 132101,<br>    &quot;colorIdentity&quot;: [<br>        &quot;W&quot;<br>    ]<br>}</td>\n",
       "    </tr>\n",
       "    <tr>\n",
       "        <td>{<br>    &quot;id&quot;: &quot;b2e626e2db0db7e85c5158d828df352039c64c48&quot;,<br>    &quot;cmc&quot;: 1,<br>    &quot;name&quot;: &quot;Soul Warden&quot;,<br>    &quot;text&quot;: &quot;Whenever another creature enters the battlefield, you gain 1 life.&quot;,<br>    &quot;type&quot;: &quot;Creature — Human Cleric&quot;,<br>    &quot;power&quot;: &quot;1&quot;,<br>    &quot;types&quot;: [<br>        &quot;Creature&quot;<br>    ],<br>    &quot;artist&quot;: &quot;Randy Gallegos&quot;,<br>    &quot;colors&quot;: [<br>        &quot;White&quot;<br>    ],<br>    &quot;flavor&quot;: &quot;Count carefully the souls and see that none are lost.\\n—Vec teaching&quot;,<br>    &quot;layout&quot;: &quot;normal&quot;,<br>    &quot;number&quot;: &quot;44&quot;,<br>    &quot;rarity&quot;: &quot;Uncommon&quot;,<br>    &quot;manaCost&quot;: &quot;{W}&quot;,<br>    &quot;subtypes&quot;: [<br>        &quot;Human&quot;,<br>        &quot;Cleric&quot;<br>    ],<br>    &quot;imageName&quot;: &quot;soul warden&quot;,<br>    &quot;mciNumber&quot;: &quot;44&quot;,<br>    &quot;toughness&quot;: &quot;1&quot;,<br>    &quot;multiverseid&quot;: 129740,<br>    &quot;colorIdentity&quot;: [<br>        &quot;W&quot;<br>    ]<br>}</td>\n",
       "    </tr>\n",
       "    <tr>\n",
       "        <td>{<br>    &quot;id&quot;: &quot;d37e5cd317f282c8a4a667b62f3f654a7cf73725&quot;,<br>    &quot;cmc&quot;: 2,<br>    &quot;name&quot;: &quot;Spirit Weaver&quot;,<br>    &quot;text&quot;: &quot;{2}: Target green or blue creature gets +0/+1 until end of turn.&quot;,<br>    &quot;type&quot;: &quot;Creature — Human Wizard&quot;,<br>    &quot;power&quot;: &quot;2&quot;,<br>    &quot;types&quot;: [<br>        &quot;Creature&quot;<br>    ],<br>    &quot;artist&quot;: &quot;Matthew D. Wilson&quot;,<br>    &quot;colors&quot;: [<br>        &quot;White&quot;<br>    ],<br>    &quot;flavor&quot;: &quot;\\&quot;Let my hope be your shield.\\&quot;&quot;,<br>    &quot;layout&quot;: &quot;normal&quot;,<br>    &quot;number&quot;: &quot;46&quot;,<br>    &quot;rarity&quot;: &quot;Uncommon&quot;,<br>    &quot;manaCost&quot;: &quot;{1}{W}&quot;,<br>    &quot;subtypes&quot;: [<br>        &quot;Human&quot;,<br>        &quot;Wizard&quot;<br>    ],<br>    &quot;imageName&quot;: &quot;spirit weaver&quot;,<br>    &quot;mciNumber&quot;: &quot;46&quot;,<br>    &quot;toughness&quot;: &quot;1&quot;,<br>    &quot;multiverseid&quot;: 130999,<br>    &quot;colorIdentity&quot;: [<br>        &quot;W&quot;<br>    ]<br>}</td>\n",
       "    </tr>\n",
       "    <tr>\n",
       "        <td>{<br>    &quot;id&quot;: &quot;a9b49bcc889963dda0b619c11cda811887dbc477&quot;,<br>    &quot;cmc&quot;: 2,<br>    &quot;name&quot;: &quot;Starlight Invoker&quot;,<br>    &quot;text&quot;: &quot;{7}{W}: You gain 5 life.&quot;,<br>    &quot;type&quot;: &quot;Creature — Human Cleric Mutant&quot;,<br>    &quot;power&quot;: &quot;1&quot;,<br>    &quot;types&quot;: [<br>        &quot;Creature&quot;<br>    ],<br>    &quot;artist&quot;: &quot;Glen Angus&quot;,<br>    &quot;colors&quot;: [<br>        &quot;White&quot;<br>    ],<br>    &quot;flavor&quot;: &quot;\\&quot;The constellations form a tapestry of light that traces my people&#x27;s broken history. Day and night, I feel their glittering presence calling me to weave the pattern whole.\\&quot;&quot;,<br>    &quot;layout&quot;: &quot;normal&quot;,<br>    &quot;number&quot;: &quot;47&quot;,<br>    &quot;rarity&quot;: &quot;Uncommon&quot;,<br>    &quot;manaCost&quot;: &quot;{1}{W}&quot;,<br>    &quot;subtypes&quot;: [<br>        &quot;Human&quot;,<br>        &quot;Cleric&quot;,<br>        &quot;Mutant&quot;<br>    ],<br>    &quot;imageName&quot;: &quot;starlight invoker&quot;,<br>    &quot;mciNumber&quot;: &quot;47&quot;,<br>    &quot;toughness&quot;: &quot;3&quot;,<br>    &quot;multiverseid&quot;: 130385,<br>    &quot;colorIdentity&quot;: [<br>        &quot;W&quot;<br>    ]<br>}</td>\n",
       "    </tr>\n",
       "    <tr>\n",
       "        <td>{<br>    &quot;id&quot;: &quot;07e059bb927aafc4fe3fa310b04776116caf7e8c&quot;,<br>    &quot;cmc&quot;: 2,<br>    &quot;name&quot;: &quot;Steadfast Guard&quot;,<br>    &quot;text&quot;: &quot;Vigilance (Attacking doesn&#x27;t cause this creature to tap.)&quot;,<br>    &quot;type&quot;: &quot;Creature — Human Rebel&quot;,<br>    &quot;power&quot;: &quot;2&quot;,<br>    &quot;types&quot;: [<br>        &quot;Creature&quot;<br>    ],<br>    &quot;artist&quot;: &quot;Michael Komarck&quot;,<br>    &quot;colors&quot;: [<br>        &quot;White&quot;<br>    ],<br>    &quot;flavor&quot;: &quot;\\&quot;Best leave your tongue in its yap-hole, Mercadian scum, for your silvered words and golden bribes do not sparkle so brightly outside your city.\\&quot;&quot;,<br>    &quot;layout&quot;: &quot;normal&quot;,<br>    &quot;number&quot;: &quot;48&quot;,<br>    &quot;rarity&quot;: &quot;Common&quot;,<br>    &quot;manaCost&quot;: &quot;{W}{W}&quot;,<br>    &quot;subtypes&quot;: [<br>        &quot;Human&quot;,<br>        &quot;Rebel&quot;<br>    ],<br>    &quot;imageName&quot;: &quot;steadfast guard&quot;,<br>    &quot;mciNumber&quot;: &quot;48&quot;,<br>    &quot;toughness&quot;: &quot;2&quot;,<br>    &quot;multiverseid&quot;: 132111,<br>    &quot;colorIdentity&quot;: [<br>        &quot;W&quot;<br>    ]<br>}</td>\n",
       "    </tr>\n",
       "    <tr>\n",
       "        <td>{<br>    &quot;id&quot;: &quot;c263717b5581b015b1f7d82ea771a0d8b6c439b5&quot;,<br>    &quot;cmc&quot;: 3,<br>    &quot;name&quot;: &quot;Treasure Hunter&quot;,<br>    &quot;text&quot;: &quot;When Treasure Hunter enters the battlefield, you may return target artifact card from your graveyard to your hand.&quot;,<br>    &quot;type&quot;: &quot;Creature — Human&quot;,<br>    &quot;power&quot;: &quot;2&quot;,<br>    &quot;types&quot;: [<br>        &quot;Creature&quot;<br>    ],<br>    &quot;artist&quot;: &quot;Adam Rex&quot;,<br>    &quot;colors&quot;: [<br>        &quot;White&quot;<br>    ],<br>    &quot;flavor&quot;: &quot;\\&quot;The treasures of the ancients belong in museums, not in the grubby hands of grave robbers.\\&quot;&quot;,<br>    &quot;layout&quot;: &quot;normal&quot;,<br>    &quot;number&quot;: &quot;52&quot;,<br>    &quot;rarity&quot;: &quot;Uncommon&quot;,<br>    &quot;manaCost&quot;: &quot;{2}{W}&quot;,<br>    &quot;subtypes&quot;: [<br>        &quot;Human&quot;<br>    ],<br>    &quot;imageName&quot;: &quot;treasure hunter&quot;,<br>    &quot;mciNumber&quot;: &quot;52&quot;,<br>    &quot;toughness&quot;: &quot;2&quot;,<br>    &quot;multiverseid&quot;: 135232,<br>    &quot;colorIdentity&quot;: [<br>        &quot;W&quot;<br>    ]<br>}</td>\n",
       "    </tr>\n",
       "    <tr>\n",
       "        <td>{<br>    &quot;id&quot;: &quot;8b85a33fe84a319d5491b6cdf6a4204a144cbae5&quot;,<br>    &quot;cmc&quot;: 2,<br>    &quot;name&quot;: &quot;True Believer&quot;,<br>    &quot;text&quot;: &quot;You have shroud. (You can&#x27;t be the target of spells or abilities.)&quot;,<br>    &quot;type&quot;: &quot;Creature — Human Cleric&quot;,<br>    &quot;power&quot;: &quot;2&quot;,<br>    &quot;types&quot;: [<br>        &quot;Creature&quot;<br>    ],<br>    &quot;artist&quot;: &quot;Alex Horley-Orlandelli&quot;,<br>    &quot;colors&quot;: [<br>        &quot;White&quot;<br>    ],<br>    &quot;flavor&quot;: &quot;So great is his certainty that mere facts cannot shake it.&quot;,<br>    &quot;layout&quot;: &quot;normal&quot;,<br>    &quot;number&quot;: &quot;53&quot;,<br>    &quot;rarity&quot;: &quot;Rare&quot;,<br>    &quot;manaCost&quot;: &quot;{W}{W}&quot;,<br>    &quot;subtypes&quot;: [<br>        &quot;Human&quot;,<br>        &quot;Cleric&quot;<br>    ],<br>    &quot;imageName&quot;: &quot;true believer&quot;,<br>    &quot;mciNumber&quot;: &quot;53&quot;,<br>    &quot;toughness&quot;: &quot;2&quot;,<br>    &quot;multiverseid&quot;: 129610,<br>    &quot;colorIdentity&quot;: [<br>        &quot;W&quot;<br>    ]<br>}</td>\n",
       "    </tr>\n",
       "    <tr>\n",
       "        <td>{<br>    &quot;id&quot;: &quot;2a150336f2859e0618fb8944eba18ab38f2ec319&quot;,<br>    &quot;cmc&quot;: 3,<br>    &quot;name&quot;: &quot;Venerable Monk&quot;,<br>    &quot;text&quot;: &quot;When Venerable Monk enters the battlefield, you gain 2 life.&quot;,<br>    &quot;type&quot;: &quot;Creature — Human Monk Cleric&quot;,<br>    &quot;power&quot;: &quot;2&quot;,<br>    &quot;types&quot;: [<br>        &quot;Creature&quot;<br>    ],<br>    &quot;artist&quot;: &quot;D. Alexander Gregory&quot;,<br>    &quot;colors&quot;: [<br>        &quot;White&quot;<br>    ],<br>    &quot;flavor&quot;: &quot;Age wears the flesh but galvanizes the soul.&quot;,<br>    &quot;layout&quot;: &quot;normal&quot;,<br>    &quot;number&quot;: &quot;55&quot;,<br>    &quot;rarity&quot;: &quot;Common&quot;,<br>    &quot;manaCost&quot;: &quot;{2}{W}&quot;,<br>    &quot;subtypes&quot;: [<br>        &quot;Human&quot;,<br>        &quot;Monk&quot;,<br>        &quot;Cleric&quot;<br>    ],<br>    &quot;imageName&quot;: &quot;venerable monk&quot;,<br>    &quot;mciNumber&quot;: &quot;55&quot;,<br>    &quot;toughness&quot;: &quot;2&quot;,<br>    &quot;multiverseid&quot;: 129786,<br>    &quot;colorIdentity&quot;: [<br>        &quot;W&quot;<br>    ]<br>}</td>\n",
       "    </tr>\n",
       "    <tr>\n",
       "        <td>{<br>    &quot;id&quot;: &quot;42d7b5ee10f53943b20c7b26e78f310ed073b3ce&quot;,<br>    &quot;cmc&quot;: 2,<br>    &quot;name&quot;: &quot;Youthful Knight&quot;,<br>    &quot;text&quot;: &quot;First strike&quot;,<br>    &quot;type&quot;: &quot;Creature — Human Knight&quot;,<br>    &quot;power&quot;: &quot;2&quot;,<br>    &quot;types&quot;: [<br>        &quot;Creature&quot;<br>    ],<br>    &quot;artist&quot;: &quot;Rebecca Guay&quot;,<br>    &quot;colors&quot;: [<br>        &quot;White&quot;<br>    ],<br>    &quot;flavor&quot;: &quot;Idealism fits him better than his armor.&quot;,<br>    &quot;layout&quot;: &quot;normal&quot;,<br>    &quot;number&quot;: &quot;62&quot;,<br>    &quot;rarity&quot;: &quot;Common&quot;,<br>    &quot;manaCost&quot;: &quot;{1}{W}&quot;,<br>    &quot;subtypes&quot;: [<br>        &quot;Human&quot;,<br>        &quot;Knight&quot;<br>    ],<br>    &quot;imageName&quot;: &quot;youthful knight&quot;,<br>    &quot;mciNumber&quot;: &quot;62&quot;,<br>    &quot;toughness&quot;: &quot;1&quot;,<br>    &quot;multiverseid&quot;: 129790,<br>    &quot;colorIdentity&quot;: [<br>        &quot;W&quot;<br>    ]<br>}</td>\n",
       "    </tr>\n",
       "    <tr>\n",
       "        <td>{<br>    &quot;id&quot;: &quot;db90d06e83a53a230355a07d0047923b4bca3fdc&quot;,<br>    &quot;cmc&quot;: 3,<br>    &quot;name&quot;: &quot;Academy Researchers&quot;,<br>    &quot;text&quot;: &quot;When Academy Researchers enters the battlefield, you may put an Aura card from your hand onto the battlefield attached to Academy Researchers.&quot;,<br>    &quot;type&quot;: &quot;Creature — Human Wizard&quot;,<br>    &quot;power&quot;: &quot;2&quot;,<br>    &quot;types&quot;: [<br>        &quot;Creature&quot;<br>    ],<br>    &quot;artist&quot;: &quot;Stephen Daniele&quot;,<br>    &quot;colors&quot;: [<br>        &quot;Blue&quot;<br>    ],<br>    &quot;flavor&quot;: &quot;They brandish their latest theories as warriors would wield weapons.&quot;,<br>    &quot;layout&quot;: &quot;normal&quot;,<br>    &quot;number&quot;: &quot;63&quot;,<br>    &quot;rarity&quot;: &quot;Uncommon&quot;,<br>    &quot;manaCost&quot;: &quot;{1}{U}{U}&quot;,<br>    &quot;subtypes&quot;: [<br>        &quot;Human&quot;,<br>        &quot;Wizard&quot;<br>    ],<br>    &quot;imageName&quot;: &quot;academy researchers&quot;,<br>    &quot;mciNumber&quot;: &quot;63&quot;,<br>    &quot;toughness&quot;: &quot;2&quot;,<br>    &quot;multiverseid&quot;: 132072,<br>    &quot;colorIdentity&quot;: [<br>        &quot;U&quot;<br>    ]<br>}</td>\n",
       "    </tr>\n",
       "    <tr>\n",
       "        <td>{<br>    &quot;id&quot;: &quot;ce13a779e8b19b332318164dc9f430e80183f20d&quot;,<br>    &quot;cmc&quot;: 3,<br>    &quot;name&quot;: &quot;Crafty Pathmage&quot;,<br>    &quot;text&quot;: &quot;{T}: Target creature with power 2 or less can&#x27;t be blocked this turn.&quot;,<br>    &quot;type&quot;: &quot;Creature — Human Wizard&quot;,<br>    &quot;power&quot;: &quot;1&quot;,<br>    &quot;types&quot;: [<br>        &quot;Creature&quot;<br>    ],<br>    &quot;artist&quot;: &quot;Wayne England&quot;,<br>    &quot;colors&quot;: [<br>        &quot;Blue&quot;<br>    ],<br>    &quot;flavor&quot;: &quot;Follow the pathmage\\n—Otarian expression meaning\\n\\&quot;escape quickly\\&quot;&quot;,<br>    &quot;layout&quot;: &quot;normal&quot;,<br>    &quot;number&quot;: &quot;77&quot;,<br>    &quot;rarity&quot;: &quot;Common&quot;,<br>    &quot;manaCost&quot;: &quot;{2}{U}&quot;,<br>    &quot;subtypes&quot;: [<br>        &quot;Human&quot;,<br>        &quot;Wizard&quot;<br>    ],<br>    &quot;imageName&quot;: &quot;crafty pathmage&quot;,<br>    &quot;mciNumber&quot;: &quot;77&quot;,<br>    &quot;toughness&quot;: &quot;1&quot;,<br>    &quot;multiverseid&quot;: 134758,<br>    &quot;colorIdentity&quot;: [<br>        &quot;U&quot;<br>    ]<br>}</td>\n",
       "    </tr>\n",
       "    <tr>\n",
       "        <td>{<br>    &quot;id&quot;: &quot;cff229bcd955654661df25090da5450b1b388001&quot;,<br>    &quot;cmc&quot;: 1,<br>    &quot;name&quot;: &quot;Fugitive Wizard&quot;,<br>    &quot;type&quot;: &quot;Creature — Human Wizard&quot;,<br>    &quot;power&quot;: &quot;1&quot;,<br>    &quot;types&quot;: [<br>        &quot;Creature&quot;<br>    ],<br>    &quot;artist&quot;: &quot;Mark Zug&quot;,<br>    &quot;colors&quot;: [<br>        &quot;Blue&quot;<br>    ],<br>    &quot;flavor&quot;: &quot;\\&quot;The law has its place—as a footnote in my spellbook.\\&quot;\\n—Siyani, fugitive mage&quot;,<br>    &quot;layout&quot;: &quot;normal&quot;,<br>    &quot;number&quot;: &quot;86&quot;,<br>    &quot;rarity&quot;: &quot;Common&quot;,<br>    &quot;manaCost&quot;: &quot;{U}&quot;,<br>    &quot;subtypes&quot;: [<br>        &quot;Human&quot;,<br>        &quot;Wizard&quot;<br>    ],<br>    &quot;imageName&quot;: &quot;fugitive wizard&quot;,<br>    &quot;mciNumber&quot;: &quot;86&quot;,<br>    &quot;toughness&quot;: &quot;1&quot;,<br>    &quot;multiverseid&quot;: 134762,<br>    &quot;colorIdentity&quot;: [<br>        &quot;U&quot;<br>    ]<br>}</td>\n",
       "    </tr>\n",
       "    <tr>\n",
       "        <td>{<br>    &quot;id&quot;: &quot;fcbcb6d1ff52e627fc856c263651dae13f6a4421&quot;,<br>    &quot;cmc&quot;: 2,<br>    &quot;name&quot;: &quot;Lumengrid Warden&quot;,<br>    &quot;type&quot;: &quot;Creature — Human Wizard&quot;,<br>    &quot;power&quot;: &quot;1&quot;,<br>    &quot;types&quot;: [<br>        &quot;Creature&quot;<br>    ],<br>    &quot;artist&quot;: &quot;Francis Tsai&quot;,<br>    &quot;colors&quot;: [<br>        &quot;Blue&quot;<br>    ],<br>    &quot;flavor&quot;: &quot;The wardens keep watch over an endless sea of progress.&quot;,<br>    &quot;layout&quot;: &quot;normal&quot;,<br>    &quot;number&quot;: &quot;89&quot;,<br>    &quot;rarity&quot;: &quot;Common&quot;,<br>    &quot;manaCost&quot;: &quot;{1}{U}&quot;,<br>    &quot;subtypes&quot;: [<br>        &quot;Human&quot;,<br>        &quot;Wizard&quot;<br>    ],<br>    &quot;imageName&quot;: &quot;lumengrid warden&quot;,<br>    &quot;mciNumber&quot;: &quot;89&quot;,<br>    &quot;toughness&quot;: &quot;3&quot;,<br>    &quot;multiverseid&quot;: 129631,<br>    &quot;colorIdentity&quot;: [<br>        &quot;U&quot;<br>    ]<br>}</td>\n",
       "    </tr>\n",
       "    <tr>\n",
       "        <td>{<br>    &quot;id&quot;: &quot;511521c2565f2cd283e55ae3a315e7f3d81aafd2&quot;,<br>    &quot;cmc&quot;: 3,<br>    &quot;name&quot;: &quot;Puppeteer&quot;,<br>    &quot;text&quot;: &quot;{U}, {T}: You may tap or untap target creature.&quot;,<br>    &quot;type&quot;: &quot;Creature — Human Wizard&quot;,<br>    &quot;power&quot;: &quot;1&quot;,<br>    &quot;types&quot;: [<br>        &quot;Creature&quot;<br>    ],<br>    &quot;artist&quot;: &quot;Kev Walker&quot;,<br>    &quot;colors&quot;: [<br>        &quot;Blue&quot;<br>    ],<br>    &quot;flavor&quot;: &quot;\\&quot;That&#x27;s the funny thing about free will. You don&#x27;t feel any different without it.\\&quot;\\n—Ambassador Laquatus&quot;,<br>    &quot;layout&quot;: &quot;normal&quot;,<br>    &quot;number&quot;: &quot;98&quot;,<br>    &quot;rarity&quot;: &quot;Uncommon&quot;,<br>    &quot;manaCost&quot;: &quot;{2}{U}&quot;,<br>    &quot;subtypes&quot;: [<br>        &quot;Human&quot;,<br>        &quot;Wizard&quot;<br>    ],<br>    &quot;imageName&quot;: &quot;puppeteer&quot;,<br>    &quot;mciNumber&quot;: &quot;98&quot;,<br>    &quot;toughness&quot;: &quot;2&quot;,<br>    &quot;multiverseid&quot;: 129685,<br>    &quot;colorIdentity&quot;: [<br>        &quot;U&quot;<br>    ]<br>}</td>\n",
       "    </tr>\n",
       "    <tr>\n",
       "        <td>{<br>    &quot;id&quot;: &quot;bddcf7aa01d7461b80ef29ae742dbdecfa0b4599&quot;,<br>    &quot;cmc&quot;: 3,<br>    &quot;name&quot;: &quot;Doomed Necromancer&quot;,<br>    &quot;text&quot;: &quot;{B}, {T}, Sacrifice Doomed Necromancer: Return target creature card from your graveyard to the battlefield.&quot;,<br>    &quot;type&quot;: &quot;Creature — Human Cleric Mercenary&quot;,<br>    &quot;power&quot;: &quot;2&quot;,<br>    &quot;types&quot;: [<br>        &quot;Creature&quot;<br>    ],<br>    &quot;artist&quot;: &quot;Volkan Baga&quot;,<br>    &quot;colors&quot;: [<br>        &quot;Black&quot;<br>    ],<br>    &quot;flavor&quot;: &quot;Many necromancers share the same last words—the ones that conclude the undeath ritual.&quot;,<br>    &quot;layout&quot;: &quot;normal&quot;,<br>    &quot;number&quot;: &quot;137&quot;,<br>    &quot;rarity&quot;: &quot;Rare&quot;,<br>    &quot;manaCost&quot;: &quot;{2}{B}&quot;,<br>    &quot;subtypes&quot;: [<br>        &quot;Human&quot;,<br>        &quot;Cleric&quot;,<br>        &quot;Mercenary&quot;<br>    ],<br>    &quot;imageName&quot;: &quot;doomed necromancer&quot;,<br>    &quot;mciNumber&quot;: &quot;137&quot;,<br>    &quot;toughness&quot;: &quot;2&quot;,<br>    &quot;multiverseid&quot;: 129880,<br>    &quot;colorIdentity&quot;: [<br>        &quot;B&quot;<br>    ]<br>}</td>\n",
       "    </tr>\n",
       "    <tr>\n",
       "        <td>{<br>    &quot;id&quot;: &quot;7b97aa3fdc137aecd63013c886c1ef13c799d0dd&quot;,<br>    &quot;cmc&quot;: 4,<br>    &quot;name&quot;: &quot;Highway Robber&quot;,<br>    &quot;text&quot;: &quot;When Highway Robber enters the battlefield, target opponent loses 2 life and you gain 2 life.&quot;,<br>    &quot;type&quot;: &quot;Creature — Human Mercenary&quot;,<br>    &quot;power&quot;: &quot;2&quot;,<br>    &quot;types&quot;: [<br>        &quot;Creature&quot;<br>    ],<br>    &quot;artist&quot;: &quot;Kev Walker&quot;,<br>    &quot;colors&quot;: [<br>        &quot;Black&quot;<br>    ],<br>    &quot;flavor&quot;: &quot;\\&quot;Tonight, madam, it&#x27;s your money and your life.\\&quot;&quot;,<br>    &quot;layout&quot;: &quot;normal&quot;,<br>    &quot;number&quot;: &quot;150&quot;,<br>    &quot;rarity&quot;: &quot;Common&quot;,<br>    &quot;manaCost&quot;: &quot;{2}{B}{B}&quot;,<br>    &quot;subtypes&quot;: [<br>        &quot;Human&quot;,<br>        &quot;Mercenary&quot;<br>    ],<br>    &quot;imageName&quot;: &quot;highway robber&quot;,<br>    &quot;mciNumber&quot;: &quot;150&quot;,<br>    &quot;toughness&quot;: &quot;2&quot;,<br>    &quot;multiverseid&quot;: 129564,<br>    &quot;colorIdentity&quot;: [<br>        &quot;B&quot;<br>    ]<br>}</td>\n",
       "    </tr>\n",
       "    <tr>\n",
       "        <td>{<br>    &quot;id&quot;: &quot;0fe05e5eb3938596e2b0a8f391b986143ae40560&quot;,<br>    &quot;cmc&quot;: 3,<br>    &quot;name&quot;: &quot;Knight of Dusk&quot;,<br>    &quot;text&quot;: &quot;{B}{B}: Destroy target creature blocking Knight of Dusk.&quot;,<br>    &quot;type&quot;: &quot;Creature — Human Knight&quot;,<br>    &quot;power&quot;: &quot;2&quot;,<br>    &quot;types&quot;: [<br>        &quot;Creature&quot;<br>    ],<br>    &quot;artist&quot;: &quot;rk post&quot;,<br>    &quot;colors&quot;: [<br>        &quot;Black&quot;<br>    ],<br>    &quot;flavor&quot;: &quot;\\&quot;Challenge me with your strongest. I will paint my sword with their blood.\\&quot;&quot;,<br>    &quot;layout&quot;: &quot;normal&quot;,<br>    &quot;number&quot;: &quot;152&quot;,<br>    &quot;rarity&quot;: &quot;Uncommon&quot;,<br>    &quot;manaCost&quot;: &quot;{1}{B}{B}&quot;,<br>    &quot;subtypes&quot;: [<br>        &quot;Human&quot;,<br>        &quot;Knight&quot;<br>    ],<br>    &quot;imageName&quot;: &quot;knight of dusk&quot;,<br>    &quot;mciNumber&quot;: &quot;152&quot;,<br>    &quot;toughness&quot;: &quot;2&quot;,<br>    &quot;multiverseid&quot;: 129574,<br>    &quot;colorIdentity&quot;: [<br>        &quot;B&quot;<br>    ]<br>}</td>\n",
       "    </tr>\n",
       "    <tr>\n",
       "        <td>{<br>    &quot;id&quot;: &quot;1932dedad4fb0c7ffa6fa4c0369448086932bf82&quot;,<br>    &quot;cmc&quot;: 4,<br>    &quot;name&quot;: &quot;Nekrataal&quot;,<br>    &quot;text&quot;: &quot;First strike\\nWhen Nekrataal enters the battlefield, destroy target nonartifact, nonblack creature. That creature can&#x27;t be regenerated.&quot;,<br>    &quot;type&quot;: &quot;Creature — Human Assassin&quot;,<br>    &quot;power&quot;: &quot;2&quot;,<br>    &quot;types&quot;: [<br>        &quot;Creature&quot;<br>    ],<br>    &quot;artist&quot;: &quot;Christopher Moeller&quot;,<br>    &quot;colors&quot;: [<br>        &quot;Black&quot;<br>    ],<br>    &quot;flavor&quot;: &quot;His victims don&#x27;t have time to feel despair.&quot;,<br>    &quot;layout&quot;: &quot;normal&quot;,<br>    &quot;number&quot;: &quot;163&quot;,<br>    &quot;rarity&quot;: &quot;Uncommon&quot;,<br>    &quot;manaCost&quot;: &quot;{2}{B}{B}&quot;,<br>    &quot;subtypes&quot;: [<br>        &quot;Human&quot;,<br>        &quot;Assassin&quot;<br>    ],<br>    &quot;imageName&quot;: &quot;nekrataal&quot;,<br>    &quot;mciNumber&quot;: &quot;163&quot;,<br>    &quot;toughness&quot;: &quot;1&quot;,<br>    &quot;multiverseid&quot;: 129658,<br>    &quot;colorIdentity&quot;: [<br>        &quot;B&quot;<br>    ]<br>}</td>\n",
       "    </tr>\n",
       "    <tr>\n",
       "        <td>{<br>    &quot;id&quot;: &quot;13a15ff5906760d350b3cccfd111a4038c10f1ad&quot;,<br>    &quot;cmc&quot;: 3,<br>    &quot;name&quot;: &quot;Royal Assassin&quot;,<br>    &quot;text&quot;: &quot;{T}: Destroy target tapped creature.&quot;,<br>    &quot;type&quot;: &quot;Creature — Human Assassin&quot;,<br>    &quot;power&quot;: &quot;1&quot;,<br>    &quot;types&quot;: [<br>        &quot;Creature&quot;<br>    ],<br>    &quot;artist&quot;: &quot;Mark Zug&quot;,<br>    &quot;colors&quot;: [<br>        &quot;Black&quot;<br>    ],<br>    &quot;flavor&quot;: &quot;Trained in the arts of stealth, royal assassins choose their victims carefully, relying on timing and precision rather than brute force.&quot;,<br>    &quot;layout&quot;: &quot;normal&quot;,<br>    &quot;number&quot;: &quot;174&quot;,<br>    &quot;rarity&quot;: &quot;Rare&quot;,<br>    &quot;manaCost&quot;: &quot;{1}{B}{B}&quot;,<br>    &quot;subtypes&quot;: [<br>        &quot;Human&quot;,<br>        &quot;Assassin&quot;<br>    ],<br>    &quot;imageName&quot;: &quot;royal assassin&quot;,<br>    &quot;mciNumber&quot;: &quot;174&quot;,<br>    &quot;toughness&quot;: &quot;1&quot;,<br>    &quot;multiverseid&quot;: 129708,<br>    &quot;colorIdentity&quot;: [<br>        &quot;B&quot;<br>    ]<br>}</td>\n",
       "    </tr>\n",
       "    <tr>\n",
       "        <td>{<br>    &quot;id&quot;: &quot;db7f0452f425b881882bab284f0f1dcd55692563&quot;,<br>    &quot;cmc&quot;: 6,<br>    &quot;name&quot;: &quot;Kamahl, Pit Fighter&quot;,<br>    &quot;text&quot;: &quot;Haste (This creature can attack and {T} as soon as it comes under your control.)\\n{T}: Kamahl, Pit Fighter deals 3 damage to target creature or player.&quot;,<br>    &quot;type&quot;: &quot;Legendary Creature — Human Barbarian&quot;,<br>    &quot;power&quot;: &quot;6&quot;,<br>    &quot;types&quot;: [<br>        &quot;Creature&quot;<br>    ],<br>    &quot;artist&quot;: &quot;Kev Walker&quot;,<br>    &quot;colors&quot;: [<br>        &quot;Red&quot;<br>    ],<br>    &quot;flavor&quot;: &quot;In times when freedom seems lost, great souls arise to reclaim it.&quot;,<br>    &quot;layout&quot;: &quot;normal&quot;,<br>    &quot;number&quot;: &quot;214&quot;,<br>    &quot;rarity&quot;: &quot;Rare&quot;,<br>    &quot;manaCost&quot;: &quot;{4}{R}{R}&quot;,<br>    &quot;subtypes&quot;: [<br>        &quot;Human&quot;,<br>        &quot;Barbarian&quot;<br>    ],<br>    &quot;imageName&quot;: &quot;kamahl, pit fighter&quot;,<br>    &quot;mciNumber&quot;: &quot;214&quot;,<br>    &quot;toughness&quot;: &quot;1&quot;,<br>    &quot;supertypes&quot;: [<br>        &quot;Legendary&quot;<br>    ],<br>    &quot;multiverseid&quot;: 106398,<br>    &quot;colorIdentity&quot;: [<br>        &quot;R&quot;<br>    ]<br>}</td>\n",
       "    </tr>\n",
       "    <tr>\n",
       "        <td>{<br>    &quot;id&quot;: &quot;f880cda50e117ed00537404f49652acc0f5b069f&quot;,<br>    &quot;cmc&quot;: 3,<br>    &quot;name&quot;: &quot;Prodigal Pyromancer&quot;,<br>    &quot;text&quot;: &quot;{T}: Prodigal Pyromancer deals 1 damage to target creature or player.&quot;,<br>    &quot;type&quot;: &quot;Creature — Human Wizard&quot;,<br>    &quot;power&quot;: &quot;1&quot;,<br>    &quot;types&quot;: [<br>        &quot;Creature&quot;<br>    ],<br>    &quot;artist&quot;: &quot;Jeremy Jarvis&quot;,<br>    &quot;colors&quot;: [<br>        &quot;Red&quot;<br>    ],<br>    &quot;flavor&quot;: &quot;\\&quot;What am I looking at? Ashes, dead man.\\&quot;&quot;,<br>    &quot;layout&quot;: &quot;normal&quot;,<br>    &quot;number&quot;: &quot;221&quot;,<br>    &quot;rarity&quot;: &quot;Common&quot;,<br>    &quot;manaCost&quot;: &quot;{2}{R}&quot;,<br>    &quot;subtypes&quot;: [<br>        &quot;Human&quot;,<br>        &quot;Wizard&quot;<br>    ],<br>    &quot;imageName&quot;: &quot;prodigal pyromancer&quot;,<br>    &quot;mciNumber&quot;: &quot;221&quot;,<br>    &quot;toughness&quot;: &quot;1&quot;,<br>    &quot;multiverseid&quot;: 134752,<br>    &quot;colorIdentity&quot;: [<br>        &quot;R&quot;<br>    ]<br>}</td>\n",
       "    </tr>\n",
       "    <tr>\n",
       "        <td>{<br>    &quot;id&quot;: &quot;a23020ef3d7b16ee40125759dd209ae68ae74bdd&quot;,<br>    &quot;cmc&quot;: 2,<br>    &quot;name&quot;: &quot;Rage Weaver&quot;,<br>    &quot;text&quot;: &quot;{2}: Target black or green creature gains haste until end of turn. (It can attack and {T} this turn.)&quot;,<br>    &quot;type&quot;: &quot;Creature — Human Wizard&quot;,<br>    &quot;power&quot;: &quot;2&quot;,<br>    &quot;types&quot;: [<br>        &quot;Creature&quot;<br>    ],<br>    &quot;artist&quot;: &quot;John Matson&quot;,<br>    &quot;colors&quot;: [<br>        &quot;Red&quot;<br>    ],<br>    &quot;flavor&quot;: &quot;\\&quot;Let my passion spur your victory.\\&quot;&quot;,<br>    &quot;layout&quot;: &quot;normal&quot;,<br>    &quot;number&quot;: &quot;223&quot;,<br>    &quot;rarity&quot;: &quot;Uncommon&quot;,<br>    &quot;manaCost&quot;: &quot;{1}{R}&quot;,<br>    &quot;subtypes&quot;: [<br>        &quot;Human&quot;,<br>        &quot;Wizard&quot;<br>    ],<br>    &quot;imageName&quot;: &quot;rage weaver&quot;,<br>    &quot;mciNumber&quot;: &quot;223&quot;,<br>    &quot;toughness&quot;: &quot;1&quot;,<br>    &quot;multiverseid&quot;: 130997,<br>    &quot;colorIdentity&quot;: [<br>        &quot;R&quot;<br>    ]<br>}</td>\n",
       "    </tr>\n",
       "    <tr>\n",
       "        <td>{<br>    &quot;id&quot;: &quot;74564d565bf68dad3e2f69538aa2a38d5176d8b6&quot;,<br>    &quot;cmc&quot;: 3,<br>    &quot;name&quot;: &quot;Femeref Archers&quot;,<br>    &quot;text&quot;: &quot;{T}: Femeref Archers deals 4 damage to target attacking creature with flying.&quot;,<br>    &quot;type&quot;: &quot;Creature — Human Archer&quot;,<br>    &quot;power&quot;: &quot;2&quot;,<br>    &quot;types&quot;: [<br>        &quot;Creature&quot;<br>    ],<br>    &quot;artist&quot;: &quot;Zoltan Boros &amp; Gabor Szikszai&quot;,<br>    &quot;colors&quot;: [<br>        &quot;Green&quot;<br>    ],<br>    &quot;flavor&quot;: &quot;\\&quot;Bet you can&#x27;t put it through the eye.\\&quot;\\n\\&quot;Left or right?\\&quot;&quot;,<br>    &quot;layout&quot;: &quot;normal&quot;,<br>    &quot;number&quot;: &quot;264&quot;,<br>    &quot;rarity&quot;: &quot;Uncommon&quot;,<br>    &quot;manaCost&quot;: &quot;{2}{G}&quot;,<br>    &quot;subtypes&quot;: [<br>        &quot;Human&quot;,<br>        &quot;Archer&quot;<br>    ],<br>    &quot;imageName&quot;: &quot;femeref archers&quot;,<br>    &quot;mciNumber&quot;: &quot;264&quot;,<br>    &quot;toughness&quot;: &quot;2&quot;,<br>    &quot;multiverseid&quot;: 135186,<br>    &quot;colorIdentity&quot;: [<br>        &quot;G&quot;<br>    ]<br>}</td>\n",
       "    </tr>\n",
       "    <tr>\n",
       "        <td>{<br>    &quot;id&quot;: &quot;8c7e8589ec18d146250ae526f1b8a5e77560164e&quot;,<br>    &quot;cmc&quot;: 2,<br>    &quot;name&quot;: &quot;Might Weaver&quot;,<br>    &quot;text&quot;: &quot;{2}: Target red or white creature gains trample until end of turn. (If the creature would assign enough damage to its blockers to destroy them, you may have it assign the rest of its damage to defending player or planeswalker.)&quot;,<br>    &quot;type&quot;: &quot;Creature — Human Wizard&quot;,<br>    &quot;power&quot;: &quot;2&quot;,<br>    &quot;types&quot;: [<br>        &quot;Creature&quot;<br>    ],<br>    &quot;artist&quot;: &quot;Larry Elmore&quot;,<br>    &quot;colors&quot;: [<br>        &quot;Green&quot;<br>    ],<br>    &quot;flavor&quot;: &quot;\\&quot;Let my strength harden your resolve.\\&quot;&quot;,<br>    &quot;layout&quot;: &quot;normal&quot;,<br>    &quot;number&quot;: &quot;278&quot;,<br>    &quot;rarity&quot;: &quot;Uncommon&quot;,<br>    &quot;manaCost&quot;: &quot;{1}{G}&quot;,<br>    &quot;subtypes&quot;: [<br>        &quot;Human&quot;,<br>        &quot;Wizard&quot;<br>    ],<br>    &quot;imageName&quot;: &quot;might weaver&quot;,<br>    &quot;mciNumber&quot;: &quot;278&quot;,<br>    &quot;toughness&quot;: &quot;1&quot;,<br>    &quot;multiverseid&quot;: 130996,<br>    &quot;colorIdentity&quot;: [<br>        &quot;G&quot;<br>    ]<br>}</td>\n",
       "    </tr>\n",
       "    <tr>\n",
       "        <td>{<br>    &quot;id&quot;: &quot;63a772d948adbcbb6193d4161c0d91034d66352f&quot;,<br>    &quot;cmc&quot;: 3,<br>    &quot;name&quot;: &quot;Yavimaya Enchantress&quot;,<br>    &quot;text&quot;: &quot;Yavimaya Enchantress gets +1/+1 for each enchantment on the battlefield.&quot;,<br>    &quot;type&quot;: &quot;Creature — Human Druid&quot;,<br>    &quot;power&quot;: &quot;2&quot;,<br>    &quot;types&quot;: [<br>        &quot;Creature&quot;<br>    ],<br>    &quot;artist&quot;: &quot;Terese Nielsen&quot;,<br>    &quot;colors&quot;: [<br>        &quot;Green&quot;<br>    ],<br>    &quot;flavor&quot;: &quot;Her roots connect her to the forest&#x27;s wishes.&quot;,<br>    &quot;layout&quot;: &quot;normal&quot;,<br>    &quot;number&quot;: &quot;310&quot;,<br>    &quot;rarity&quot;: &quot;Uncommon&quot;,<br>    &quot;manaCost&quot;: &quot;{2}{G}&quot;,<br>    &quot;subtypes&quot;: [<br>        &quot;Human&quot;,<br>        &quot;Druid&quot;<br>    ],<br>    &quot;imageName&quot;: &quot;yavimaya enchantress&quot;,<br>    &quot;mciNumber&quot;: &quot;310&quot;,<br>    &quot;toughness&quot;: &quot;2&quot;,<br>    &quot;multiverseid&quot;: 130515,<br>    &quot;colorIdentity&quot;: [<br>        &quot;G&quot;<br>    ]<br>}</td>\n",
       "    </tr>\n",
       "    <tr>\n",
       "        <td>{<br>    &quot;id&quot;: &quot;dfcbba84c0295c066dcd4b90c6d56fe355d31de7&quot;,<br>    &quot;cmc&quot;: 1,<br>    &quot;name&quot;: &quot;Benalish Hero&quot;,<br>    &quot;text&quot;: &quot;Banding (Any creatures with banding, and up to one without, can attack in a band. Bands are blocked as a group. If any creatures with banding you control are blocking or being blocked by a creature, you divide that creature&#x27;s combat damage, not its controller, among any of the creatures it&#x27;s being blocked by or is blocking.)&quot;,<br>    &quot;type&quot;: &quot;Creature — Human Soldier&quot;,<br>    &quot;power&quot;: &quot;1&quot;,<br>    &quot;types&quot;: [<br>        &quot;Creature&quot;<br>    ],<br>    &quot;artist&quot;: &quot;Douglas Shuler&quot;,<br>    &quot;colors&quot;: [<br>        &quot;White&quot;<br>    ],<br>    &quot;flavor&quot;: &quot;Benalia has a complex caste system that changes with the lunar year. No matter what the season, the only caste that cannot be attained by either heredity or money is that of the hero.&quot;,<br>    &quot;layout&quot;: &quot;normal&quot;,<br>    &quot;rarity&quot;: &quot;Common&quot;,<br>    &quot;manaCost&quot;: &quot;{W}&quot;,<br>    &quot;subtypes&quot;: [<br>        &quot;Human&quot;,<br>        &quot;Soldier&quot;<br>    ],<br>    &quot;imageName&quot;: &quot;benalish hero&quot;,<br>    &quot;mciNumber&quot;: &quot;188&quot;,<br>    &quot;toughness&quot;: &quot;1&quot;,<br>    &quot;multiverseid&quot;: 832,<br>    &quot;colorIdentity&quot;: [<br>        &quot;W&quot;<br>    ]<br>}</td>\n",
       "    </tr>\n",
       "    <tr>\n",
       "        <td>{<br>    &quot;id&quot;: &quot;f24ec5e526f0eeb1ea4ab50c7c5304cf99eabe6a&quot;,<br>    &quot;cmc&quot;: 2,<br>    &quot;name&quot;: &quot;Black Knight&quot;,<br>    &quot;text&quot;: &quot;First strike (This creature deals combat damage before creatures without first strike.)\\nProtection from white (This creature can&#x27;t be blocked, targeted, dealt damage, or enchanted by anything white.)&quot;,<br>    &quot;type&quot;: &quot;Creature — Human Knight&quot;,<br>    &quot;power&quot;: &quot;2&quot;,<br>    &quot;types&quot;: [<br>        &quot;Creature&quot;<br>    ],<br>    &quot;artist&quot;: &quot;Jeff A. Menges&quot;,<br>    &quot;colors&quot;: [<br>        &quot;Black&quot;<br>    ],<br>    &quot;flavor&quot;: &quot;Battle doesn&#x27;t need a purpose; the battle is its own purpose. You don&#x27;t ask why a plague spreads or a field burns. Don&#x27;t ask why I fight.&quot;,<br>    &quot;layout&quot;: &quot;normal&quot;,<br>    &quot;rarity&quot;: &quot;Uncommon&quot;,<br>    &quot;manaCost&quot;: &quot;{B}{B}&quot;,<br>    &quot;subtypes&quot;: [<br>        &quot;Human&quot;,<br>        &quot;Knight&quot;<br>    ],<br>    &quot;imageName&quot;: &quot;black knight&quot;,<br>    &quot;mciNumber&quot;: &quot;3&quot;,<br>    &quot;toughness&quot;: &quot;2&quot;,<br>    &quot;multiverseid&quot;: 647,<br>    &quot;colorIdentity&quot;: [<br>        &quot;B&quot;<br>    ]<br>}</td>\n",
       "    </tr>\n",
       "    <tr>\n",
       "        <td>{<br>    &quot;id&quot;: &quot;2afab74040b48f10127b759fef895f15b95b69f8&quot;,<br>    &quot;cmc&quot;: 4,<br>    &quot;name&quot;: &quot;Keldon Warlord&quot;,<br>    &quot;text&quot;: &quot;Keldon Warlord&#x27;s power and toughness are each equal to the number of non-Wall creatures you control.&quot;,<br>    &quot;type&quot;: &quot;Creature — Human Barbarian&quot;,<br>    &quot;power&quot;: &quot;*&quot;,<br>    &quot;types&quot;: [<br>        &quot;Creature&quot;<br>    ],<br>    &quot;artist&quot;: &quot;Kev Brockschmidt&quot;,<br>    &quot;colors&quot;: [<br>        &quot;Red&quot;<br>    ],<br>    &quot;layout&quot;: &quot;normal&quot;,<br>    &quot;rarity&quot;: &quot;Uncommon&quot;,<br>    &quot;manaCost&quot;: &quot;{2}{R}{R}&quot;,<br>    &quot;subtypes&quot;: [<br>        &quot;Human&quot;,<br>        &quot;Barbarian&quot;<br>    ],<br>    &quot;imageName&quot;: &quot;keldon warlord&quot;,<br>    &quot;mciNumber&quot;: &quot;161&quot;,<br>    &quot;toughness&quot;: &quot;*&quot;,<br>    &quot;multiverseid&quot;: 805,<br>    &quot;colorIdentity&quot;: [<br>        &quot;R&quot;<br>    ]<br>}</td>\n",
       "    </tr>\n",
       "    <tr>\n",
       "        <td>{<br>    &quot;id&quot;: &quot;41f323ffd66acf2b49a42fe1938a41b38e39f47a&quot;,<br>    &quot;cmc&quot;: 3,<br>    &quot;name&quot;: &quot;Ley Druid&quot;,<br>    &quot;text&quot;: &quot;{T}: Untap target land.&quot;,<br>    &quot;type&quot;: &quot;Creature — Human Druid&quot;,<br>    &quot;power&quot;: &quot;1&quot;,<br>    &quot;types&quot;: [<br>        &quot;Creature&quot;<br>    ],<br>    &quot;artist&quot;: &quot;Sandra Everingham&quot;,<br>    &quot;colors&quot;: [<br>        &quot;Green&quot;<br>    ],<br>    &quot;flavor&quot;: &quot;After years of training, the Druid becomes one with nature, drawing power from the land and returning it when needed.&quot;,<br>    &quot;layout&quot;: &quot;normal&quot;,<br>    &quot;rarity&quot;: &quot;Uncommon&quot;,<br>    &quot;manaCost&quot;: &quot;{2}{G}&quot;,<br>    &quot;subtypes&quot;: [<br>        &quot;Human&quot;,<br>        &quot;Druid&quot;<br>    ],<br>    &quot;imageName&quot;: &quot;ley druid&quot;,<br>    &quot;mciNumber&quot;: &quot;114&quot;,<br>    &quot;toughness&quot;: &quot;1&quot;,<br>    &quot;multiverseid&quot;: 758,<br>    &quot;colorIdentity&quot;: [<br>        &quot;G&quot;<br>    ]<br>}</td>\n",
       "    </tr>\n",
       "    <tr>\n",
       "        <td>{<br>    &quot;id&quot;: &quot;272bbf35a93b7fa6dfac5611e947d99fb8a577ce&quot;,<br>    &quot;cmc&quot;: 4,<br>    &quot;name&quot;: &quot;Northern Paladin&quot;,<br>    &quot;text&quot;: &quot;{W}{W}, {T}: Destroy target black permanent.&quot;,<br>    &quot;type&quot;: &quot;Creature — Human Knight&quot;,<br>    &quot;power&quot;: &quot;3&quot;,<br>    &quot;types&quot;: [<br>        &quot;Creature&quot;<br>    ],<br>    &quot;artist&quot;: &quot;Douglas Shuler&quot;,<br>    &quot;colors&quot;: [<br>        &quot;White&quot;<br>    ],<br>    &quot;flavor&quot;: &quot;\\&quot;Look to the north; there you will find aid and comfort.\\&quot;\\n—The Book of Tal&quot;,<br>    &quot;layout&quot;: &quot;normal&quot;,<br>    &quot;rarity&quot;: &quot;Rare&quot;,<br>    &quot;manaCost&quot;: &quot;{2}{W}{W}&quot;,<br>    &quot;subtypes&quot;: [<br>        &quot;Human&quot;,<br>        &quot;Knight&quot;<br>    ],<br>    &quot;imageName&quot;: &quot;northern paladin&quot;,<br>    &quot;mciNumber&quot;: &quot;214&quot;,<br>    &quot;toughness&quot;: &quot;3&quot;,<br>    &quot;multiverseid&quot;: 858,<br>    &quot;colorIdentity&quot;: [<br>        &quot;W&quot;<br>    ]<br>}</td>\n",
       "    </tr>\n",
       "    <tr>\n",
       "        <td>{<br>    &quot;id&quot;: &quot;6dc7971e9a032acbeadef5c2ca8d8ff9ba03ee52&quot;,<br>    &quot;cmc&quot;: 5,<br>    &quot;name&quot;: &quot;Pirate Ship&quot;,<br>    &quot;text&quot;: &quot;Pirate Ship can&#x27;t attack unless defending player controls an Island.\\n{T}: Pirate Ship deals 1 damage to target creature or player.\\nWhen you control no Islands, sacrifice Pirate Ship.&quot;,<br>    &quot;type&quot;: &quot;Creature — Human Pirate&quot;,<br>    &quot;power&quot;: &quot;4&quot;,<br>    &quot;types&quot;: [<br>        &quot;Creature&quot;<br>    ],<br>    &quot;artist&quot;: &quot;Tom Wänerstrand&quot;,<br>    &quot;colors&quot;: [<br>        &quot;Blue&quot;<br>    ],<br>    &quot;layout&quot;: &quot;normal&quot;,<br>    &quot;rarity&quot;: &quot;Rare&quot;,<br>    &quot;manaCost&quot;: &quot;{4}{U}&quot;,<br>    &quot;subtypes&quot;: [<br>        &quot;Human&quot;,<br>        &quot;Pirate&quot;<br>    ],<br>    &quot;imageName&quot;: &quot;pirate ship&quot;,<br>    &quot;mciNumber&quot;: &quot;71&quot;,<br>    &quot;toughness&quot;: &quot;3&quot;,<br>    &quot;multiverseid&quot;: 715,<br>    &quot;colorIdentity&quot;: [<br>        &quot;U&quot;<br>    ]<br>}</td>\n",
       "    </tr>\n",
       "    <tr>\n",
       "        <td>{<br>    &quot;id&quot;: &quot;f10133251233cd8e63f695df3df3ea71c312c638&quot;,<br>    &quot;cmc&quot;: 3,<br>    &quot;name&quot;: &quot;Prodigal Sorcerer&quot;,<br>    &quot;text&quot;: &quot;{T}: Prodigal Sorcerer deals 1 damage to target creature or player.&quot;,<br>    &quot;type&quot;: &quot;Creature — Human Wizard&quot;,<br>    &quot;power&quot;: &quot;1&quot;,<br>    &quot;types&quot;: [<br>        &quot;Creature&quot;<br>    ],<br>    &quot;artist&quot;: &quot;Douglas Shuler&quot;,<br>    &quot;colors&quot;: [<br>        &quot;Blue&quot;<br>    ],<br>    &quot;flavor&quot;: &quot;Occasionally a member of the Institute of Arcane Study acquires a taste for worldly pleasures. Seldom do they have trouble finding employment.&quot;,<br>    &quot;layout&quot;: &quot;normal&quot;,<br>    &quot;rarity&quot;: &quot;Common&quot;,<br>    &quot;manaCost&quot;: &quot;{2}{U}&quot;,<br>    &quot;subtypes&quot;: [<br>        &quot;Human&quot;,<br>        &quot;Wizard&quot;<br>    ],<br>    &quot;imageName&quot;: &quot;prodigal sorcerer&quot;,<br>    &quot;mciNumber&quot;: &quot;74&quot;,<br>    &quot;toughness&quot;: &quot;1&quot;,<br>    &quot;multiverseid&quot;: 718,<br>    &quot;colorIdentity&quot;: [<br>        &quot;U&quot;<br>    ]<br>}</td>\n",
       "    </tr>\n",
       "    <tr>\n",
       "        <td>{<br>    &quot;id&quot;: &quot;dfe369e05ff9c5a09070512200257867f4a3aa52&quot;,<br>    &quot;cmc&quot;: 3,<br>    &quot;name&quot;: &quot;Royal Assassin&quot;,<br>    &quot;text&quot;: &quot;{T}: Destroy target tapped creature.&quot;,<br>    &quot;type&quot;: &quot;Creature — Human Assassin&quot;,<br>    &quot;power&quot;: &quot;1&quot;,<br>    &quot;types&quot;: [<br>        &quot;Creature&quot;<br>    ],<br>    &quot;artist&quot;: &quot;Tom Wänerstrand&quot;,<br>    &quot;colors&quot;: [<br>        &quot;Black&quot;<br>    ],<br>    &quot;flavor&quot;: &quot;Trained in the arts of stealth, the royal assassins choose their victims carefully, relying on timing and precision rather than brute force.&quot;,<br>    &quot;layout&quot;: &quot;normal&quot;,<br>    &quot;rarity&quot;: &quot;Rare&quot;,<br>    &quot;manaCost&quot;: &quot;{1}{B}{B}&quot;,<br>    &quot;subtypes&quot;: [<br>        &quot;Human&quot;,<br>        &quot;Assassin&quot;<br>    ],<br>    &quot;imageName&quot;: &quot;royal assassin&quot;,<br>    &quot;mciNumber&quot;: &quot;32&quot;,<br>    &quot;toughness&quot;: &quot;1&quot;,<br>    &quot;multiverseid&quot;: 676,<br>    &quot;colorIdentity&quot;: [<br>        &quot;B&quot;<br>    ]<br>}</td>\n",
       "    </tr>\n",
       "    <tr>\n",
       "        <td>{<br>    &quot;id&quot;: &quot;0961feb62ad39ccbdab674f30c1e1957abe88d96&quot;,<br>    &quot;cmc&quot;: 2,<br>    &quot;name&quot;: &quot;Samite Healer&quot;,<br>    &quot;text&quot;: &quot;{T}: Prevent the next 1 damage that would be dealt to target creature or player this turn.&quot;,<br>    &quot;type&quot;: &quot;Creature — Human Cleric&quot;,<br>    &quot;power&quot;: &quot;1&quot;,<br>    &quot;types&quot;: [<br>        &quot;Creature&quot;<br>    ],<br>    &quot;artist&quot;: &quot;Tom Wänerstrand&quot;,<br>    &quot;colors&quot;: [<br>        &quot;White&quot;<br>    ],<br>    &quot;flavor&quot;: &quot;Healers ultimately acquire the divine gifts of spiritual and physical wholeness. The most devout are also granted the ability to pass physical wholeness on to others.&quot;,<br>    &quot;layout&quot;: &quot;normal&quot;,<br>    &quot;rarity&quot;: &quot;Common&quot;,<br>    &quot;manaCost&quot;: &quot;{1}{W}&quot;,<br>    &quot;subtypes&quot;: [<br>        &quot;Human&quot;,<br>        &quot;Cleric&quot;<br>    ],<br>    &quot;imageName&quot;: &quot;samite healer&quot;,<br>    &quot;mciNumber&quot;: &quot;222&quot;,<br>    &quot;toughness&quot;: &quot;1&quot;,<br>    &quot;multiverseid&quot;: 866,<br>    &quot;colorIdentity&quot;: [<br>        &quot;W&quot;<br>    ]<br>}</td>\n",
       "    </tr>\n",
       "    <tr>\n",
       "        <td>{<br>    &quot;id&quot;: &quot;279fb871edaadf3a1af4633a6adddbea4795da3e&quot;,<br>    &quot;cmc&quot;: 3,<br>    &quot;name&quot;: &quot;Verduran Enchantress&quot;,<br>    &quot;text&quot;: &quot;Whenever you cast an enchantment spell, you may draw a card.&quot;,<br>    &quot;type&quot;: &quot;Creature — Human Druid&quot;,<br>    &quot;power&quot;: &quot;0&quot;,<br>    &quot;types&quot;: [<br>        &quot;Creature&quot;<br>    ],<br>    &quot;artist&quot;: &quot;Kev Brockschmidt&quot;,<br>    &quot;colors&quot;: [<br>        &quot;Green&quot;<br>    ],<br>    &quot;flavor&quot;: &quot;Some say magic was first practiced by women, who have always felt strong ties to the land.&quot;,<br>    &quot;layout&quot;: &quot;normal&quot;,<br>    &quot;rarity&quot;: &quot;Rare&quot;,<br>    &quot;manaCost&quot;: &quot;{1}{G}{G}&quot;,<br>    &quot;subtypes&quot;: [<br>        &quot;Human&quot;,<br>        &quot;Druid&quot;<br>    ],<br>    &quot;imageName&quot;: &quot;verduran enchantress&quot;,<br>    &quot;mciNumber&quot;: &quot;131&quot;,<br>    &quot;toughness&quot;: &quot;2&quot;,<br>    &quot;multiverseid&quot;: 775,<br>    &quot;colorIdentity&quot;: [<br>        &quot;G&quot;<br>    ]<br>}</td>\n",
       "    </tr>\n",
       "    <tr>\n",
       "        <td>{<br>    &quot;id&quot;: &quot;cdecfb0617f68824298f64efa89b64b6d9e0c628&quot;,<br>    &quot;cmc&quot;: 5,<br>    &quot;name&quot;: &quot;Veteran Bodyguard&quot;,<br>    &quot;text&quot;: &quot;As long as Veteran Bodyguard is untapped, all damage that would be dealt to you by unblocked creatures is dealt to Veteran Bodyguard instead.&quot;,<br>    &quot;type&quot;: &quot;Creature — Human&quot;,<br>    &quot;power&quot;: &quot;2&quot;,<br>    &quot;types&quot;: [<br>        &quot;Creature&quot;<br>    ],<br>    &quot;artist&quot;: &quot;Douglas Shuler&quot;,<br>    &quot;colors&quot;: [<br>        &quot;White&quot;<br>    ],<br>    &quot;flavor&quot;: &quot;Good bodyguards are hard to find, mainly because they don&#x27;t live long.&quot;,<br>    &quot;layout&quot;: &quot;normal&quot;,<br>    &quot;rarity&quot;: &quot;Rare&quot;,<br>    &quot;manaCost&quot;: &quot;{3}{W}{W}&quot;,<br>    &quot;reserved&quot;: true,<br>    &quot;subtypes&quot;: [<br>        &quot;Human&quot;<br>    ],<br>    &quot;imageName&quot;: &quot;veteran bodyguard&quot;,<br>    &quot;mciNumber&quot;: &quot;226&quot;,<br>    &quot;toughness&quot;: &quot;5&quot;,<br>    &quot;multiverseid&quot;: 870,<br>    &quot;colorIdentity&quot;: [<br>        &quot;W&quot;<br>    ]<br>}</td>\n",
       "    </tr>\n",
       "    <tr>\n",
       "        <td>{<br>    &quot;id&quot;: &quot;984f9cc3f0f39f83682b6bf385335d4bca725d62&quot;,<br>    &quot;cmc&quot;: 2,<br>    &quot;name&quot;: &quot;White Knight&quot;,<br>    &quot;text&quot;: &quot;First strike (This creature deals combat damage before creatures without first strike.)\\nProtection from black (This creature can&#x27;t be blocked, targeted, dealt damage, or enchanted by anything black.)&quot;,<br>    &quot;type&quot;: &quot;Creature — Human Knight&quot;,<br>    &quot;power&quot;: &quot;2&quot;,<br>    &quot;types&quot;: [<br>        &quot;Creature&quot;<br>    ],<br>    &quot;artist&quot;: &quot;Daniel Gelon&quot;,<br>    &quot;colors&quot;: [<br>        &quot;White&quot;<br>    ],<br>    &quot;flavor&quot;: &quot;Out of the blackness and stench of the engulfing swamp emerged a shimmering figure. Only the splattered armor and ichor-stained sword hinted at the unfathomable evil the knight had just laid waste.&quot;,<br>    &quot;layout&quot;: &quot;normal&quot;,<br>    &quot;rarity&quot;: &quot;Uncommon&quot;,<br>    &quot;manaCost&quot;: &quot;{W}{W}&quot;,<br>    &quot;subtypes&quot;: [<br>        &quot;Human&quot;,<br>        &quot;Knight&quot;<br>    ],<br>    &quot;imageName&quot;: &quot;white knight&quot;,<br>    &quot;mciNumber&quot;: &quot;228&quot;,<br>    &quot;toughness&quot;: &quot;2&quot;,<br>    &quot;multiverseid&quot;: 872,<br>    &quot;colorIdentity&quot;: [<br>        &quot;W&quot;<br>    ]<br>}</td>\n",
       "    </tr>\n",
       "    <tr>\n",
       "        <td>{<br>    &quot;id&quot;: &quot;9470ff35546446805fb3abfbab7a84a0774b6290&quot;,<br>    &quot;cmc&quot;: 1,<br>    &quot;name&quot;: &quot;Benalish Hero&quot;,<br>    &quot;text&quot;: &quot;Banding (Any creatures with banding, and up to one without, can attack in a band. Bands are blocked as a group. If any creatures with banding you control are blocking or being blocked by a creature, you divide that creature&#x27;s combat damage, not its controller, among any of the creatures it&#x27;s being blocked by or is blocking.)&quot;,<br>    &quot;type&quot;: &quot;Creature — Human Soldier&quot;,<br>    &quot;power&quot;: &quot;1&quot;,<br>    &quot;types&quot;: [<br>        &quot;Creature&quot;<br>    ],<br>    &quot;artist&quot;: &quot;Douglas Shuler&quot;,<br>    &quot;colors&quot;: [<br>        &quot;White&quot;<br>    ],<br>    &quot;flavor&quot;: &quot;Benalia has a complex caste system that changes with the lunar year. No matter what the season, the only caste that cannot be attained by either heredity or money is that of the hero.&quot;,<br>    &quot;layout&quot;: &quot;normal&quot;,<br>    &quot;rarity&quot;: &quot;Common&quot;,<br>    &quot;manaCost&quot;: &quot;{W}&quot;,<br>    &quot;subtypes&quot;: [<br>        &quot;Human&quot;,<br>        &quot;Soldier&quot;<br>    ],<br>    &quot;imageName&quot;: &quot;benalish hero&quot;,<br>    &quot;mciNumber&quot;: &quot;188&quot;,<br>    &quot;toughness&quot;: &quot;1&quot;,<br>    &quot;multiverseid&quot;: 1330,<br>    &quot;colorIdentity&quot;: [<br>        &quot;W&quot;<br>    ]<br>}</td>\n",
       "    </tr>\n",
       "    <tr>\n",
       "        <td>{<br>    &quot;id&quot;: &quot;fa58ebb0bd26da48d4867afb657d7fc5ad36402a&quot;,<br>    &quot;cmc&quot;: 2,<br>    &quot;name&quot;: &quot;Black Knight&quot;,<br>    &quot;text&quot;: &quot;First strike (This creature deals combat damage before creatures without first strike.)\\nProtection from white (This creature can&#x27;t be blocked, targeted, dealt damage, or enchanted by anything white.)&quot;,<br>    &quot;type&quot;: &quot;Creature — Human Knight&quot;,<br>    &quot;power&quot;: &quot;2&quot;,<br>    &quot;types&quot;: [<br>        &quot;Creature&quot;<br>    ],<br>    &quot;artist&quot;: &quot;Jeff A. Menges&quot;,<br>    &quot;colors&quot;: [<br>        &quot;Black&quot;<br>    ],<br>    &quot;flavor&quot;: &quot;Battle doesn&#x27;t need a purpose; the battle is its own purpose. You don&#x27;t ask why a plague spreads or a field burns. Don&#x27;t ask why I fight.&quot;,<br>    &quot;layout&quot;: &quot;normal&quot;,<br>    &quot;rarity&quot;: &quot;Uncommon&quot;,<br>    &quot;manaCost&quot;: &quot;{B}{B}&quot;,<br>    &quot;subtypes&quot;: [<br>        &quot;Human&quot;,<br>        &quot;Knight&quot;<br>    ],<br>    &quot;imageName&quot;: &quot;black knight&quot;,<br>    &quot;mciNumber&quot;: &quot;3&quot;,<br>    &quot;toughness&quot;: &quot;2&quot;,<br>    &quot;multiverseid&quot;: 1145,<br>    &quot;colorIdentity&quot;: [<br>        &quot;B&quot;<br>    ]<br>}</td>\n",
       "    </tr>\n",
       "</table>"
      ],
      "text/plain": [
       "[('{\\n    \"id\": \"ab1ab474019e4e76c66e2b524d354cb7c3212616\",\\n    \"cmc\": 7,\\n    \"name\": \"Ancestor\\'s Chosen\",\\n    \"text\": \"First strike (This creature  ... (572 characters truncated) ... ame\": \"ancestor\\'s chosen\",\\n    \"mciNumber\": \"1\",\\n    \"toughness\": \"4\",\\n    \"multiverseid\": 130550,\\n    \"colorIdentity\": [\\n        \"W\"\\n    ]\\n}',),\n",
       " ('{\\n    \"id\": \"d3488c0a916bd922856473155a8b49ec23fc2217\",\\n    \"cmc\": 4,\\n    \"name\": \"Ballista Squad\",\\n    \"text\": \"{X}{W}, {T}: Ballista Squad deal ... (475 characters truncated) ... ageName\": \"ballista squad\",\\n    \"mciNumber\": \"8\",\\n    \"toughness\": \"2\",\\n    \"multiverseid\": 129477,\\n    \"colorIdentity\": [\\n        \"W\"\\n    ]\\n}',),\n",
       " ('{\\n    \"id\": \"29c46fca29e5de01dba3bbf05393325bc9132735\",\\n    \"cmc\": 3,\\n    \"name\": \"Benalish Knight\",\\n    \"text\": \"Flash (You may cast this spell  ... (586 characters truncated) ... eName\": \"benalish knight\",\\n    \"mciNumber\": \"11\",\\n    \"toughness\": \"2\",\\n    \"multiverseid\": 136279,\\n    \"colorIdentity\": [\\n        \"W\"\\n    ]\\n}',),\n",
       " ('{\\n    \"id\": \"e8b8dea65daf4e9070cce5de62bdbea0bf36d47c\",\\n    \"cmc\": 4,\\n    \"name\": \"Cho-Manno, Revolutionary\",\\n    \"text\": \"Prevent all damage tha ... (564 characters truncated) ... \\n    \"toughness\": \"2\",\\n    \"supertypes\": [\\n        \"Legendary\"\\n    ],\\n    \"multiverseid\": 130554,\\n    \"colorIdentity\": [\\n        \"W\"\\n    ]\\n}',),\n",
       " ('{\\n    \"id\": \"80a6b907fc380ed97615e8abc0fe6071c4ceef67\",\\n    \"cmc\": 3,\\n    \"name\": \"Field Marshal\",\\n    \"text\": \"Other Soldier creatures get +1/+1 ... (549 characters truncated) ... ageName\": \"field marshal\",\\n    \"mciNumber\": \"15\",\\n    \"toughness\": \"2\",\\n    \"multiverseid\": 135258,\\n    \"colorIdentity\": [\\n        \"W\"\\n    ]\\n}',),\n",
       " ('{\\n    \"id\": \"7879b835a2c3d6516515d03bd3a3894dceee1812\",\\n    \"cmc\": 1,\\n    \"name\": \"Honor Guard\",\\n    \"text\": \"{W}: Honor Guard gets +0/+1 until e ... (417 characters truncated) ... imageName\": \"honor guard\",\\n    \"mciNumber\": \"23\",\\n    \"toughness\": \"1\",\\n    \"multiverseid\": 129595,\\n    \"colorIdentity\": [\\n        \"W\"\\n    ]\\n}',),\n",
       " ('{\\n    \"id\": \"55932565b6905650e67e784b7cf0df63990e9851\",\\n    \"cmc\": 1,\\n    \"name\": \"Icatian Priest\",\\n    \"text\": \"{1}{W}{W}: Target creature gets  ... (561 characters truncated) ... geName\": \"icatian priest\",\\n    \"mciNumber\": \"24\",\\n    \"toughness\": \"1\",\\n    \"multiverseid\": 132123,\\n    \"colorIdentity\": [\\n        \"W\"\\n    ]\\n}',),\n",
       " ('{\\n    \"id\": \"bc1e197c295bc12cc1b392a11b94782f1396b263\",\\n    \"cmc\": 5,\\n    \"name\": \"Kjeldoran Royal Guard\",\\n    \"text\": \"{T}: All combat damage th ... (588 characters truncated) ... : \"kjeldoran royal guard\",\\n    \"mciNumber\": \"25\",\\n    \"toughness\": \"5\",\\n    \"multiverseid\": 130551,\\n    \"colorIdentity\": [\\n        \"W\"\\n    ]\\n}',),\n",
       " ('{\\n    \"id\": \"e25120395df829af067675f1582ae946543094e2\",\\n    \"cmc\": 1,\\n    \"name\": \"Loyal Sentry\",\\n    \"text\": \"When Loyal Sentry blocks a creatur ... (500 characters truncated) ... mageName\": \"loyal sentry\",\\n    \"mciNumber\": \"27\",\\n    \"toughness\": \"1\",\\n    \"multiverseid\": 129798,\\n    \"colorIdentity\": [\\n        \"W\"\\n    ]\\n}',),\n",
       " ('{\\n    \"id\": \"f0bd8f9ffd23760499a421ca4cd2f211130542b8\",\\n    \"cmc\": 3,\\n    \"name\": \"Nomad Mythmaker\",\\n    \"text\": \"{W}, {T}: Put target Aura card  ... (599 characters truncated) ... eName\": \"nomad mythmaker\",\\n    \"mciNumber\": \"30\",\\n    \"toughness\": \"2\",\\n    \"multiverseid\": 130547,\\n    \"colorIdentity\": [\\n        \"W\"\\n    ]\\n}',),\n",
       " ('{\\n    \"id\": \"1db7581f31be9c7a2de25510463bc967e2d162f3\",\\n    \"cmc\": 3,\\n    \"name\": \"Paladin en-Vec\",\\n    \"text\": \"First strike, protection from bl ... (684 characters truncated) ... geName\": \"paladin en-vec\",\\n    \"mciNumber\": \"32\",\\n    \"toughness\": \"2\",\\n    \"multiverseid\": 129668,\\n    \"colorIdentity\": [\\n        \"W\"\\n    ]\\n}',),\n",
       " ('{\\n    \"id\": \"2f40052abfd749583409d314c6bc06132eceb6ce\",\\n    \"cmc\": 2,\\n    \"name\": \"Samite Healer\",\\n    \"text\": \"{T}: Prevent the next 1 damage th ... (592 characters truncated) ... ageName\": \"samite healer\",\\n    \"mciNumber\": \"38\",\\n    \"toughness\": \"1\",\\n    \"multiverseid\": 132101,\\n    \"colorIdentity\": [\\n        \"W\"\\n    ]\\n}',),\n",
       " ('{\\n    \"id\": \"b2e626e2db0db7e85c5158d828df352039c64c48\",\\n    \"cmc\": 1,\\n    \"name\": \"Soul Warden\",\\n    \"text\": \"Whenever another creature enters th ... (466 characters truncated) ... imageName\": \"soul warden\",\\n    \"mciNumber\": \"44\",\\n    \"toughness\": \"1\",\\n    \"multiverseid\": 129740,\\n    \"colorIdentity\": [\\n        \"W\"\\n    ]\\n}',),\n",
       " ('{\\n    \"id\": \"d37e5cd317f282c8a4a667b62f3f654a7cf73725\",\\n    \"cmc\": 2,\\n    \"name\": \"Spirit Weaver\",\\n    \"text\": \"{2}: Target green or blue creatur ... (438 characters truncated) ... ageName\": \"spirit weaver\",\\n    \"mciNumber\": \"46\",\\n    \"toughness\": \"1\",\\n    \"multiverseid\": 130999,\\n    \"colorIdentity\": [\\n        \"W\"\\n    ]\\n}',),\n",
       " ('{\\n    \"id\": \"a9b49bcc889963dda0b619c11cda811887dbc477\",\\n    \"cmc\": 2,\\n    \"name\": \"Starlight Invoker\",\\n    \"text\": \"{7}{W}: You gain 5 life.\",\\n  ... (569 characters truncated) ... ame\": \"starlight invoker\",\\n    \"mciNumber\": \"47\",\\n    \"toughness\": \"3\",\\n    \"multiverseid\": 130385,\\n    \"colorIdentity\": [\\n        \"W\"\\n    ]\\n}',),\n",
       " ('{\\n    \"id\": \"07e059bb927aafc4fe3fa310b04776116caf7e8c\",\\n    \"cmc\": 2,\\n    \"name\": \"Steadfast Guard\",\\n    \"text\": \"Vigilance (Attacking doesn\\'t c ... (546 characters truncated) ... eName\": \"steadfast guard\",\\n    \"mciNumber\": \"48\",\\n    \"toughness\": \"2\",\\n    \"multiverseid\": 132111,\\n    \"colorIdentity\": [\\n        \"W\"\\n    ]\\n}',),\n",
       " ('{\\n    \"id\": \"c263717b5581b015b1f7d82ea771a0d8b6c439b5\",\\n    \"cmc\": 3,\\n    \"name\": \"Treasure Hunter\",\\n    \"text\": \"When Treasure Hunter enters the ... (520 characters truncated) ... eName\": \"treasure hunter\",\\n    \"mciNumber\": \"52\",\\n    \"toughness\": \"2\",\\n    \"multiverseid\": 135232,\\n    \"colorIdentity\": [\\n        \"W\"\\n    ]\\n}',),\n",
       " ('{\\n    \"id\": \"8b85a33fe84a319d5491b6cdf6a4204a144cbae5\",\\n    \"cmc\": 2,\\n    \"name\": \"True Believer\",\\n    \"text\": \"You have shroud. (You can\\'t be t ... (467 characters truncated) ... ageName\": \"true believer\",\\n    \"mciNumber\": \"53\",\\n    \"toughness\": \"2\",\\n    \"multiverseid\": 129610,\\n    \"colorIdentity\": [\\n        \"W\"\\n    ]\\n}',),\n",
       " ('{\\n    \"id\": \"2a150336f2859e0618fb8944eba18ab38f2ec319\",\\n    \"cmc\": 3,\\n    \"name\": \"Venerable Monk\",\\n    \"text\": \"When Venerable Monk enters the b ... (470 characters truncated) ... geName\": \"venerable monk\",\\n    \"mciNumber\": \"55\",\\n    \"toughness\": \"2\",\\n    \"multiverseid\": 129786,\\n    \"colorIdentity\": [\\n        \"W\"\\n    ]\\n}',),\n",
       " ('{\\n    \"id\": \"42d7b5ee10f53943b20c7b26e78f310ed073b3ce\",\\n    \"cmc\": 2,\\n    \"name\": \"Youthful Knight\",\\n    \"text\": \"First strike\",\\n    \"type\": \"Cr ... (390 characters truncated) ... eName\": \"youthful knight\",\\n    \"mciNumber\": \"62\",\\n    \"toughness\": \"1\",\\n    \"multiverseid\": 129790,\\n    \"colorIdentity\": [\\n        \"W\"\\n    ]\\n}',),\n",
       " ('{\\n    \"id\": \"db90d06e83a53a230355a07d0047923b4bca3fdc\",\\n    \"cmc\": 3,\\n    \"name\": \"Academy Researchers\",\\n    \"text\": \"When Academy Researchers en ... (563 characters truncated) ... e\": \"academy researchers\",\\n    \"mciNumber\": \"63\",\\n    \"toughness\": \"2\",\\n    \"multiverseid\": 132072,\\n    \"colorIdentity\": [\\n        \"U\"\\n    ]\\n}',),\n",
       " ('{\\n    \"id\": \"ce13a779e8b19b332318164dc9f430e80183f20d\",\\n    \"cmc\": 3,\\n    \"name\": \"Crafty Pathmage\",\\n    \"text\": \"{T}: Target creature with power ... (480 characters truncated) ... eName\": \"crafty pathmage\",\\n    \"mciNumber\": \"77\",\\n    \"toughness\": \"1\",\\n    \"multiverseid\": 134758,\\n    \"colorIdentity\": [\\n        \"U\"\\n    ]\\n}',),\n",
       " ('{\\n    \"id\": \"cff229bcd955654661df25090da5450b1b388001\",\\n    \"cmc\": 1,\\n    \"name\": \"Fugitive Wizard\",\\n    \"type\": \"Creature — Human Wizard\",\\n     ... (396 characters truncated) ... eName\": \"fugitive wizard\",\\n    \"mciNumber\": \"86\",\\n    \"toughness\": \"1\",\\n    \"multiverseid\": 134762,\\n    \"colorIdentity\": [\\n        \"U\"\\n    ]\\n}',),\n",
       " ('{\\n    \"id\": \"fcbcb6d1ff52e627fc856c263651dae13f6a4421\",\\n    \"cmc\": 2,\\n    \"name\": \"Lumengrid Warden\",\\n    \"type\": \"Creature — Human Wizard\",\\n    ... (377 characters truncated) ... Name\": \"lumengrid warden\",\\n    \"mciNumber\": \"89\",\\n    \"toughness\": \"3\",\\n    \"multiverseid\": 129631,\\n    \"colorIdentity\": [\\n        \"U\"\\n    ]\\n}',),\n",
       " ('{\\n    \"id\": \"511521c2565f2cd283e55ae3a315e7f3d81aafd2\",\\n    \"cmc\": 3,\\n    \"name\": \"Puppeteer\",\\n    \"text\": \"{U}, {T}: You may tap or untap target ... (483 characters truncated) ...  \"imageName\": \"puppeteer\",\\n    \"mciNumber\": \"98\",\\n    \"toughness\": \"2\",\\n    \"multiverseid\": 129685,\\n    \"colorIdentity\": [\\n        \"U\"\\n    ]\\n}',),\n",
       " ('{\\n    \"id\": \"bddcf7aa01d7461b80ef29ae742dbdecfa0b4599\",\\n    \"cmc\": 3,\\n    \"name\": \"Doomed Necromancer\",\\n    \"text\": \"{B}, {T}, Sacrifice Doomed N ... (568 characters truncated) ... e\": \"doomed necromancer\",\\n    \"mciNumber\": \"137\",\\n    \"toughness\": \"2\",\\n    \"multiverseid\": 129880,\\n    \"colorIdentity\": [\\n        \"B\"\\n    ]\\n}',),\n",
       " ('{\\n    \"id\": \"7b97aa3fdc137aecd63013c886c1ef13c799d0dd\",\\n    \"cmc\": 4,\\n    \"name\": \"Highway Robber\",\\n    \"text\": \"When Highway Robber enters the b ... (491 characters truncated) ... eName\": \"highway robber\",\\n    \"mciNumber\": \"150\",\\n    \"toughness\": \"2\",\\n    \"multiverseid\": 129564,\\n    \"colorIdentity\": [\\n        \"B\"\\n    ]\\n}',),\n",
       " ('{\\n    \"id\": \"0fe05e5eb3938596e2b0a8f391b986143ae40560\",\\n    \"cmc\": 3,\\n    \"name\": \"Knight of Dusk\",\\n    \"text\": \"{B}{B}: Destroy target creature  ... (473 characters truncated) ... eName\": \"knight of dusk\",\\n    \"mciNumber\": \"152\",\\n    \"toughness\": \"2\",\\n    \"multiverseid\": 129574,\\n    \"colorIdentity\": [\\n        \"B\"\\n    ]\\n}',),\n",
       " ('{\\n    \"id\": \"1932dedad4fb0c7ffa6fa4c0369448086932bf82\",\\n    \"cmc\": 4,\\n    \"name\": \"Nekrataal\",\\n    \"text\": \"First strike\\\\nWhen Nekrataal enters  ... (526 characters truncated) ... \"imageName\": \"nekrataal\",\\n    \"mciNumber\": \"163\",\\n    \"toughness\": \"1\",\\n    \"multiverseid\": 129658,\\n    \"colorIdentity\": [\\n        \"B\"\\n    ]\\n}',),\n",
       " ('{\\n    \"id\": \"13a15ff5906760d350b3cccfd111a4038c10f1ad\",\\n    \"cmc\": 3,\\n    \"name\": \"Royal Assassin\",\\n    \"text\": \"{T}: Destroy target tapped creat ... (511 characters truncated) ... eName\": \"royal assassin\",\\n    \"mciNumber\": \"174\",\\n    \"toughness\": \"1\",\\n    \"multiverseid\": 129708,\\n    \"colorIdentity\": [\\n        \"B\"\\n    ]\\n}',),\n",
       " ('{\\n    \"id\": \"db7f0452f425b881882bab284f0f1dcd55692563\",\\n    \"cmc\": 6,\\n    \"name\": \"Kamahl, Pit Fighter\",\\n    \"text\": \"Haste (This creature can at ... (629 characters truncated) ... \\n    \"toughness\": \"1\",\\n    \"supertypes\": [\\n        \"Legendary\"\\n    ],\\n    \"multiverseid\": 106398,\\n    \"colorIdentity\": [\\n        \"R\"\\n    ]\\n}',),\n",
       " ('{\\n    \"id\": \"f880cda50e117ed00537404f49652acc0f5b069f\",\\n    \"cmc\": 3,\\n    \"name\": \"Prodigal Pyromancer\",\\n    \"text\": \"{T}: Prodigal Pyromancer de ... (460 characters truncated) ... \": \"prodigal pyromancer\",\\n    \"mciNumber\": \"221\",\\n    \"toughness\": \"1\",\\n    \"multiverseid\": 134752,\\n    \"colorIdentity\": [\\n        \"R\"\\n    ]\\n}',),\n",
       " ('{\\n    \"id\": \"a23020ef3d7b16ee40125759dd209ae68ae74bdd\",\\n    \"cmc\": 2,\\n    \"name\": \"Rage Weaver\",\\n    \"text\": \"{2}: Target black or green creature ... (471 characters truncated) ... mageName\": \"rage weaver\",\\n    \"mciNumber\": \"223\",\\n    \"toughness\": \"1\",\\n    \"multiverseid\": 130997,\\n    \"colorIdentity\": [\\n        \"R\"\\n    ]\\n}',),\n",
       " ('{\\n    \"id\": \"74564d565bf68dad3e2f69538aa2a38d5176d8b6\",\\n    \"cmc\": 3,\\n    \"name\": \"Femeref Archers\",\\n    \"text\": \"{T}: Femeref Archers deals 4 da ... (503 characters truncated) ... Name\": \"femeref archers\",\\n    \"mciNumber\": \"264\",\\n    \"toughness\": \"2\",\\n    \"multiverseid\": 135186,\\n    \"colorIdentity\": [\\n        \"G\"\\n    ]\\n}',),\n",
       " ('{\\n    \"id\": \"8c7e8589ec18d146250ae526f1b8a5e77560164e\",\\n    \"cmc\": 2,\\n    \"name\": \"Might Weaver\",\\n    \"text\": \"{2}: Target red or white creature  ... (605 characters truncated) ... ageName\": \"might weaver\",\\n    \"mciNumber\": \"278\",\\n    \"toughness\": \"1\",\\n    \"multiverseid\": 130996,\\n    \"colorIdentity\": [\\n        \"G\"\\n    ]\\n}',),\n",
       " ('{\\n    \"id\": \"63a772d948adbcbb6193d4161c0d91034d66352f\",\\n    \"cmc\": 3,\\n    \"name\": \"Yavimaya Enchantress\",\\n    \"text\": \"Yavimaya Enchantress gets  ... (470 characters truncated) ... : \"yavimaya enchantress\",\\n    \"mciNumber\": \"310\",\\n    \"toughness\": \"2\",\\n    \"multiverseid\": 130515,\\n    \"colorIdentity\": [\\n        \"G\"\\n    ]\\n}',),\n",
       " ('{\\n    \"id\": \"dfcbba84c0295c066dcd4b90c6d56fe355d31de7\",\\n    \"cmc\": 1,\\n    \"name\": \"Benalish Hero\",\\n    \"text\": \"Banding (Any creatures with bandi ... (823 characters truncated) ... imageName\": \"benalish hero\",\\n    \"mciNumber\": \"188\",\\n    \"toughness\": \"1\",\\n    \"multiverseid\": 832,\\n    \"colorIdentity\": [\\n        \"W\"\\n    ]\\n}',),\n",
       " ('{\\n    \"id\": \"f24ec5e526f0eeb1ea4ab50c7c5304cf99eabe6a\",\\n    \"cmc\": 2,\\n    \"name\": \"Black Knight\",\\n    \"text\": \"First strike (This creature deals  ... (653 characters truncated) ...   \"imageName\": \"black knight\",\\n    \"mciNumber\": \"3\",\\n    \"toughness\": \"2\",\\n    \"multiverseid\": 647,\\n    \"colorIdentity\": [\\n        \"B\"\\n    ]\\n}',),\n",
       " ('{\\n    \"id\": \"2afab74040b48f10127b759fef895f15b95b69f8\",\\n    \"cmc\": 4,\\n    \"name\": \"Keldon Warlord\",\\n    \"text\": \"Keldon Warlord\\'s power and toug ... (408 characters truncated) ... mageName\": \"keldon warlord\",\\n    \"mciNumber\": \"161\",\\n    \"toughness\": \"*\",\\n    \"multiverseid\": 805,\\n    \"colorIdentity\": [\\n        \"R\"\\n    ]\\n}',),\n",
       " ('{\\n    \"id\": \"41f323ffd66acf2b49a42fe1938a41b38e39f47a\",\\n    \"cmc\": 3,\\n    \"name\": \"Ley Druid\",\\n    \"text\": \"{T}: Untap target land.\",\\n    \"type\" ... (448 characters truncated) ...    \"imageName\": \"ley druid\",\\n    \"mciNumber\": \"114\",\\n    \"toughness\": \"1\",\\n    \"multiverseid\": 758,\\n    \"colorIdentity\": [\\n        \"G\"\\n    ]\\n}',),\n",
       " ('{\\n    \"id\": \"272bbf35a93b7fa6dfac5611e947d99fb8a577ce\",\\n    \"cmc\": 4,\\n    \"name\": \"Northern Paladin\",\\n    \"text\": \"{W}{W}, {T}: Destroy target bl ... (444 characters truncated) ... geName\": \"northern paladin\",\\n    \"mciNumber\": \"214\",\\n    \"toughness\": \"3\",\\n    \"multiverseid\": 858,\\n    \"colorIdentity\": [\\n        \"W\"\\n    ]\\n}',),\n",
       " ('{\\n    \"id\": \"6dc7971e9a032acbeadef5c2ca8d8ff9ba03ee52\",\\n    \"cmc\": 5,\\n    \"name\": \"Pirate Ship\",\\n    \"text\": \"Pirate Ship can\\'t attack unless de ... (474 characters truncated) ...   \"imageName\": \"pirate ship\",\\n    \"mciNumber\": \"71\",\\n    \"toughness\": \"3\",\\n    \"multiverseid\": 715,\\n    \"colorIdentity\": [\\n        \"U\"\\n    ]\\n}',),\n",
       " ('{\\n    \"id\": \"f10133251233cd8e63f695df3df3ea71c312c638\",\\n    \"cmc\": 3,\\n    \"name\": \"Prodigal Sorcerer\",\\n    \"text\": \"{T}: Prodigal Sorcerer deals  ... (528 characters truncated) ... geName\": \"prodigal sorcerer\",\\n    \"mciNumber\": \"74\",\\n    \"toughness\": \"1\",\\n    \"multiverseid\": 718,\\n    \"colorIdentity\": [\\n        \"U\"\\n    ]\\n}',),\n",
       " ('{\\n    \"id\": \"dfe369e05ff9c5a09070512200257867f4a3aa52\",\\n    \"cmc\": 3,\\n    \"name\": \"Royal Assassin\",\\n    \"text\": \"{T}: Destroy target tapped creat ... (496 characters truncated) ... imageName\": \"royal assassin\",\\n    \"mciNumber\": \"32\",\\n    \"toughness\": \"1\",\\n    \"multiverseid\": 676,\\n    \"colorIdentity\": [\\n        \"B\"\\n    ]\\n}',),\n",
       " ('{\\n    \"id\": \"0961feb62ad39ccbdab674f30c1e1957abe88d96\",\\n    \"cmc\": 2,\\n    \"name\": \"Samite Healer\",\\n    \"text\": \"{T}: Prevent the next 1 damage th ... (570 characters truncated) ... imageName\": \"samite healer\",\\n    \"mciNumber\": \"222\",\\n    \"toughness\": \"1\",\\n    \"multiverseid\": 866,\\n    \"colorIdentity\": [\\n        \"W\"\\n    ]\\n}',),\n",
       " ('{\\n    \"id\": \"279fb871edaadf3a1af4633a6adddbea4795da3e\",\\n    \"cmc\": 3,\\n    \"name\": \"Verduran Enchantress\",\\n    \"text\": \"Whenever you cast an encha ... (478 characters truncated) ... me\": \"verduran enchantress\",\\n    \"mciNumber\": \"131\",\\n    \"toughness\": \"2\",\\n    \"multiverseid\": 775,\\n    \"colorIdentity\": [\\n        \"G\"\\n    ]\\n}',),\n",
       " ('{\\n    \"id\": \"cdecfb0617f68824298f64efa89b64b6d9e0c628\",\\n    \"cmc\": 5,\\n    \"name\": \"Veteran Bodyguard\",\\n    \"text\": \"As long as Veteran Bodyguard  ... (531 characters truncated) ... eName\": \"veteran bodyguard\",\\n    \"mciNumber\": \"226\",\\n    \"toughness\": \"5\",\\n    \"multiverseid\": 870,\\n    \"colorIdentity\": [\\n        \"W\"\\n    ]\\n}',),\n",
       " ('{\\n    \"id\": \"984f9cc3f0f39f83682b6bf385335d4bca725d62\",\\n    \"cmc\": 2,\\n    \"name\": \"White Knight\",\\n    \"text\": \"First strike (This creature deals  ... (710 characters truncated) ... \"imageName\": \"white knight\",\\n    \"mciNumber\": \"228\",\\n    \"toughness\": \"2\",\\n    \"multiverseid\": 872,\\n    \"colorIdentity\": [\\n        \"W\"\\n    ]\\n}',),\n",
       " ('{\\n    \"id\": \"9470ff35546446805fb3abfbab7a84a0774b6290\",\\n    \"cmc\": 1,\\n    \"name\": \"Benalish Hero\",\\n    \"text\": \"Banding (Any creatures with bandi ... (824 characters truncated) ... mageName\": \"benalish hero\",\\n    \"mciNumber\": \"188\",\\n    \"toughness\": \"1\",\\n    \"multiverseid\": 1330,\\n    \"colorIdentity\": [\\n        \"W\"\\n    ]\\n}',),\n",
       " ('{\\n    \"id\": \"fa58ebb0bd26da48d4867afb657d7fc5ad36402a\",\\n    \"cmc\": 2,\\n    \"name\": \"Black Knight\",\\n    \"text\": \"First strike (This creature deals  ... (654 characters truncated) ...  \"imageName\": \"black knight\",\\n    \"mciNumber\": \"3\",\\n    \"toughness\": \"2\",\\n    \"multiverseid\": 1145,\\n    \"colorIdentity\": [\\n        \"B\"\\n    ]\\n}',)]"
      ]
     },
     "execution_count": 16,
     "metadata": {},
     "output_type": "execute_result"
    }
   ],
   "source": [
    "%sql SELECT jsonb_pretty(data) FROM cards WHERE data @> '{\"subtypes\":[\"Human\"]}'  LIMIT 50;"
   ]
  },
  {
   "cell_type": "markdown",
   "metadata": {},
   "source": [
    "### C) Group all the cards based on the colour. Aggregate them by counting the number of cards per colour."
   ]
  },
  {
   "cell_type": "code",
   "execution_count": 5,
   "metadata": {},
   "outputs": [
    {
     "name": "stdout",
     "output_type": "stream",
     "text": [
      "32 rows affected.\n"
     ]
    }
   ],
   "source": [
    "cardsByColor = %sql SELECT jsonb_pretty(data -> 'colors') as colors, count(*) FROM cards GROUP BY colors ORDER BY count(*) DESC;"
   ]
  },
  {
   "cell_type": "code",
   "execution_count": 28,
   "metadata": {},
   "outputs": [
    {
     "data": {
      "text/html": [
       "<table>\n",
       "    <tr>\n",
       "        <th>colors</th>\n",
       "        <th>count</th>\n",
       "    </tr>\n",
       "    <tr>\n",
       "        <td>None</td>\n",
       "        <td>7391</td>\n",
       "    </tr>\n",
       "    <tr>\n",
       "        <td>[<br>    &quot;Green&quot;<br>]</td>\n",
       "        <td>4977</td>\n",
       "    </tr>\n",
       "    <tr>\n",
       "        <td>[<br>    &quot;Black&quot;<br>]</td>\n",
       "        <td>4877</td>\n",
       "    </tr>\n",
       "    <tr>\n",
       "        <td>[<br>    &quot;Red&quot;<br>]</td>\n",
       "        <td>4858</td>\n",
       "    </tr>\n",
       "    <tr>\n",
       "        <td>[<br>    &quot;White&quot;<br>]</td>\n",
       "        <td>4755</td>\n",
       "    </tr>\n",
       "    <tr>\n",
       "        <td>[<br>    &quot;Blue&quot;<br>]</td>\n",
       "        <td>4680</td>\n",
       "    </tr>\n",
       "    <tr>\n",
       "        <td>[<br>    &quot;White&quot;,<br>    &quot;Green&quot;<br>]</td>\n",
       "        <td>276</td>\n",
       "    </tr>\n",
       "    <tr>\n",
       "        <td>[<br>    &quot;Red&quot;,<br>    &quot;Green&quot;<br>]</td>\n",
       "        <td>273</td>\n",
       "    </tr>\n",
       "    <tr>\n",
       "        <td>[<br>    &quot;Blue&quot;,<br>    &quot;Black&quot;<br>]</td>\n",
       "        <td>260</td>\n",
       "    </tr>\n",
       "    <tr>\n",
       "        <td>[<br>    &quot;Black&quot;,<br>    &quot;Red&quot;<br>]</td>\n",
       "        <td>258</td>\n",
       "    </tr>\n",
       "    <tr>\n",
       "        <td>[<br>    &quot;White&quot;,<br>    &quot;Blue&quot;<br>]</td>\n",
       "        <td>245</td>\n",
       "    </tr>\n",
       "    <tr>\n",
       "        <td>[<br>    &quot;Black&quot;,<br>    &quot;Green&quot;<br>]</td>\n",
       "        <td>185</td>\n",
       "    </tr>\n",
       "    <tr>\n",
       "        <td>[<br>    &quot;Blue&quot;,<br>    &quot;Red&quot;<br>]</td>\n",
       "        <td>182</td>\n",
       "    </tr>\n",
       "    <tr>\n",
       "        <td>[<br>    &quot;White&quot;,<br>    &quot;Red&quot;<br>]</td>\n",
       "        <td>178</td>\n",
       "    </tr>\n",
       "    <tr>\n",
       "        <td>[<br>    &quot;White&quot;,<br>    &quot;Black&quot;<br>]</td>\n",
       "        <td>174</td>\n",
       "    </tr>\n",
       "    <tr>\n",
       "        <td>[<br>    &quot;Blue&quot;,<br>    &quot;Green&quot;<br>]</td>\n",
       "        <td>169</td>\n",
       "    </tr>\n",
       "    <tr>\n",
       "        <td>[<br>    &quot;Blue&quot;,<br>    &quot;Black&quot;,<br>    &quot;Red&quot;<br>]</td>\n",
       "        <td>73</td>\n",
       "    </tr>\n",
       "    <tr>\n",
       "        <td>[<br>    &quot;White&quot;,<br>    &quot;Blue&quot;,<br>    &quot;Black&quot;<br>]</td>\n",
       "        <td>57</td>\n",
       "    </tr>\n",
       "    <tr>\n",
       "        <td>[<br>    &quot;White&quot;,<br>    &quot;Red&quot;,<br>    &quot;Green&quot;<br>]</td>\n",
       "        <td>54</td>\n",
       "    </tr>\n",
       "    <tr>\n",
       "        <td>[<br>    &quot;White&quot;,<br>    &quot;Blue&quot;,<br>    &quot;Green&quot;<br>]</td>\n",
       "        <td>53</td>\n",
       "    </tr>\n",
       "    <tr>\n",
       "        <td>[<br>    &quot;Black&quot;,<br>    &quot;Red&quot;,<br>    &quot;Green&quot;<br>]</td>\n",
       "        <td>52</td>\n",
       "    </tr>\n",
       "    <tr>\n",
       "        <td>[<br>    &quot;White&quot;,<br>    &quot;Blue&quot;,<br>    &quot;Black&quot;,<br>    &quot;Red&quot;,<br>    &quot;Green&quot;<br>]</td>\n",
       "        <td>37</td>\n",
       "    </tr>\n",
       "    <tr>\n",
       "        <td>[<br>    &quot;White&quot;,<br>    &quot;Black&quot;,<br>    &quot;Red&quot;<br>]</td>\n",
       "        <td>33</td>\n",
       "    </tr>\n",
       "    <tr>\n",
       "        <td>[<br>    &quot;White&quot;,<br>    &quot;Black&quot;,<br>    &quot;Green&quot;<br>]</td>\n",
       "        <td>28</td>\n",
       "    </tr>\n",
       "    <tr>\n",
       "        <td>[<br>    &quot;Blue&quot;,<br>    &quot;Red&quot;,<br>    &quot;Green&quot;<br>]</td>\n",
       "        <td>25</td>\n",
       "    </tr>\n",
       "    <tr>\n",
       "        <td>[<br>    &quot;Blue&quot;,<br>    &quot;Black&quot;,<br>    &quot;Green&quot;<br>]</td>\n",
       "        <td>24</td>\n",
       "    </tr>\n",
       "    <tr>\n",
       "        <td>[<br>    &quot;White&quot;,<br>    &quot;Blue&quot;,<br>    &quot;Red&quot;<br>]</td>\n",
       "        <td>22</td>\n",
       "    </tr>\n",
       "    <tr>\n",
       "        <td>[<br>    &quot;Blue&quot;,<br>    &quot;Black&quot;,<br>    &quot;Red&quot;,<br>    &quot;Green&quot;<br>]</td>\n",
       "        <td>3</td>\n",
       "    </tr>\n",
       "    <tr>\n",
       "        <td>[<br>    &quot;White&quot;,<br>    &quot;Blue&quot;,<br>    &quot;Black&quot;,<br>    &quot;Red&quot;<br>]</td>\n",
       "        <td>2</td>\n",
       "    </tr>\n",
       "    <tr>\n",
       "        <td>[<br>    &quot;White&quot;,<br>    &quot;Blue&quot;,<br>    &quot;Red&quot;,<br>    &quot;Green&quot;<br>]</td>\n",
       "        <td>2</td>\n",
       "    </tr>\n",
       "    <tr>\n",
       "        <td>[<br>    &quot;White&quot;,<br>    &quot;Blue&quot;,<br>    &quot;Black&quot;,<br>    &quot;Green&quot;<br>]</td>\n",
       "        <td>2</td>\n",
       "    </tr>\n",
       "    <tr>\n",
       "        <td>[<br>    &quot;White&quot;,<br>    &quot;Black&quot;,<br>    &quot;Red&quot;,<br>    &quot;Green&quot;<br>]</td>\n",
       "        <td>2</td>\n",
       "    </tr>\n",
       "</table>"
      ],
      "text/plain": [
       "[(None, 7391),\n",
       " ('[\\n    \"Green\"\\n]', 4977),\n",
       " ('[\\n    \"Black\"\\n]', 4877),\n",
       " ('[\\n    \"Red\"\\n]', 4858),\n",
       " ('[\\n    \"White\"\\n]', 4755),\n",
       " ('[\\n    \"Blue\"\\n]', 4680),\n",
       " ('[\\n    \"White\",\\n    \"Green\"\\n]', 276),\n",
       " ('[\\n    \"Red\",\\n    \"Green\"\\n]', 273),\n",
       " ('[\\n    \"Blue\",\\n    \"Black\"\\n]', 260),\n",
       " ('[\\n    \"Black\",\\n    \"Red\"\\n]', 258),\n",
       " ('[\\n    \"White\",\\n    \"Blue\"\\n]', 245),\n",
       " ('[\\n    \"Black\",\\n    \"Green\"\\n]', 185),\n",
       " ('[\\n    \"Blue\",\\n    \"Red\"\\n]', 182),\n",
       " ('[\\n    \"White\",\\n    \"Red\"\\n]', 178),\n",
       " ('[\\n    \"White\",\\n    \"Black\"\\n]', 174),\n",
       " ('[\\n    \"Blue\",\\n    \"Green\"\\n]', 169),\n",
       " ('[\\n    \"Blue\",\\n    \"Black\",\\n    \"Red\"\\n]', 73),\n",
       " ('[\\n    \"White\",\\n    \"Blue\",\\n    \"Black\"\\n]', 57),\n",
       " ('[\\n    \"White\",\\n    \"Red\",\\n    \"Green\"\\n]', 54),\n",
       " ('[\\n    \"White\",\\n    \"Blue\",\\n    \"Green\"\\n]', 53),\n",
       " ('[\\n    \"Black\",\\n    \"Red\",\\n    \"Green\"\\n]', 52),\n",
       " ('[\\n    \"White\",\\n    \"Blue\",\\n    \"Black\",\\n    \"Red\",\\n    \"Green\"\\n]', 37),\n",
       " ('[\\n    \"White\",\\n    \"Black\",\\n    \"Red\"\\n]', 33),\n",
       " ('[\\n    \"White\",\\n    \"Black\",\\n    \"Green\"\\n]', 28),\n",
       " ('[\\n    \"Blue\",\\n    \"Red\",\\n    \"Green\"\\n]', 25),\n",
       " ('[\\n    \"Blue\",\\n    \"Black\",\\n    \"Green\"\\n]', 24),\n",
       " ('[\\n    \"White\",\\n    \"Blue\",\\n    \"Red\"\\n]', 22),\n",
       " ('[\\n    \"Blue\",\\n    \"Black\",\\n    \"Red\",\\n    \"Green\"\\n]', 3),\n",
       " ('[\\n    \"White\",\\n    \"Blue\",\\n    \"Black\",\\n    \"Red\"\\n]', 2),\n",
       " ('[\\n    \"White\",\\n    \"Blue\",\\n    \"Red\",\\n    \"Green\"\\n]', 2),\n",
       " ('[\\n    \"White\",\\n    \"Blue\",\\n    \"Black\",\\n    \"Green\"\\n]', 2),\n",
       " ('[\\n    \"White\",\\n    \"Black\",\\n    \"Red\",\\n    \"Green\"\\n]', 2)]"
      ]
     },
     "execution_count": 28,
     "metadata": {},
     "output_type": "execute_result"
    }
   ],
   "source": [
    "cardsByColor"
   ]
  },
  {
   "cell_type": "code",
   "execution_count": 145,
   "metadata": {},
   "outputs": [
    {
     "data": {
      "text/plain": [
       "<Container object of 32 artists>"
      ]
     },
     "execution_count": 145,
     "metadata": {},
     "output_type": "execute_result"
    },
    {
     "data": {
      "image/png": "[encoded data removed]",
      "text/plain": [
       "<matplotlib.figure.Figure at 0x7f84582eaba8>"
      ]
     },
     "metadata": {},
     "output_type": "display_data"
    }
   ],
   "source": [
    "cardsByColor.bar()"
   ]
  },
  {
   "cell_type": "markdown",
   "metadata": {},
   "source": [
    "Very hideous representation, but unfortunately I didn't have any luck with `matplotlib.pyplot.hist`. "
   ]
  }
 ],
 "metadata": {
  "kernelspec": {
   "display_name": "Python 3",
   "language": "python",
   "name": "python3"
  },
  "language_info": {
   "codemirror_mode": {
    "name": "ipython",
    "version": 3
   },
   "file_extension": ".py",
   "mimetype": "text/x-python",
   "name": "python",
   "nbconvert_exporter": "python",
   "pygments_lexer": "ipython3",
   "version": "3.6.3"
  }
 },
 "nbformat": 4,
 "nbformat_minor": 2
}
